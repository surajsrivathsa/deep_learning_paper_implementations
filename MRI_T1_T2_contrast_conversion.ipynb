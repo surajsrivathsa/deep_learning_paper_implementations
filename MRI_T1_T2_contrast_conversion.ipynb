{
  "nbformat": 4,
  "nbformat_minor": 0,
  "metadata": {
    "colab": {
      "name": " IRDL demo2.ipynb",
      "provenance": [],
      "collapsed_sections": [
        "MY3L4BgWErDD",
        "2CZwjwuFKrkq",
        "PFlEprw2EBhN",
        "eUJDX_cSQzmD",
        "sJg1oVeL_fx-",
        "YWUH-LWmB7C8",
        "KWaacZ9vBOhH",
        "ohrGF7DVMHvW",
        "7pgalR2WwXYl",
        "JjLhgFOxvQVM",
        "HzuCuwKid_zF"
      ],
      "include_colab_link": true
    },
    "kernelspec": {
      "name": "python3",
      "display_name": "Python 3"
    },
    "accelerator": "GPU"
  },
  "cells": [
    {
      "cell_type": "markdown",
      "metadata": {
        "id": "view-in-github",
        "colab_type": "text"
      },
      "source": [
        "<a href=\"https://colab.research.google.com/github/surajsrivathsa/deep_learning_paper_implementations/blob/master/MRI_T1_T2_contrast_conversion.ipynb\" target=\"_parent\"><img src=\"https://colab.research.google.com/assets/colab-badge.svg\" alt=\"Open In Colab\"/></a>"
      ]
    },
    {
      "cell_type": "markdown",
      "metadata": {
        "id": "MY3L4BgWErDD",
        "colab_type": "text"
      },
      "source": [
        "# **Program setup**\n",
        "\n",
        "1. Setup and mount relevant drive paths that has images, models etc\n",
        "2. Import libraries and download them if they are not existing.\n",
        "3. Read the image folders of T1 and T2 and put their paths in a list for further procesisng."
      ]
    },
    {
      "cell_type": "code",
      "metadata": {
        "id": "Uq_6yMTZ-ne9",
        "colab_type": "code",
        "colab": {
          "base_uri": "https://localhost:8080/",
          "height": 125
        },
        "outputId": "249f260d-d13d-49b8-bbd7-df290bc3bfb1"
      },
      "source": [
        "from google.colab import drive\n",
        "drive.mount('/content/drive')"
      ],
      "execution_count": null,
      "outputs": [
        {
          "output_type": "stream",
          "text": [
            "Go to this URL in a browser: https://accounts.google.com/o/oauth2/auth?client_id=947318989803-6bn6qk8qdgf4n4g3pfee6491hc0brc4i.apps.googleusercontent.com&redirect_uri=urn%3aietf%3awg%3aoauth%3a2.0%3aoob&scope=email%20https%3a%2f%2fwww.googleapis.com%2fauth%2fdocs.test%20https%3a%2f%2fwww.googleapis.com%2fauth%2fdrive%20https%3a%2f%2fwww.googleapis.com%2fauth%2fdrive.photos.readonly%20https%3a%2f%2fwww.googleapis.com%2fauth%2fpeopleapi.readonly&response_type=code\n",
            "\n",
            "Enter your authorization code:\n",
            "··········\n",
            "Mounted at /content/drive\n"
          ],
          "name": "stdout"
        }
      ]
    },
    {
      "cell_type": "code",
      "metadata": {
        "id": "3dv5PKOr8c9M",
        "colab_type": "code",
        "colab": {
          "base_uri": "https://localhost:8080/",
          "height": 212
        },
        "outputId": "70c236e8-dd6b-454c-aea2-67f6980e89eb"
      },
      "source": [
        "# importing necessary libraries\n",
        "\n",
        "!pip install nilearn\n",
        "import torch\n",
        "import os\n",
        "os.chdir(\"/content/drive/My Drive/Colab Notebooks/ImageRegistrationUsingDeepLearning/\")\n",
        "from nilearn.image import resample_img\n",
        "import pylab as plt\n",
        "import nibabel as nb\n",
        "import numpy as np\n",
        "import torch\n",
        "import numpy as np\n",
        "from torchvision import datasets\n",
        "from torchvision import transforms\n",
        "from torch.utils.data.sampler import SubsetRandomSampler"
      ],
      "execution_count": null,
      "outputs": [
        {
          "output_type": "stream",
          "text": [
            "Collecting nilearn\n",
            "\u001b[?25l  Downloading https://files.pythonhosted.org/packages/b9/c2/f5f1bdd37a3da28b3b34305e4ba27cce468db6073998d62a38abd0e281da/nilearn-0.6.2-py3-none-any.whl (2.5MB)\n",
            "\u001b[K     |████████████████████████████████| 2.5MB 4.3MB/s \n",
            "\u001b[?25hRequirement already satisfied: scikit-learn>=0.19 in /usr/local/lib/python3.6/dist-packages (from nilearn) (0.22.2.post1)\n",
            "Requirement already satisfied: nibabel>=2.0.2 in /usr/local/lib/python3.6/dist-packages (from nilearn) (3.0.2)\n",
            "Requirement already satisfied: joblib>=0.11 in /usr/local/lib/python3.6/dist-packages (from nilearn) (0.16.0)\n",
            "Requirement already satisfied: scipy>=0.19 in /usr/local/lib/python3.6/dist-packages (from nilearn) (1.4.1)\n",
            "Requirement already satisfied: sklearn in /usr/local/lib/python3.6/dist-packages (from nilearn) (0.0)\n",
            "Requirement already satisfied: numpy>=1.11 in /usr/local/lib/python3.6/dist-packages (from nilearn) (1.18.5)\n",
            "Installing collected packages: nilearn\n",
            "Successfully installed nilearn-0.6.2\n"
          ],
          "name": "stdout"
        }
      ]
    },
    {
      "cell_type": "code",
      "metadata": {
        "id": "yqQYNGa7wco4",
        "colab_type": "code",
        "colab": {
          "base_uri": "https://localhost:8080/",
          "height": 105
        },
        "outputId": "ddcf8f5f-0c5f-42e2-e40a-4f07a5b9a190"
      },
      "source": [
        "!pip install SimpleITK\n",
        "import SimpleITK as sitk"
      ],
      "execution_count": null,
      "outputs": [
        {
          "output_type": "stream",
          "text": [
            "Collecting SimpleITK\n",
            "\u001b[?25l  Downloading https://files.pythonhosted.org/packages/f8/d8/53338c34f71020725ffb3557846c80af96c29c03bc883551a2565aa68a7c/SimpleITK-1.2.4-cp36-cp36m-manylinux1_x86_64.whl (42.5MB)\n",
            "\u001b[K     |████████████████████████████████| 42.5MB 72kB/s \n",
            "\u001b[?25hInstalling collected packages: SimpleITK\n",
            "Successfully installed SimpleITK-1.2.4\n"
          ],
          "name": "stdout"
        }
      ]
    },
    {
      "cell_type": "code",
      "metadata": {
        "id": "jHk6NZKporr0",
        "colab_type": "code",
        "colab": {}
      },
      "source": [
        "\n",
        "import numpy as np # linear algebra\n",
        "import pandas as pd # data processing, CSV file I/O (e.g. pd.read_csv)\n",
        "import os\n",
        "from statistics import mean\n",
        "from torch.autograd import Variable\n",
        "import time\n",
        "from PIL import Image\n",
        "import random\n",
        "from skimage import io, transform\n",
        "from collections import OrderedDict\n",
        "import numpy as np\n",
        "import torch\n",
        "import torch.nn.functional as F\n",
        "import torch.nn as nn\n",
        "import torch.optim as optim\n",
        "from torch.utils.data import Dataset, DataLoader, random_split\n",
        "from torchvision import transforms, utils\n",
        "from torch import nn\n",
        "from torchsummary import summary\n",
        "import torch\n",
        "from torch.autograd import Variable\n",
        "from torch.nn import Linear, ReLU, CrossEntropyLoss, Sequential, Conv3d, MaxPool3d, Module, Softmax, BatchNorm3d, Dropout\n",
        "from torch.optim import Adam, SGD\n",
        "from matplotlib import pyplot as plt\n",
        "from skimage import io, transform\n",
        "device = torch.device('cuda:0' if torch.cuda.is_available() else 'cpu')\n",
        "# Any results you write to the current directory are saved as output."
      ],
      "execution_count": null,
      "outputs": []
    },
    {
      "cell_type": "code",
      "metadata": {
        "id": "AE2bLlLEUSCa",
        "colab_type": "code",
        "colab": {}
      },
      "source": [
        "import torch\n",
        "from torch.autograd import Variable "
      ],
      "execution_count": null,
      "outputs": []
    },
    {
      "cell_type": "markdown",
      "metadata": {
        "id": "2CZwjwuFKrkq",
        "colab_type": "text"
      },
      "source": [
        "# **Create a custom dataset, patches class and dataloader for nii images**\n",
        "\n",
        "**Custom Dataset and Dataloader**\n",
        "\n",
        "1. Extend torch.dataset and dataloader and use it as our own nii data\n",
        "2. in Init initialize any transforms like cropping/padding/rotation. Currently we have not applied any transform, but one can be applied to patches.\n",
        "3. in len function get length of dataset\n",
        "4. getitem(index) returns image and label of each image and applied initialized transforms like cropping/rotation/patching.\n",
        "5. Pipe it to data loader and use less batches to save memory.\n",
        "\n",
        "\n",
        "**Patching**\n",
        "\n",
        "1. Extract cube patches of (32 * 32 * 32) from T1 and T2 images correspondingly.\n",
        "2. Each cube patch of T1 must correspond to patch of T2\n",
        "3. (T1_patch, T2_patch) should be returned by __getitem__(index) function.\n",
        "\n",
        "**Bugs**\n",
        "\n",
        "1. Currently we have implemented custom dataset class in such a way that it can work only on single image, this has to be changed to take care of multiple images.\n",
        "\n",
        "\n",
        "**References**:\n",
        "1. Create custom dataset: https://github.com/utkuozbulak/pytorch-custom-dataset-examples\n",
        "\n",
        "2. Patching of 3d data: https://discuss.pytorch.org/t/creating-3d-dataset-dataloader-with-patches/50861\n",
        "\n",
        "3. Basic data transform reference: https://colab.research.google.com/drive/112NTL8uJXzcMw4PQbUvMQN-WHlVwQS3i#scrollTo=p-V_kHC5BvST\n"
      ]
    },
    {
      "cell_type": "code",
      "metadata": {
        "id": "E0Pv6g5w_YgP",
        "colab_type": "code",
        "colab": {}
      },
      "source": [
        "#  setting the directory path for T1 and T2 weighted images\n",
        "\n",
        "from pathlib import Path\n",
        "dataset_dir = Path('/content/drive/My Drive/Colab Notebooks/ImageRegistrationUsingDeepLearning')\n",
        "images_dir_t1 = dataset_dir / 'IXI-T1'\n",
        "image_paths_t1 = sorted(images_dir_t1.glob('*.nii.gz'))\n",
        "\n",
        "images_dir_t2 = dataset_dir / 'IXI-T2'\n",
        "image_paths_t2 = sorted(images_dir_t2.glob('*.nii.gz'))"
      ],
      "execution_count": null,
      "outputs": []
    },
    {
      "cell_type": "code",
      "metadata": {
        "id": "Lc42CKOUmMUm",
        "colab_type": "code",
        "colab": {}
      },
      "source": [
        "class UnfoldData:\n",
        "  def __init__(self, T1_folder_path, T2_folder_path, patch_size=32):\n",
        "        # stuff\n",
        "        self.transforms = transforms\n",
        "        self.T1_folder_path = T1_folder_path\n",
        "        self.T2_folder_path = T2_folder_path\n",
        "        self.length_of_T1= len(T1_folder_path)\n",
        "        self.patch_size = patch_size\n",
        "\n",
        "  def create_patches(self):\n",
        "    len_of_input_examples = len(self.T1_folder_path)\n",
        "    final_concatenated_t1_patches = None\n",
        "    final_concatenated_t2_patches = None\n",
        "\n",
        "    for i in range(len_of_input_examples):\n",
        "      lst1, lst2 = self.unfold_individual_tensor(i)\n",
        "      cnct_lst1 = torch.cat(lst1,dim = 0)\n",
        "      cnct_lst2 = torch.cat(lst2,dim = 0)\n",
        "\n",
        "      if( i == 0):\n",
        "        final_concatenated_t1_patches = cnct_lst1\n",
        "        final_concatenated_t2_patches = cnct_lst2\n",
        "      elif(i > 0):\n",
        "        final_concatenated_t1_patches = torch.cat([final_concatenated_t1_patches, cnct_lst1], dim = 0)\n",
        "        final_concatenated_t2_patches = torch.cat([final_concatenated_t2_patches, cnct_lst2], dim = 0)\n",
        "\n",
        "    #Adding a channel dimension of 1 which is to represent gray scale cube\n",
        "    final_concatenated_t1_patches = final_concatenated_t1_patches[:,None,:,:,:]\n",
        "    final_concatenated_t2_patches = final_concatenated_t2_patches[:,None,:,:,:]\n",
        "\n",
        "    print(\"Shape of Final concatenated patches of all the images of T1: {}\".format(str(final_concatenated_t1_patches.shape)))\n",
        "    print(\"Shape of Final concatenated patches of all the images of T2: {}\".format(str(final_concatenated_t2_patches.shape)))\n",
        "\n",
        "    return (final_concatenated_t1_patches, final_concatenated_t2_patches)\n",
        "\n",
        "  def unfold_individual_tensor(self, index):\n",
        "\n",
        "        list_of_t1_patch_tensors = []\n",
        "        list_of_t2_patch_tensors = []\n",
        "\n",
        "        # read from T1 and T2 paths\n",
        "        orig_nii_t1 = nb.load(str(self.T1_folder_path[index]))\n",
        "        orig_nii_t2 = nb.load(str(self.T2_folder_path[index]))\n",
        "        \n",
        "        \n",
        "        t1_img_np = np.array(orig_nii_t1.dataobj)\n",
        "        t2_img_np = np.array(orig_nii_t2.dataobj)\n",
        "\n",
        "        t1_img_tnsr = torch.from_numpy(t1_img_np)        \n",
        "        t2_img_tnsr = torch.from_numpy(t2_img_np)  \n",
        "        \n",
        "        t1_last_dim = t1_img_tnsr.shape[2]\n",
        "        t2_last_dim = t2_img_tnsr.shape[2]\n",
        "\n",
        "        #Default assumption is that the last dim of all images are not above 170, else change the below function to include crop\n",
        "        \"\"\"\n",
        "        Most of the T2 images and T1 images vary a bit in the last dim, The max value of the dim we found is around 160\n",
        "        So pad all the values to get common dim 170.\n",
        "        Without this number of patches can vary for each image if its dim changes\n",
        "\n",
        "        Example:\n",
        "        torch.Size([256, 256, 150])\n",
        "        torch.Size([256, 256, 130])\n",
        "        0 torch.Size([2304, 16, 16, 16]) torch.Size([2048, 16, 16, 16])\n",
        "        torch.Size([256, 256, 150])\n",
        "        torch.Size([256, 256, 112])\n",
        "        1 torch.Size([2304, 16, 16, 16]) torch.Size([1792, 16, 16, 16])\n",
        "        torch.Size([256, 256, 150])\n",
        "        torch.Size([256, 256, 116])\n",
        "        2 torch.Size([2304, 16, 16, 16]) torch.Size([1792, 16, 16, 16])\n",
        "        torch.Size([256, 256, 150])\n",
        "        torch.Size([256, 256, 28])\n",
        "        3 torch.Size([2304, 16, 16, 16]) torch.Size([256, 16, 16, 16])\n",
        "        torch.Size([256, 256, 150])\n",
        "        torch.Size([256, 256, 120])\n",
        "        4 torch.Size([2304, 16, 16, 16]) torch.Size([1792, 16, 16, 16])\n",
        "        \"\"\"\n",
        "        \n",
        "        t1_img_tnsr = torch.nn.functional.pad(t1_img_tnsr, (0, 170-t1_last_dim),mode=\"constant\")\n",
        "        t2_img_tnsr = torch.nn.functional.pad(t2_img_tnsr, (0, 170-t2_last_dim),mode=\"constant\")\n",
        "\n",
        "\n",
        "        t1_patches = t1_img_tnsr.unfold(2, self.patch_size, self.patch_size).unfold(1, self.patch_size, self.patch_size).unfold(0, self.patch_size, self.patch_size)\n",
        "        t1_patches = t1_patches.contiguous().view(-1, self.patch_size, self.patch_size, self.patch_size)\n",
        "\n",
        "        t2_patches = t2_img_tnsr.unfold(2, self.patch_size, self.patch_size).unfold(1, self.patch_size, self.patch_size).unfold(0, self.patch_size, self.patch_size)\n",
        "        t2_patches = t2_patches.contiguous().view(-1, self.patch_size, self.patch_size, self.patch_size)\n",
        "        \n",
        "        \"\"\"\n",
        "        Adding a dummy channel dimension in between patches and height as channel is grayscale and required in downstream\n",
        "        This is not added before patching as with dim as 1, patch creation is not easy.\n",
        "        Example: [320, 32, 32, 32] ===> [320, 1, 32, 32, 32]\n",
        "        \"\"\"\n",
        "\n",
        "        t1_patches = t1_patches[:,None,:,:]\n",
        "        t2_patches = t2_patches[:,None,:,:]\n",
        "\n",
        "        num_of_patches_t1 = t1_patches.shape[0]\n",
        "        num_of_patches_t2 = t2_patches.shape[0]\n",
        "\n",
        "        # Append all the tensors of [1,1,32(patch size),32,32] into a list\n",
        "        for i in range(num_of_patches_t1):           \n",
        "            list_of_t1_patch_tensors.append(t1_patches[i,:,:,:,:])\n",
        "\n",
        "        for i in range(num_of_patches_t2):           \n",
        "            list_of_t2_patch_tensors.append(t2_patches[i,:,:,:,:])\n",
        "\n",
        "        return (list_of_t1_patch_tensors, list_of_t2_patch_tensors)\n"
      ],
      "execution_count": null,
      "outputs": []
    },
    {
      "cell_type": "markdown",
      "metadata": {
        "id": "KOC0t37pvGky",
        "colab_type": "text"
      },
      "source": [
        "**Took First four images as training and n3ext 3 images as testing**"
      ]
    },
    {
      "cell_type": "code",
      "metadata": {
        "id": "vlj8v82Oi-Xw",
        "colab_type": "code",
        "colab": {}
      },
      "source": [
        "train_test_split = 0.7\n",
        "split_index = round(len(image_paths_t1) * 0.7)\n",
        "train_image_paths_t1 = image_paths_t1[:4]\n",
        "train_image_paths_t2 = image_paths_t2[:4]\n",
        "test_image_paths_t1 = image_paths_t1[4:6]\n",
        "test_image_paths_t2 = image_paths_t2[4:6]\n",
        "#train_dataset_c = MyCustomDataset( T1_folder_path=train_image_paths_t1, T2_folder_path= train_image_paths_t2, transforms=None)\n",
        "#test_dataset_c = MyCustomDataset( T1_folder_path=test_image_paths_t1, T2_folder_path= test_image_paths_t2, transforms=None)"
      ],
      "execution_count": null,
      "outputs": []
    },
    {
      "cell_type": "code",
      "metadata": {
        "id": "yGSVOKOuqMql",
        "colab_type": "code",
        "colab": {}
      },
      "source": [
        "train_custom_obj = UnfoldData( T1_folder_path=train_image_paths_t1, T2_folder_path= train_image_paths_t2)\n",
        "test_custom_obj = UnfoldData( T1_folder_path=test_image_paths_t1, T2_folder_path= test_image_paths_t2)"
      ],
      "execution_count": null,
      "outputs": []
    },
    {
      "cell_type": "code",
      "metadata": {
        "id": "4dpg2H9AqbKv",
        "colab_type": "code",
        "colab": {
          "base_uri": "https://localhost:8080/",
          "height": 87
        },
        "outputId": "13e2ea66-4efb-40d6-f755-d2cd3456f54e"
      },
      "source": [
        "t1_patches_train_tensor, t2_patches_train_tensor = train_custom_obj.create_patches()\n",
        "t1_patches_test_tensor, t2_patches_test_tensor = test_custom_obj.create_patches()"
      ],
      "execution_count": null,
      "outputs": [
        {
          "output_type": "stream",
          "text": [
            "Shape of Final concatenated patches of all the images of T1: torch.Size([1280, 1, 32, 32, 32])\n",
            "Shape of Final concatenated patches of all the images of T2: torch.Size([1280, 1, 32, 32, 32])\n",
            "Shape of Final concatenated patches of all the images of T1: torch.Size([640, 1, 32, 32, 32])\n",
            "Shape of Final concatenated patches of all the images of T2: torch.Size([640, 1, 32, 32, 32])\n"
          ],
          "name": "stdout"
        }
      ]
    },
    {
      "cell_type": "code",
      "metadata": {
        "id": "Ro5h5gJkVlxQ",
        "colab_type": "code",
        "colab": {}
      },
      "source": [
        "class Patching(Dataset):\n",
        "    def __init__(self, patches=None):\n",
        "        self.patches = patches\n",
        "        \n",
        "        \n",
        "    def __getitem__(self, index):\n",
        "        x = self.patches[0][index,:,:,:,:]\n",
        "        y = self.patches[1][index,:,:,:,:]\n",
        "        # Unsqueeze channel dimension\n",
        "        #x = x.unsqueeze(0)\n",
        "        #y = y.unsqueeze(0)\n",
        "        x = x.to(device, torch.float)\n",
        "        y = y.to(device, torch.float)\n",
        "\n",
        "        return (x, y)\n",
        "    \n",
        "    def __len__(self):\n",
        "        return self.patches[0].shape[0]"
      ],
      "execution_count": null,
      "outputs": []
    },
    {
      "cell_type": "code",
      "metadata": {
        "id": "vwWhMsd8swyl",
        "colab_type": "code",
        "colab": {}
      },
      "source": [
        "train_dataset_c = Patching(patches=(t1_patches_train_tensor, t2_patches_train_tensor))\n",
        "test_dataset_c = Patching(patches=(t1_patches_test_tensor, t2_patches_test_tensor))"
      ],
      "execution_count": null,
      "outputs": []
    },
    {
      "cell_type": "code",
      "metadata": {
        "id": "LWMU31h9ur84",
        "colab_type": "code",
        "colab": {
          "base_uri": "https://localhost:8080/",
          "height": 34
        },
        "outputId": "df65f243-1e1d-41e1-f596-6fe9fe63fe4c"
      },
      "source": [
        "len(train_dataset_c)"
      ],
      "execution_count": null,
      "outputs": [
        {
          "output_type": "execute_result",
          "data": {
            "text/plain": [
              "1280"
            ]
          },
          "metadata": {
            "tags": []
          },
          "execution_count": 44
        }
      ]
    },
    {
      "cell_type": "code",
      "metadata": {
        "id": "VO3oH_lYswv-",
        "colab_type": "code",
        "colab": {
          "base_uri": "https://localhost:8080/",
          "height": 390
        },
        "outputId": "d535258f-27a5-4587-86d3-2c617d29dee5"
      },
      "source": [
        "for i in range(len(train_dataset_c)):\n",
        "    sample = train_dataset_c[i]\n",
        "    print(i, sample[0].shape, sample[1].shape)\n",
        "    print(sample[0].dtype)\n",
        "    if( i > 3):\n",
        "      break;\n",
        "\n",
        "print(\" ======= ============== ============\")\n",
        "\n",
        "for i in range(len(test_dataset_c)):\n",
        "    sample = test_dataset_c[i]\n",
        "    print(i, sample[0].shape, sample[1].shape)\n",
        "    print(sample[0].dtype)\n",
        "    if( i > 3):\n",
        "      break;"
      ],
      "execution_count": null,
      "outputs": [
        {
          "output_type": "stream",
          "text": [
            "0 torch.Size([1, 32, 32, 32]) torch.Size([1, 32, 32, 32])\n",
            "torch.float32\n",
            "1 torch.Size([1, 32, 32, 32]) torch.Size([1, 32, 32, 32])\n",
            "torch.float32\n",
            "2 torch.Size([1, 32, 32, 32]) torch.Size([1, 32, 32, 32])\n",
            "torch.float32\n",
            "3 torch.Size([1, 32, 32, 32]) torch.Size([1, 32, 32, 32])\n",
            "torch.float32\n",
            "4 torch.Size([1, 32, 32, 32]) torch.Size([1, 32, 32, 32])\n",
            "torch.float32\n",
            " ======= ============== ============\n",
            "0 torch.Size([1, 32, 32, 32]) torch.Size([1, 32, 32, 32])\n",
            "torch.float32\n",
            "1 torch.Size([1, 32, 32, 32]) torch.Size([1, 32, 32, 32])\n",
            "torch.float32\n",
            "2 torch.Size([1, 32, 32, 32]) torch.Size([1, 32, 32, 32])\n",
            "torch.float32\n",
            "3 torch.Size([1, 32, 32, 32]) torch.Size([1, 32, 32, 32])\n",
            "torch.float32\n",
            "4 torch.Size([1, 32, 32, 32]) torch.Size([1, 32, 32, 32])\n",
            "torch.float32\n"
          ],
          "name": "stdout"
        }
      ]
    },
    {
      "cell_type": "markdown",
      "metadata": {
        "id": "PFlEprw2EBhN",
        "colab_type": "text"
      },
      "source": [
        "# **Modelling**\n",
        "\n",
        "1. 3D unet model with downsampling and upsampling encoders and decoders. Addition of encoder data to decoder to help with location of the data.\n",
        "\n",
        "**References**:\n",
        "\n",
        "1. Delete tensors on gpu to save space: https://discuss.pytorch.org/t/how-to-delete-a-tensor-in-gpu-to-free-up-memory/48879\n",
        "2. Unet model: https://github.com/fepegar/unet/tree/master/unet"
      ]
    },
    {
      "cell_type": "code",
      "metadata": {
        "id": "KV7oNqFqmyL4",
        "colab_type": "code",
        "colab": {}
      },
      "source": [
        "#  Reference from https://www.kaggle.com/arunmohan003/pytorch-brain-mri-segmentation-unet\n",
        "\n",
        "class ConvBlock(nn.Module):\n",
        "    def __init__(self,in_channels,out_channels,kernel_size=(3,3,3),padding=1):\n",
        "        super(ConvBlock,self).__init__()\n",
        "        self.conv = nn.Conv3d(in_channels,out_channels,kernel_size,padding=padding,bias=False)\n",
        "        self.batchnorm = nn.BatchNorm3d(out_channels,eps=1e-4)\n",
        "        self.relu = nn.ReLU(inplace=True)\n",
        "        \n",
        "    def forward(self,x):\n",
        "        x = self.conv(x)\n",
        "        x = self.batchnorm(x)\n",
        "        x = self.relu(x)\n",
        "        return x\n",
        "        \n",
        "        \n",
        "class StackEncoder(nn.Module):\n",
        "    def __init__(self,channel1,channel2,kernel_size=(3,3,3),padding=1):\n",
        "        super(StackEncoder,self).__init__()\n",
        "        self.maxpool = nn.MaxPool3d(kernel_size=2,stride=2)\n",
        "        self.block = nn.Sequential(\n",
        "            ConvBlock(channel1,channel2,kernel_size,padding),\n",
        "            ConvBlock(channel2,channel2,kernel_size,padding),     \n",
        "        )\n",
        "        \n",
        "    def forward(self,x):\n",
        "        big_out = self.block(x)\n",
        "        poolout = self.maxpool(big_out)\n",
        "        return big_out,poolout\n",
        "     \n",
        "        \n",
        "class StackDecoder(nn.Module):\n",
        "    def __init__(self,big_channel,channel1,channel2,kernel_size=(3,3,3),padding=1):\n",
        "        super(StackDecoder,self).__init__()\n",
        "        self.block = nn.Sequential(\n",
        "            ConvBlock(channel1+big_channel,channel2,kernel_size,padding),\n",
        "            ConvBlock(channel2,channel2,kernel_size,padding),\n",
        "            ConvBlock(channel2,channel2,kernel_size,padding),\n",
        "        )\n",
        "        \n",
        "    def forward(self,x,down_tensor):\n",
        "            _, channels, length,height, width = down_tensor.size()  \n",
        "            x = F.upsample(x, size=(length,height, width), mode='trilinear')\n",
        "            x = torch.cat([x, down_tensor], 1)  #combining channels of  input from encoder and upsampling input\n",
        "            x = self.block(x)\n",
        "            return x\n",
        "        \n",
        "        \n",
        "class Unet256(nn.Module):\n",
        "    def __init__(self,input_shape):\n",
        "        super(Unet256,self).__init__()\n",
        "        \n",
        "        channel,length,height,width = input_shape\n",
        "        \n",
        "        self.down1 = StackEncoder(channel,12,kernel_size=(3,3,3))  #256\n",
        "        self.down2 = StackEncoder(12,24,kernel_size=(3,3,3))  # 128\n",
        "        self.down3 = StackEncoder(24,46,kernel_size=(3,3,3))  # 64\n",
        "        self.down4 = StackEncoder(46,64,kernel_size=(3,3,3))  # 32\n",
        "        self.down5 = StackEncoder(64,128,kernel_size=(3,3,3))  #16\n",
        "        \n",
        "        self.center = ConvBlock(128,128,kernel_size=(3,3,3),padding=1) #16\n",
        "        \n",
        "        self.up5 = StackDecoder(128,128,64,kernel_size=(3,3,3))  #32\n",
        "        self.up4 = StackDecoder(64,64,46,kernel_size=(3,3,3)) #64\n",
        "        self.up3 = StackDecoder(46,46,24,kernel_size=(3,3,3))\n",
        "        self.up2 = StackDecoder(24,24,12,kernel_size=(3,3,3))\n",
        "        self.up1 = StackDecoder(12,12,12,kernel_size=(3,3,3))\n",
        "        self.conv = Conv3d(12,1,kernel_size=(1,1,1),bias=True)\n",
        "        \n",
        "    def forward(self,x):\n",
        "        down1,out = self.down1(x)  \n",
        "        down2,out = self.down2(out)  \n",
        "        down3,out = self.down3(out)\n",
        "        down4,out = self.down4(out)\n",
        "        down5,out = self.down5(out)\n",
        "        \n",
        "        \n",
        "        out = self.center(out)\n",
        "        \n",
        "        up5 = self.up5(out,down5)\n",
        "        up4 = self.up4(up5,down4)\n",
        "        up3 = self.up3(up4,down3)\n",
        "        up2 = self.up2(up3,down2)\n",
        "        up1 = self.up1(up2,down1)\n",
        "        \n",
        "        out = self.conv(up1)\n",
        "\n",
        "\n",
        "        return out\n",
        "        "
      ],
      "execution_count": null,
      "outputs": []
    },
    {
      "cell_type": "code",
      "metadata": {
        "id": "HxbpZyjaIWI-",
        "colab_type": "code",
        "colab": {
          "base_uri": "https://localhost:8080/",
          "height": 143
        },
        "outputId": "430229f1-1f54-438e-c2fb-32b9d605cb53"
      },
      "source": [
        "#  Trying UNET with randomly generated tensor\n",
        "\n",
        "input_tnsr = torch.randn(200, 1, 32, 32, 32)\n",
        "copy_input_tnsr = input_tnsr.detach().clone()\n",
        "t = input_tnsr.to(device,dtype=torch.float) \n",
        "     \n",
        "# Checking the forward pass with one image of size 256*256*150\n",
        "\n",
        "model = Unet256((1,32,32,32)).to(device)\n",
        "\n",
        "pred_mask = model.forward(t)\n",
        "print(pred_mask.shape)\n",
        "pred_mask.device\n",
        "# print(torch.eq(t, pred_mask))"
      ],
      "execution_count": null,
      "outputs": [
        {
          "output_type": "stream",
          "text": [
            "torch.Size([200, 1, 32, 32, 32])\n"
          ],
          "name": "stdout"
        },
        {
          "output_type": "stream",
          "text": [
            "/usr/local/lib/python3.6/dist-packages/torch/nn/functional.py:2941: UserWarning: nn.functional.upsample is deprecated. Use nn.functional.interpolate instead.\n",
            "  warnings.warn(\"nn.functional.upsample is deprecated. Use nn.functional.interpolate instead.\")\n",
            "/usr/local/lib/python3.6/dist-packages/torch/nn/functional.py:3121: UserWarning: Default upsampling behavior when mode=trilinear is changed to align_corners=False since 0.4.0. Please specify align_corners=True if the old behavior is desired. See the documentation of nn.Upsample for details.\n",
            "  \"See the documentation of nn.Upsample for details.\".format(mode))\n"
          ],
          "name": "stderr"
        },
        {
          "output_type": "execute_result",
          "data": {
            "text/plain": [
              "device(type='cuda', index=0)"
            ]
          },
          "metadata": {
            "tags": []
          },
          "execution_count": 90
        }
      ]
    },
    {
      "cell_type": "code",
      "metadata": {
        "id": "ufuRvbNFDoGb",
        "colab_type": "code",
        "colab": {}
      },
      "source": [
        "del pred_mask\n",
        "del t\n",
        "torch.cuda.empty_cache()"
      ],
      "execution_count": null,
      "outputs": []
    },
    {
      "cell_type": "markdown",
      "metadata": {
        "id": "eUJDX_cSQzmD",
        "colab_type": "text"
      },
      "source": [
        "# **Loss Function - SSIM**\n",
        "\n",
        "**Reference**: https://en.wikipedia.org/wiki/Structural_similarity\n",
        "\n",
        "**Reference**: from https://github.com/VainF/pytorch-msssim"
      ]
    },
    {
      "cell_type": "code",
      "metadata": {
        "id": "vR-BkmBW8t45",
        "colab_type": "code",
        "colab": {
          "base_uri": "https://localhost:8080/",
          "height": 87
        },
        "outputId": "dae401c4-ad14-4f21-a239-57d478a343f5"
      },
      "source": [
        "!pip install pytorch-msssim"
      ],
      "execution_count": null,
      "outputs": [
        {
          "output_type": "stream",
          "text": [
            "Requirement already satisfied: pytorch-msssim in /usr/local/lib/python3.6/dist-packages (0.2.1)\n",
            "Requirement already satisfied: torch in /usr/local/lib/python3.6/dist-packages (from pytorch-msssim) (1.6.0+cu101)\n",
            "Requirement already satisfied: future in /usr/local/lib/python3.6/dist-packages (from torch->pytorch-msssim) (0.16.0)\n",
            "Requirement already satisfied: numpy in /usr/local/lib/python3.6/dist-packages (from torch->pytorch-msssim) (1.18.5)\n"
          ],
          "name": "stdout"
        }
      ]
    },
    {
      "cell_type": "code",
      "metadata": {
        "id": "jLg53c5eQ3HI",
        "colab_type": "code",
        "colab": {
          "base_uri": "https://localhost:8080/",
          "height": 52
        },
        "outputId": "c82077e1-8ef1-4a8a-c6e6-6ef184d36bc4"
      },
      "source": [
        "\n",
        "\n",
        "from pytorch_msssim import ssim, ms_ssim, SSIM, MS_SSIM\n",
        "\n",
        "img1 = Variable(torch.randn(1,1, 32, 32, 32))\n",
        "img2 = Variable(torch.randn(1,1, 32, 32, 32))\n",
        "\n",
        "if torch.cuda.is_available():\n",
        "    img1 = img1.cuda()\n",
        "    img2 = img2.cuda()\n",
        "\n",
        "print(ssim(img1, img2, data_range=255, size_average=False))\n",
        "\n",
        "ssim_loss = 1 - ssim( img1, img2, data_range=255, size_average=True)\n",
        "\n",
        "print(ssim_loss)"
      ],
      "execution_count": null,
      "outputs": [
        {
          "output_type": "stream",
          "text": [
            "tensor([0.9658], device='cuda:0')\n",
            "tensor(0.0342, device='cuda:0')\n"
          ],
          "name": "stdout"
        }
      ]
    },
    {
      "cell_type": "markdown",
      "metadata": {
        "id": "sJg1oVeL_fx-",
        "colab_type": "text"
      },
      "source": [
        "# **Training the model using Dummy data for test**\n",
        "\n",
        "Use dummy data to verify whether we are able to train on the Unet 3D model before sending actual training data"
      ]
    },
    {
      "cell_type": "code",
      "metadata": {
        "id": "7BUWMLKs_h2n",
        "colab_type": "code",
        "colab": {}
      },
      "source": [
        "class SimpleDataset(Dataset):\n",
        "    def __init__(self, random_tensor_dims=(256, 1, 32, 32, 32), transforms=None):\n",
        "        # stuff\n",
        "        self.transforms = transforms\n",
        "        self.random_tensor_dims = random_tensor_dims\n",
        "\n",
        "               \n",
        "    def __getitem__(self, index):\n",
        "        input_tnsr = torch.randn(1, 32, 32, 32)\n",
        "        input_tnsr = input_tnsr.to(device=\"cuda\")\n",
        "        output_tnsr = torch.rand(1, 32, 32, 32)\n",
        "        output_tnsr = output_tnsr.to(device=\"cuda\")\n",
        "\n",
        "        return (input_tnsr, input_tnsr)\n",
        "\n",
        "    def __len__(self):\n",
        "        return self.random_tensor_dims[0] # of how many data(images?) you have\n",
        "        \n",
        "\n",
        "custom_data = SimpleDataset()"
      ],
      "execution_count": null,
      "outputs": []
    },
    {
      "cell_type": "code",
      "metadata": {
        "id": "Eo_6S-vo_s1Z",
        "colab_type": "code",
        "colab": {
          "base_uri": "https://localhost:8080/",
          "height": 1000
        },
        "outputId": "95e1af66-2bc6-4ed4-b671-b87ef6d03183"
      },
      "source": [
        "for i in range(len(custom_data)):\n",
        "    sample = custom_data[i]\n",
        "    print(i, sample[0].shape, sample[1].shape)\n",
        "\n",
        "print(\" ======= ============== ============\")\n",
        "\n",
        "for i in range(len(custom_data)):\n",
        "    sample = custom_data[i]\n",
        "    print(i, sample[0].shape, sample[1].shape)"
      ],
      "execution_count": null,
      "outputs": [
        {
          "output_type": "stream",
          "text": [
            "0 torch.Size([1, 32, 32, 32]) torch.Size([1, 32, 32, 32])\n",
            "1 torch.Size([1, 32, 32, 32]) torch.Size([1, 32, 32, 32])\n",
            "2 torch.Size([1, 32, 32, 32]) torch.Size([1, 32, 32, 32])\n",
            "3 torch.Size([1, 32, 32, 32]) torch.Size([1, 32, 32, 32])\n",
            "4 torch.Size([1, 32, 32, 32]) torch.Size([1, 32, 32, 32])\n",
            "5 torch.Size([1, 32, 32, 32]) torch.Size([1, 32, 32, 32])\n",
            "6 torch.Size([1, 32, 32, 32]) torch.Size([1, 32, 32, 32])\n",
            "7 torch.Size([1, 32, 32, 32]) torch.Size([1, 32, 32, 32])\n",
            "8 torch.Size([1, 32, 32, 32]) torch.Size([1, 32, 32, 32])\n",
            "9 torch.Size([1, 32, 32, 32]) torch.Size([1, 32, 32, 32])\n",
            "10 torch.Size([1, 32, 32, 32]) torch.Size([1, 32, 32, 32])\n",
            "11 torch.Size([1, 32, 32, 32]) torch.Size([1, 32, 32, 32])\n",
            "12 torch.Size([1, 32, 32, 32]) torch.Size([1, 32, 32, 32])\n",
            "13 torch.Size([1, 32, 32, 32]) torch.Size([1, 32, 32, 32])\n",
            "14 torch.Size([1, 32, 32, 32]) torch.Size([1, 32, 32, 32])\n",
            "15 torch.Size([1, 32, 32, 32]) torch.Size([1, 32, 32, 32])\n",
            "16 torch.Size([1, 32, 32, 32]) torch.Size([1, 32, 32, 32])\n",
            "17 torch.Size([1, 32, 32, 32]) torch.Size([1, 32, 32, 32])\n",
            "18 torch.Size([1, 32, 32, 32]) torch.Size([1, 32, 32, 32])\n",
            "19 torch.Size([1, 32, 32, 32]) torch.Size([1, 32, 32, 32])\n",
            "20 torch.Size([1, 32, 32, 32]) torch.Size([1, 32, 32, 32])\n",
            "21 torch.Size([1, 32, 32, 32]) torch.Size([1, 32, 32, 32])\n",
            "22 torch.Size([1, 32, 32, 32]) torch.Size([1, 32, 32, 32])\n",
            "23 torch.Size([1, 32, 32, 32]) torch.Size([1, 32, 32, 32])\n",
            "24 torch.Size([1, 32, 32, 32]) torch.Size([1, 32, 32, 32])\n",
            "25 torch.Size([1, 32, 32, 32]) torch.Size([1, 32, 32, 32])\n",
            "26 torch.Size([1, 32, 32, 32]) torch.Size([1, 32, 32, 32])\n",
            "27 torch.Size([1, 32, 32, 32]) torch.Size([1, 32, 32, 32])\n",
            "28 torch.Size([1, 32, 32, 32]) torch.Size([1, 32, 32, 32])\n",
            "29 torch.Size([1, 32, 32, 32]) torch.Size([1, 32, 32, 32])\n",
            "30 torch.Size([1, 32, 32, 32]) torch.Size([1, 32, 32, 32])\n",
            "31 torch.Size([1, 32, 32, 32]) torch.Size([1, 32, 32, 32])\n",
            "32 torch.Size([1, 32, 32, 32]) torch.Size([1, 32, 32, 32])\n",
            "33 torch.Size([1, 32, 32, 32]) torch.Size([1, 32, 32, 32])\n",
            "34 torch.Size([1, 32, 32, 32]) torch.Size([1, 32, 32, 32])\n",
            "35 torch.Size([1, 32, 32, 32]) torch.Size([1, 32, 32, 32])\n",
            "36 torch.Size([1, 32, 32, 32]) torch.Size([1, 32, 32, 32])\n",
            "37 torch.Size([1, 32, 32, 32]) torch.Size([1, 32, 32, 32])\n",
            "38 torch.Size([1, 32, 32, 32]) torch.Size([1, 32, 32, 32])\n",
            "39 torch.Size([1, 32, 32, 32]) torch.Size([1, 32, 32, 32])\n",
            "40 torch.Size([1, 32, 32, 32]) torch.Size([1, 32, 32, 32])\n",
            "41 torch.Size([1, 32, 32, 32]) torch.Size([1, 32, 32, 32])\n",
            "42 torch.Size([1, 32, 32, 32]) torch.Size([1, 32, 32, 32])\n",
            "43 torch.Size([1, 32, 32, 32]) torch.Size([1, 32, 32, 32])\n",
            "44 torch.Size([1, 32, 32, 32]) torch.Size([1, 32, 32, 32])\n",
            "45 torch.Size([1, 32, 32, 32]) torch.Size([1, 32, 32, 32])\n",
            "46 torch.Size([1, 32, 32, 32]) torch.Size([1, 32, 32, 32])\n",
            "47 torch.Size([1, 32, 32, 32]) torch.Size([1, 32, 32, 32])\n",
            "48 torch.Size([1, 32, 32, 32]) torch.Size([1, 32, 32, 32])\n",
            "49 torch.Size([1, 32, 32, 32]) torch.Size([1, 32, 32, 32])\n",
            "50 torch.Size([1, 32, 32, 32]) torch.Size([1, 32, 32, 32])\n",
            "51 torch.Size([1, 32, 32, 32]) torch.Size([1, 32, 32, 32])\n",
            "52 torch.Size([1, 32, 32, 32]) torch.Size([1, 32, 32, 32])\n",
            "53 torch.Size([1, 32, 32, 32]) torch.Size([1, 32, 32, 32])\n",
            "54 torch.Size([1, 32, 32, 32]) torch.Size([1, 32, 32, 32])\n",
            "55 torch.Size([1, 32, 32, 32]) torch.Size([1, 32, 32, 32])\n",
            "56 torch.Size([1, 32, 32, 32]) torch.Size([1, 32, 32, 32])\n",
            "57 torch.Size([1, 32, 32, 32]) torch.Size([1, 32, 32, 32])\n",
            "58 torch.Size([1, 32, 32, 32]) torch.Size([1, 32, 32, 32])\n",
            "59 torch.Size([1, 32, 32, 32]) torch.Size([1, 32, 32, 32])\n",
            "60 torch.Size([1, 32, 32, 32]) torch.Size([1, 32, 32, 32])\n",
            "61 torch.Size([1, 32, 32, 32]) torch.Size([1, 32, 32, 32])\n",
            "62 torch.Size([1, 32, 32, 32]) torch.Size([1, 32, 32, 32])\n",
            "63 torch.Size([1, 32, 32, 32]) torch.Size([1, 32, 32, 32])\n",
            "64 torch.Size([1, 32, 32, 32]) torch.Size([1, 32, 32, 32])\n",
            "65 torch.Size([1, 32, 32, 32]) torch.Size([1, 32, 32, 32])\n",
            "66 torch.Size([1, 32, 32, 32]) torch.Size([1, 32, 32, 32])\n",
            "67 torch.Size([1, 32, 32, 32]) torch.Size([1, 32, 32, 32])\n",
            "68 torch.Size([1, 32, 32, 32]) torch.Size([1, 32, 32, 32])\n",
            "69 torch.Size([1, 32, 32, 32]) torch.Size([1, 32, 32, 32])\n",
            "70 torch.Size([1, 32, 32, 32]) torch.Size([1, 32, 32, 32])\n",
            "71 torch.Size([1, 32, 32, 32]) torch.Size([1, 32, 32, 32])\n",
            "72 torch.Size([1, 32, 32, 32]) torch.Size([1, 32, 32, 32])\n",
            "73 torch.Size([1, 32, 32, 32]) torch.Size([1, 32, 32, 32])\n",
            "74 torch.Size([1, 32, 32, 32]) torch.Size([1, 32, 32, 32])\n",
            "75 torch.Size([1, 32, 32, 32]) torch.Size([1, 32, 32, 32])\n",
            "76 torch.Size([1, 32, 32, 32]) torch.Size([1, 32, 32, 32])\n",
            "77 torch.Size([1, 32, 32, 32]) torch.Size([1, 32, 32, 32])\n",
            "78 torch.Size([1, 32, 32, 32]) torch.Size([1, 32, 32, 32])\n",
            "79 torch.Size([1, 32, 32, 32]) torch.Size([1, 32, 32, 32])\n",
            "80 torch.Size([1, 32, 32, 32]) torch.Size([1, 32, 32, 32])\n",
            "81 torch.Size([1, 32, 32, 32]) torch.Size([1, 32, 32, 32])\n",
            "82 torch.Size([1, 32, 32, 32]) torch.Size([1, 32, 32, 32])\n",
            "83 torch.Size([1, 32, 32, 32]) torch.Size([1, 32, 32, 32])\n",
            "84 torch.Size([1, 32, 32, 32]) torch.Size([1, 32, 32, 32])\n",
            "85 torch.Size([1, 32, 32, 32]) torch.Size([1, 32, 32, 32])\n",
            "86 torch.Size([1, 32, 32, 32]) torch.Size([1, 32, 32, 32])\n",
            "87 torch.Size([1, 32, 32, 32]) torch.Size([1, 32, 32, 32])\n",
            "88 torch.Size([1, 32, 32, 32]) torch.Size([1, 32, 32, 32])\n",
            "89 torch.Size([1, 32, 32, 32]) torch.Size([1, 32, 32, 32])\n",
            "90 torch.Size([1, 32, 32, 32]) torch.Size([1, 32, 32, 32])\n",
            "91 torch.Size([1, 32, 32, 32]) torch.Size([1, 32, 32, 32])\n",
            "92 torch.Size([1, 32, 32, 32]) torch.Size([1, 32, 32, 32])\n",
            "93 torch.Size([1, 32, 32, 32]) torch.Size([1, 32, 32, 32])\n",
            "94 torch.Size([1, 32, 32, 32]) torch.Size([1, 32, 32, 32])\n",
            "95 torch.Size([1, 32, 32, 32]) torch.Size([1, 32, 32, 32])\n",
            "96 torch.Size([1, 32, 32, 32]) torch.Size([1, 32, 32, 32])\n",
            "97 torch.Size([1, 32, 32, 32]) torch.Size([1, 32, 32, 32])\n",
            "98 torch.Size([1, 32, 32, 32]) torch.Size([1, 32, 32, 32])\n",
            "99 torch.Size([1, 32, 32, 32]) torch.Size([1, 32, 32, 32])\n",
            "100 torch.Size([1, 32, 32, 32]) torch.Size([1, 32, 32, 32])\n",
            "101 torch.Size([1, 32, 32, 32]) torch.Size([1, 32, 32, 32])\n",
            "102 torch.Size([1, 32, 32, 32]) torch.Size([1, 32, 32, 32])\n",
            "103 torch.Size([1, 32, 32, 32]) torch.Size([1, 32, 32, 32])\n",
            "104 torch.Size([1, 32, 32, 32]) torch.Size([1, 32, 32, 32])\n",
            "105 torch.Size([1, 32, 32, 32]) torch.Size([1, 32, 32, 32])\n",
            "106 torch.Size([1, 32, 32, 32]) torch.Size([1, 32, 32, 32])\n",
            "107 torch.Size([1, 32, 32, 32]) torch.Size([1, 32, 32, 32])\n",
            "108 torch.Size([1, 32, 32, 32]) torch.Size([1, 32, 32, 32])\n",
            "109 torch.Size([1, 32, 32, 32]) torch.Size([1, 32, 32, 32])\n",
            "110 torch.Size([1, 32, 32, 32]) torch.Size([1, 32, 32, 32])\n",
            "111 torch.Size([1, 32, 32, 32]) torch.Size([1, 32, 32, 32])\n",
            "112 torch.Size([1, 32, 32, 32]) torch.Size([1, 32, 32, 32])\n",
            "113 torch.Size([1, 32, 32, 32]) torch.Size([1, 32, 32, 32])\n",
            "114 torch.Size([1, 32, 32, 32]) torch.Size([1, 32, 32, 32])\n",
            "115 torch.Size([1, 32, 32, 32]) torch.Size([1, 32, 32, 32])\n",
            "116 torch.Size([1, 32, 32, 32]) torch.Size([1, 32, 32, 32])\n",
            "117 torch.Size([1, 32, 32, 32]) torch.Size([1, 32, 32, 32])\n",
            "118 torch.Size([1, 32, 32, 32]) torch.Size([1, 32, 32, 32])\n",
            "119 torch.Size([1, 32, 32, 32]) torch.Size([1, 32, 32, 32])\n",
            "120 torch.Size([1, 32, 32, 32]) torch.Size([1, 32, 32, 32])\n",
            "121 torch.Size([1, 32, 32, 32]) torch.Size([1, 32, 32, 32])\n",
            "122 torch.Size([1, 32, 32, 32]) torch.Size([1, 32, 32, 32])\n",
            "123 torch.Size([1, 32, 32, 32]) torch.Size([1, 32, 32, 32])\n",
            "124 torch.Size([1, 32, 32, 32]) torch.Size([1, 32, 32, 32])\n",
            "125 torch.Size([1, 32, 32, 32]) torch.Size([1, 32, 32, 32])\n",
            "126 torch.Size([1, 32, 32, 32]) torch.Size([1, 32, 32, 32])\n",
            "127 torch.Size([1, 32, 32, 32]) torch.Size([1, 32, 32, 32])\n",
            "128 torch.Size([1, 32, 32, 32]) torch.Size([1, 32, 32, 32])\n",
            "129 torch.Size([1, 32, 32, 32]) torch.Size([1, 32, 32, 32])\n",
            "130 torch.Size([1, 32, 32, 32]) torch.Size([1, 32, 32, 32])\n",
            "131 torch.Size([1, 32, 32, 32]) torch.Size([1, 32, 32, 32])\n",
            "132 torch.Size([1, 32, 32, 32]) torch.Size([1, 32, 32, 32])\n",
            "133 torch.Size([1, 32, 32, 32]) torch.Size([1, 32, 32, 32])\n",
            "134 torch.Size([1, 32, 32, 32]) torch.Size([1, 32, 32, 32])\n",
            "135 torch.Size([1, 32, 32, 32]) torch.Size([1, 32, 32, 32])\n",
            "136 torch.Size([1, 32, 32, 32]) torch.Size([1, 32, 32, 32])\n",
            "137 torch.Size([1, 32, 32, 32]) torch.Size([1, 32, 32, 32])\n",
            "138 torch.Size([1, 32, 32, 32]) torch.Size([1, 32, 32, 32])\n",
            "139 torch.Size([1, 32, 32, 32]) torch.Size([1, 32, 32, 32])\n",
            "140 torch.Size([1, 32, 32, 32]) torch.Size([1, 32, 32, 32])\n",
            "141 torch.Size([1, 32, 32, 32]) torch.Size([1, 32, 32, 32])\n",
            "142 torch.Size([1, 32, 32, 32]) torch.Size([1, 32, 32, 32])\n",
            "143 torch.Size([1, 32, 32, 32]) torch.Size([1, 32, 32, 32])\n",
            "144 torch.Size([1, 32, 32, 32]) torch.Size([1, 32, 32, 32])\n",
            "145 torch.Size([1, 32, 32, 32]) torch.Size([1, 32, 32, 32])\n",
            "146 torch.Size([1, 32, 32, 32]) torch.Size([1, 32, 32, 32])\n",
            "147 torch.Size([1, 32, 32, 32]) torch.Size([1, 32, 32, 32])\n",
            "148 torch.Size([1, 32, 32, 32]) torch.Size([1, 32, 32, 32])\n",
            "149 torch.Size([1, 32, 32, 32]) torch.Size([1, 32, 32, 32])\n",
            "150 torch.Size([1, 32, 32, 32]) torch.Size([1, 32, 32, 32])\n",
            "151 torch.Size([1, 32, 32, 32]) torch.Size([1, 32, 32, 32])\n",
            "152 torch.Size([1, 32, 32, 32]) torch.Size([1, 32, 32, 32])\n",
            "153 torch.Size([1, 32, 32, 32]) torch.Size([1, 32, 32, 32])\n",
            "154 torch.Size([1, 32, 32, 32]) torch.Size([1, 32, 32, 32])\n",
            "155 torch.Size([1, 32, 32, 32]) torch.Size([1, 32, 32, 32])\n",
            "156 torch.Size([1, 32, 32, 32]) torch.Size([1, 32, 32, 32])\n",
            "157 torch.Size([1, 32, 32, 32]) torch.Size([1, 32, 32, 32])\n",
            "158 torch.Size([1, 32, 32, 32]) torch.Size([1, 32, 32, 32])\n",
            "159 torch.Size([1, 32, 32, 32]) torch.Size([1, 32, 32, 32])\n",
            "160 torch.Size([1, 32, 32, 32]) torch.Size([1, 32, 32, 32])\n",
            "161 torch.Size([1, 32, 32, 32]) torch.Size([1, 32, 32, 32])\n",
            "162 torch.Size([1, 32, 32, 32]) torch.Size([1, 32, 32, 32])\n",
            "163 torch.Size([1, 32, 32, 32]) torch.Size([1, 32, 32, 32])\n",
            "164 torch.Size([1, 32, 32, 32]) torch.Size([1, 32, 32, 32])\n",
            "165 torch.Size([1, 32, 32, 32]) torch.Size([1, 32, 32, 32])\n",
            "166 torch.Size([1, 32, 32, 32]) torch.Size([1, 32, 32, 32])\n",
            "167 torch.Size([1, 32, 32, 32]) torch.Size([1, 32, 32, 32])\n",
            "168 torch.Size([1, 32, 32, 32]) torch.Size([1, 32, 32, 32])\n",
            "169 torch.Size([1, 32, 32, 32]) torch.Size([1, 32, 32, 32])\n",
            "170 torch.Size([1, 32, 32, 32]) torch.Size([1, 32, 32, 32])\n",
            "171 torch.Size([1, 32, 32, 32]) torch.Size([1, 32, 32, 32])\n",
            "172 torch.Size([1, 32, 32, 32]) torch.Size([1, 32, 32, 32])\n",
            "173 torch.Size([1, 32, 32, 32]) torch.Size([1, 32, 32, 32])\n",
            "174 torch.Size([1, 32, 32, 32]) torch.Size([1, 32, 32, 32])\n",
            "175 torch.Size([1, 32, 32, 32]) torch.Size([1, 32, 32, 32])\n",
            "176 torch.Size([1, 32, 32, 32]) torch.Size([1, 32, 32, 32])\n",
            "177 torch.Size([1, 32, 32, 32]) torch.Size([1, 32, 32, 32])\n",
            "178 torch.Size([1, 32, 32, 32]) torch.Size([1, 32, 32, 32])\n",
            "179 torch.Size([1, 32, 32, 32]) torch.Size([1, 32, 32, 32])\n",
            "180 torch.Size([1, 32, 32, 32]) torch.Size([1, 32, 32, 32])\n",
            "181 torch.Size([1, 32, 32, 32]) torch.Size([1, 32, 32, 32])\n",
            "182 torch.Size([1, 32, 32, 32]) torch.Size([1, 32, 32, 32])\n",
            "183 torch.Size([1, 32, 32, 32]) torch.Size([1, 32, 32, 32])\n",
            "184 torch.Size([1, 32, 32, 32]) torch.Size([1, 32, 32, 32])\n",
            "185 torch.Size([1, 32, 32, 32]) torch.Size([1, 32, 32, 32])\n",
            "186 torch.Size([1, 32, 32, 32]) torch.Size([1, 32, 32, 32])\n",
            "187 torch.Size([1, 32, 32, 32]) torch.Size([1, 32, 32, 32])\n",
            "188 torch.Size([1, 32, 32, 32]) torch.Size([1, 32, 32, 32])\n",
            "189 torch.Size([1, 32, 32, 32]) torch.Size([1, 32, 32, 32])\n",
            "190 torch.Size([1, 32, 32, 32]) torch.Size([1, 32, 32, 32])\n",
            "191 torch.Size([1, 32, 32, 32]) torch.Size([1, 32, 32, 32])\n",
            "192 torch.Size([1, 32, 32, 32]) torch.Size([1, 32, 32, 32])\n",
            "193 torch.Size([1, 32, 32, 32]) torch.Size([1, 32, 32, 32])\n",
            "194 torch.Size([1, 32, 32, 32]) torch.Size([1, 32, 32, 32])\n",
            "195 torch.Size([1, 32, 32, 32]) torch.Size([1, 32, 32, 32])\n",
            "196 torch.Size([1, 32, 32, 32]) torch.Size([1, 32, 32, 32])\n",
            "197 torch.Size([1, 32, 32, 32]) torch.Size([1, 32, 32, 32])\n",
            "198 torch.Size([1, 32, 32, 32]) torch.Size([1, 32, 32, 32])\n",
            "199 torch.Size([1, 32, 32, 32]) torch.Size([1, 32, 32, 32])\n",
            "200 torch.Size([1, 32, 32, 32]) torch.Size([1, 32, 32, 32])\n",
            "201 torch.Size([1, 32, 32, 32]) torch.Size([1, 32, 32, 32])\n",
            "202 torch.Size([1, 32, 32, 32]) torch.Size([1, 32, 32, 32])\n",
            "203 torch.Size([1, 32, 32, 32]) torch.Size([1, 32, 32, 32])\n",
            "204 torch.Size([1, 32, 32, 32]) torch.Size([1, 32, 32, 32])\n",
            "205 torch.Size([1, 32, 32, 32]) torch.Size([1, 32, 32, 32])\n",
            "206 torch.Size([1, 32, 32, 32]) torch.Size([1, 32, 32, 32])\n",
            "207 torch.Size([1, 32, 32, 32]) torch.Size([1, 32, 32, 32])\n",
            "208 torch.Size([1, 32, 32, 32]) torch.Size([1, 32, 32, 32])\n",
            "209 torch.Size([1, 32, 32, 32]) torch.Size([1, 32, 32, 32])\n",
            "210 torch.Size([1, 32, 32, 32]) torch.Size([1, 32, 32, 32])\n",
            "211 torch.Size([1, 32, 32, 32]) torch.Size([1, 32, 32, 32])\n",
            "212 torch.Size([1, 32, 32, 32]) torch.Size([1, 32, 32, 32])\n",
            "213 torch.Size([1, 32, 32, 32]) torch.Size([1, 32, 32, 32])\n",
            "214 torch.Size([1, 32, 32, 32]) torch.Size([1, 32, 32, 32])\n",
            "215 torch.Size([1, 32, 32, 32]) torch.Size([1, 32, 32, 32])\n",
            "216 torch.Size([1, 32, 32, 32]) torch.Size([1, 32, 32, 32])\n",
            "217 torch.Size([1, 32, 32, 32]) torch.Size([1, 32, 32, 32])\n",
            "218 torch.Size([1, 32, 32, 32]) torch.Size([1, 32, 32, 32])\n",
            "219 torch.Size([1, 32, 32, 32]) torch.Size([1, 32, 32, 32])\n",
            "220 torch.Size([1, 32, 32, 32]) torch.Size([1, 32, 32, 32])\n",
            "221 torch.Size([1, 32, 32, 32]) torch.Size([1, 32, 32, 32])\n",
            "222 torch.Size([1, 32, 32, 32]) torch.Size([1, 32, 32, 32])\n",
            "223 torch.Size([1, 32, 32, 32]) torch.Size([1, 32, 32, 32])\n",
            "224 torch.Size([1, 32, 32, 32]) torch.Size([1, 32, 32, 32])\n",
            "225 torch.Size([1, 32, 32, 32]) torch.Size([1, 32, 32, 32])\n",
            "226 torch.Size([1, 32, 32, 32]) torch.Size([1, 32, 32, 32])\n",
            "227 torch.Size([1, 32, 32, 32]) torch.Size([1, 32, 32, 32])\n",
            "228 torch.Size([1, 32, 32, 32]) torch.Size([1, 32, 32, 32])\n",
            "229 torch.Size([1, 32, 32, 32]) torch.Size([1, 32, 32, 32])\n",
            "230 torch.Size([1, 32, 32, 32]) torch.Size([1, 32, 32, 32])\n",
            "231 torch.Size([1, 32, 32, 32]) torch.Size([1, 32, 32, 32])\n",
            "232 torch.Size([1, 32, 32, 32]) torch.Size([1, 32, 32, 32])\n",
            "233 torch.Size([1, 32, 32, 32]) torch.Size([1, 32, 32, 32])\n",
            "234 torch.Size([1, 32, 32, 32]) torch.Size([1, 32, 32, 32])\n",
            "235 torch.Size([1, 32, 32, 32]) torch.Size([1, 32, 32, 32])\n",
            "236 torch.Size([1, 32, 32, 32]) torch.Size([1, 32, 32, 32])\n",
            "237 torch.Size([1, 32, 32, 32]) torch.Size([1, 32, 32, 32])\n",
            "238 torch.Size([1, 32, 32, 32]) torch.Size([1, 32, 32, 32])\n",
            "239 torch.Size([1, 32, 32, 32]) torch.Size([1, 32, 32, 32])\n",
            "240 torch.Size([1, 32, 32, 32]) torch.Size([1, 32, 32, 32])\n",
            "241 torch.Size([1, 32, 32, 32]) torch.Size([1, 32, 32, 32])\n",
            "242 torch.Size([1, 32, 32, 32]) torch.Size([1, 32, 32, 32])\n",
            "243 torch.Size([1, 32, 32, 32]) torch.Size([1, 32, 32, 32])\n",
            "244 torch.Size([1, 32, 32, 32]) torch.Size([1, 32, 32, 32])\n",
            "245 torch.Size([1, 32, 32, 32]) torch.Size([1, 32, 32, 32])\n",
            "246 torch.Size([1, 32, 32, 32]) torch.Size([1, 32, 32, 32])\n",
            "247 torch.Size([1, 32, 32, 32]) torch.Size([1, 32, 32, 32])\n",
            "248 torch.Size([1, 32, 32, 32]) torch.Size([1, 32, 32, 32])\n",
            "249 torch.Size([1, 32, 32, 32]) torch.Size([1, 32, 32, 32])\n",
            "250 torch.Size([1, 32, 32, 32]) torch.Size([1, 32, 32, 32])\n",
            "251 torch.Size([1, 32, 32, 32]) torch.Size([1, 32, 32, 32])\n",
            "252 torch.Size([1, 32, 32, 32]) torch.Size([1, 32, 32, 32])\n",
            "253 torch.Size([1, 32, 32, 32]) torch.Size([1, 32, 32, 32])\n",
            "254 torch.Size([1, 32, 32, 32]) torch.Size([1, 32, 32, 32])\n",
            "255 torch.Size([1, 32, 32, 32]) torch.Size([1, 32, 32, 32])\n",
            " ======= ============== ============\n",
            "0 torch.Size([1, 32, 32, 32]) torch.Size([1, 32, 32, 32])\n",
            "1 torch.Size([1, 32, 32, 32]) torch.Size([1, 32, 32, 32])\n",
            "2 torch.Size([1, 32, 32, 32]) torch.Size([1, 32, 32, 32])\n",
            "3 torch.Size([1, 32, 32, 32]) torch.Size([1, 32, 32, 32])\n",
            "4 torch.Size([1, 32, 32, 32]) torch.Size([1, 32, 32, 32])\n",
            "5 torch.Size([1, 32, 32, 32]) torch.Size([1, 32, 32, 32])\n",
            "6 torch.Size([1, 32, 32, 32]) torch.Size([1, 32, 32, 32])\n",
            "7 torch.Size([1, 32, 32, 32]) torch.Size([1, 32, 32, 32])\n",
            "8 torch.Size([1, 32, 32, 32]) torch.Size([1, 32, 32, 32])\n",
            "9 torch.Size([1, 32, 32, 32]) torch.Size([1, 32, 32, 32])\n",
            "10 torch.Size([1, 32, 32, 32]) torch.Size([1, 32, 32, 32])\n",
            "11 torch.Size([1, 32, 32, 32]) torch.Size([1, 32, 32, 32])\n",
            "12 torch.Size([1, 32, 32, 32]) torch.Size([1, 32, 32, 32])\n",
            "13 torch.Size([1, 32, 32, 32]) torch.Size([1, 32, 32, 32])\n",
            "14 torch.Size([1, 32, 32, 32]) torch.Size([1, 32, 32, 32])\n",
            "15 torch.Size([1, 32, 32, 32]) torch.Size([1, 32, 32, 32])\n",
            "16 torch.Size([1, 32, 32, 32]) torch.Size([1, 32, 32, 32])\n",
            "17 torch.Size([1, 32, 32, 32]) torch.Size([1, 32, 32, 32])\n",
            "18 torch.Size([1, 32, 32, 32]) torch.Size([1, 32, 32, 32])\n",
            "19 torch.Size([1, 32, 32, 32]) torch.Size([1, 32, 32, 32])\n",
            "20 torch.Size([1, 32, 32, 32]) torch.Size([1, 32, 32, 32])\n",
            "21 torch.Size([1, 32, 32, 32]) torch.Size([1, 32, 32, 32])\n",
            "22 torch.Size([1, 32, 32, 32]) torch.Size([1, 32, 32, 32])\n",
            "23 torch.Size([1, 32, 32, 32]) torch.Size([1, 32, 32, 32])\n",
            "24 torch.Size([1, 32, 32, 32]) torch.Size([1, 32, 32, 32])\n",
            "25 torch.Size([1, 32, 32, 32]) torch.Size([1, 32, 32, 32])\n",
            "26 torch.Size([1, 32, 32, 32]) torch.Size([1, 32, 32, 32])\n",
            "27 torch.Size([1, 32, 32, 32]) torch.Size([1, 32, 32, 32])\n",
            "28 torch.Size([1, 32, 32, 32]) torch.Size([1, 32, 32, 32])\n",
            "29 torch.Size([1, 32, 32, 32]) torch.Size([1, 32, 32, 32])\n",
            "30 torch.Size([1, 32, 32, 32]) torch.Size([1, 32, 32, 32])\n",
            "31 torch.Size([1, 32, 32, 32]) torch.Size([1, 32, 32, 32])\n",
            "32 torch.Size([1, 32, 32, 32]) torch.Size([1, 32, 32, 32])\n",
            "33 torch.Size([1, 32, 32, 32]) torch.Size([1, 32, 32, 32])\n",
            "34 torch.Size([1, 32, 32, 32]) torch.Size([1, 32, 32, 32])\n",
            "35 torch.Size([1, 32, 32, 32]) torch.Size([1, 32, 32, 32])\n",
            "36 torch.Size([1, 32, 32, 32]) torch.Size([1, 32, 32, 32])\n",
            "37 torch.Size([1, 32, 32, 32]) torch.Size([1, 32, 32, 32])\n",
            "38 torch.Size([1, 32, 32, 32]) torch.Size([1, 32, 32, 32])\n",
            "39 torch.Size([1, 32, 32, 32]) torch.Size([1, 32, 32, 32])\n",
            "40 torch.Size([1, 32, 32, 32]) torch.Size([1, 32, 32, 32])\n",
            "41 torch.Size([1, 32, 32, 32]) torch.Size([1, 32, 32, 32])\n",
            "42 torch.Size([1, 32, 32, 32]) torch.Size([1, 32, 32, 32])\n",
            "43 torch.Size([1, 32, 32, 32]) torch.Size([1, 32, 32, 32])\n",
            "44 torch.Size([1, 32, 32, 32]) torch.Size([1, 32, 32, 32])\n",
            "45 torch.Size([1, 32, 32, 32]) torch.Size([1, 32, 32, 32])\n",
            "46 torch.Size([1, 32, 32, 32]) torch.Size([1, 32, 32, 32])\n",
            "47 torch.Size([1, 32, 32, 32]) torch.Size([1, 32, 32, 32])\n",
            "48 torch.Size([1, 32, 32, 32]) torch.Size([1, 32, 32, 32])\n",
            "49 torch.Size([1, 32, 32, 32]) torch.Size([1, 32, 32, 32])\n",
            "50 torch.Size([1, 32, 32, 32]) torch.Size([1, 32, 32, 32])\n",
            "51 torch.Size([1, 32, 32, 32]) torch.Size([1, 32, 32, 32])\n",
            "52 torch.Size([1, 32, 32, 32]) torch.Size([1, 32, 32, 32])\n",
            "53 torch.Size([1, 32, 32, 32]) torch.Size([1, 32, 32, 32])\n",
            "54 torch.Size([1, 32, 32, 32]) torch.Size([1, 32, 32, 32])\n",
            "55 torch.Size([1, 32, 32, 32]) torch.Size([1, 32, 32, 32])\n",
            "56 torch.Size([1, 32, 32, 32]) torch.Size([1, 32, 32, 32])\n",
            "57 torch.Size([1, 32, 32, 32]) torch.Size([1, 32, 32, 32])\n",
            "58 torch.Size([1, 32, 32, 32]) torch.Size([1, 32, 32, 32])\n",
            "59 torch.Size([1, 32, 32, 32]) torch.Size([1, 32, 32, 32])\n",
            "60 torch.Size([1, 32, 32, 32]) torch.Size([1, 32, 32, 32])\n",
            "61 torch.Size([1, 32, 32, 32]) torch.Size([1, 32, 32, 32])\n",
            "62 torch.Size([1, 32, 32, 32]) torch.Size([1, 32, 32, 32])\n",
            "63 torch.Size([1, 32, 32, 32]) torch.Size([1, 32, 32, 32])\n",
            "64 torch.Size([1, 32, 32, 32]) torch.Size([1, 32, 32, 32])\n",
            "65 torch.Size([1, 32, 32, 32]) torch.Size([1, 32, 32, 32])\n",
            "66 torch.Size([1, 32, 32, 32]) torch.Size([1, 32, 32, 32])\n",
            "67 torch.Size([1, 32, 32, 32]) torch.Size([1, 32, 32, 32])\n",
            "68 torch.Size([1, 32, 32, 32]) torch.Size([1, 32, 32, 32])\n",
            "69 torch.Size([1, 32, 32, 32]) torch.Size([1, 32, 32, 32])\n",
            "70 torch.Size([1, 32, 32, 32]) torch.Size([1, 32, 32, 32])\n",
            "71 torch.Size([1, 32, 32, 32]) torch.Size([1, 32, 32, 32])\n",
            "72 torch.Size([1, 32, 32, 32]) torch.Size([1, 32, 32, 32])\n",
            "73 torch.Size([1, 32, 32, 32]) torch.Size([1, 32, 32, 32])\n",
            "74 torch.Size([1, 32, 32, 32]) torch.Size([1, 32, 32, 32])\n",
            "75 torch.Size([1, 32, 32, 32]) torch.Size([1, 32, 32, 32])\n",
            "76 torch.Size([1, 32, 32, 32]) torch.Size([1, 32, 32, 32])\n",
            "77 torch.Size([1, 32, 32, 32]) torch.Size([1, 32, 32, 32])\n",
            "78 torch.Size([1, 32, 32, 32]) torch.Size([1, 32, 32, 32])\n",
            "79 torch.Size([1, 32, 32, 32]) torch.Size([1, 32, 32, 32])\n",
            "80 torch.Size([1, 32, 32, 32]) torch.Size([1, 32, 32, 32])\n",
            "81 torch.Size([1, 32, 32, 32]) torch.Size([1, 32, 32, 32])\n",
            "82 torch.Size([1, 32, 32, 32]) torch.Size([1, 32, 32, 32])\n",
            "83 torch.Size([1, 32, 32, 32]) torch.Size([1, 32, 32, 32])\n",
            "84 torch.Size([1, 32, 32, 32]) torch.Size([1, 32, 32, 32])\n",
            "85 torch.Size([1, 32, 32, 32]) torch.Size([1, 32, 32, 32])\n",
            "86 torch.Size([1, 32, 32, 32]) torch.Size([1, 32, 32, 32])\n",
            "87 torch.Size([1, 32, 32, 32]) torch.Size([1, 32, 32, 32])\n",
            "88 torch.Size([1, 32, 32, 32]) torch.Size([1, 32, 32, 32])\n",
            "89 torch.Size([1, 32, 32, 32]) torch.Size([1, 32, 32, 32])\n",
            "90 torch.Size([1, 32, 32, 32]) torch.Size([1, 32, 32, 32])\n",
            "91 torch.Size([1, 32, 32, 32]) torch.Size([1, 32, 32, 32])\n",
            "92 torch.Size([1, 32, 32, 32]) torch.Size([1, 32, 32, 32])\n",
            "93 torch.Size([1, 32, 32, 32]) torch.Size([1, 32, 32, 32])\n",
            "94 torch.Size([1, 32, 32, 32]) torch.Size([1, 32, 32, 32])\n",
            "95 torch.Size([1, 32, 32, 32]) torch.Size([1, 32, 32, 32])\n",
            "96 torch.Size([1, 32, 32, 32]) torch.Size([1, 32, 32, 32])\n",
            "97 torch.Size([1, 32, 32, 32]) torch.Size([1, 32, 32, 32])\n",
            "98 torch.Size([1, 32, 32, 32]) torch.Size([1, 32, 32, 32])\n",
            "99 torch.Size([1, 32, 32, 32]) torch.Size([1, 32, 32, 32])\n",
            "100 torch.Size([1, 32, 32, 32]) torch.Size([1, 32, 32, 32])\n",
            "101 torch.Size([1, 32, 32, 32]) torch.Size([1, 32, 32, 32])\n",
            "102 torch.Size([1, 32, 32, 32]) torch.Size([1, 32, 32, 32])\n",
            "103 torch.Size([1, 32, 32, 32]) torch.Size([1, 32, 32, 32])\n",
            "104 torch.Size([1, 32, 32, 32]) torch.Size([1, 32, 32, 32])\n",
            "105 torch.Size([1, 32, 32, 32]) torch.Size([1, 32, 32, 32])\n",
            "106 torch.Size([1, 32, 32, 32]) torch.Size([1, 32, 32, 32])\n",
            "107 torch.Size([1, 32, 32, 32]) torch.Size([1, 32, 32, 32])\n",
            "108 torch.Size([1, 32, 32, 32]) torch.Size([1, 32, 32, 32])\n",
            "109 torch.Size([1, 32, 32, 32]) torch.Size([1, 32, 32, 32])\n",
            "110 torch.Size([1, 32, 32, 32]) torch.Size([1, 32, 32, 32])\n",
            "111 torch.Size([1, 32, 32, 32]) torch.Size([1, 32, 32, 32])\n",
            "112 torch.Size([1, 32, 32, 32]) torch.Size([1, 32, 32, 32])\n",
            "113 torch.Size([1, 32, 32, 32]) torch.Size([1, 32, 32, 32])\n",
            "114 torch.Size([1, 32, 32, 32]) torch.Size([1, 32, 32, 32])\n",
            "115 torch.Size([1, 32, 32, 32]) torch.Size([1, 32, 32, 32])\n",
            "116 torch.Size([1, 32, 32, 32]) torch.Size([1, 32, 32, 32])\n",
            "117 torch.Size([1, 32, 32, 32]) torch.Size([1, 32, 32, 32])\n",
            "118 torch.Size([1, 32, 32, 32]) torch.Size([1, 32, 32, 32])\n",
            "119 torch.Size([1, 32, 32, 32]) torch.Size([1, 32, 32, 32])\n",
            "120 torch.Size([1, 32, 32, 32]) torch.Size([1, 32, 32, 32])\n",
            "121 torch.Size([1, 32, 32, 32]) torch.Size([1, 32, 32, 32])\n",
            "122 torch.Size([1, 32, 32, 32]) torch.Size([1, 32, 32, 32])\n",
            "123 torch.Size([1, 32, 32, 32]) torch.Size([1, 32, 32, 32])\n",
            "124 torch.Size([1, 32, 32, 32]) torch.Size([1, 32, 32, 32])\n",
            "125 torch.Size([1, 32, 32, 32]) torch.Size([1, 32, 32, 32])\n",
            "126 torch.Size([1, 32, 32, 32]) torch.Size([1, 32, 32, 32])\n",
            "127 torch.Size([1, 32, 32, 32]) torch.Size([1, 32, 32, 32])\n",
            "128 torch.Size([1, 32, 32, 32]) torch.Size([1, 32, 32, 32])\n",
            "129 torch.Size([1, 32, 32, 32]) torch.Size([1, 32, 32, 32])\n",
            "130 torch.Size([1, 32, 32, 32]) torch.Size([1, 32, 32, 32])\n",
            "131 torch.Size([1, 32, 32, 32]) torch.Size([1, 32, 32, 32])\n",
            "132 torch.Size([1, 32, 32, 32]) torch.Size([1, 32, 32, 32])\n",
            "133 torch.Size([1, 32, 32, 32]) torch.Size([1, 32, 32, 32])\n",
            "134 torch.Size([1, 32, 32, 32]) torch.Size([1, 32, 32, 32])\n",
            "135 torch.Size([1, 32, 32, 32]) torch.Size([1, 32, 32, 32])\n",
            "136 torch.Size([1, 32, 32, 32]) torch.Size([1, 32, 32, 32])\n",
            "137 torch.Size([1, 32, 32, 32]) torch.Size([1, 32, 32, 32])\n",
            "138 torch.Size([1, 32, 32, 32]) torch.Size([1, 32, 32, 32])\n",
            "139 torch.Size([1, 32, 32, 32]) torch.Size([1, 32, 32, 32])\n",
            "140 torch.Size([1, 32, 32, 32]) torch.Size([1, 32, 32, 32])\n",
            "141 torch.Size([1, 32, 32, 32]) torch.Size([1, 32, 32, 32])\n",
            "142 torch.Size([1, 32, 32, 32]) torch.Size([1, 32, 32, 32])\n",
            "143 torch.Size([1, 32, 32, 32]) torch.Size([1, 32, 32, 32])\n",
            "144 torch.Size([1, 32, 32, 32]) torch.Size([1, 32, 32, 32])\n",
            "145 torch.Size([1, 32, 32, 32]) torch.Size([1, 32, 32, 32])\n",
            "146 torch.Size([1, 32, 32, 32]) torch.Size([1, 32, 32, 32])\n",
            "147 torch.Size([1, 32, 32, 32]) torch.Size([1, 32, 32, 32])\n",
            "148 torch.Size([1, 32, 32, 32]) torch.Size([1, 32, 32, 32])\n",
            "149 torch.Size([1, 32, 32, 32]) torch.Size([1, 32, 32, 32])\n",
            "150 torch.Size([1, 32, 32, 32]) torch.Size([1, 32, 32, 32])\n",
            "151 torch.Size([1, 32, 32, 32]) torch.Size([1, 32, 32, 32])\n",
            "152 torch.Size([1, 32, 32, 32]) torch.Size([1, 32, 32, 32])\n",
            "153 torch.Size([1, 32, 32, 32]) torch.Size([1, 32, 32, 32])\n",
            "154 torch.Size([1, 32, 32, 32]) torch.Size([1, 32, 32, 32])\n",
            "155 torch.Size([1, 32, 32, 32]) torch.Size([1, 32, 32, 32])\n",
            "156 torch.Size([1, 32, 32, 32]) torch.Size([1, 32, 32, 32])\n",
            "157 torch.Size([1, 32, 32, 32]) torch.Size([1, 32, 32, 32])\n",
            "158 torch.Size([1, 32, 32, 32]) torch.Size([1, 32, 32, 32])\n",
            "159 torch.Size([1, 32, 32, 32]) torch.Size([1, 32, 32, 32])\n",
            "160 torch.Size([1, 32, 32, 32]) torch.Size([1, 32, 32, 32])\n",
            "161 torch.Size([1, 32, 32, 32]) torch.Size([1, 32, 32, 32])\n",
            "162 torch.Size([1, 32, 32, 32]) torch.Size([1, 32, 32, 32])\n",
            "163 torch.Size([1, 32, 32, 32]) torch.Size([1, 32, 32, 32])\n",
            "164 torch.Size([1, 32, 32, 32]) torch.Size([1, 32, 32, 32])\n",
            "165 torch.Size([1, 32, 32, 32]) torch.Size([1, 32, 32, 32])\n",
            "166 torch.Size([1, 32, 32, 32]) torch.Size([1, 32, 32, 32])\n",
            "167 torch.Size([1, 32, 32, 32]) torch.Size([1, 32, 32, 32])\n",
            "168 torch.Size([1, 32, 32, 32]) torch.Size([1, 32, 32, 32])\n",
            "169 torch.Size([1, 32, 32, 32]) torch.Size([1, 32, 32, 32])\n",
            "170 torch.Size([1, 32, 32, 32]) torch.Size([1, 32, 32, 32])\n",
            "171 torch.Size([1, 32, 32, 32]) torch.Size([1, 32, 32, 32])\n",
            "172 torch.Size([1, 32, 32, 32]) torch.Size([1, 32, 32, 32])\n",
            "173 torch.Size([1, 32, 32, 32]) torch.Size([1, 32, 32, 32])\n",
            "174 torch.Size([1, 32, 32, 32]) torch.Size([1, 32, 32, 32])\n",
            "175 torch.Size([1, 32, 32, 32]) torch.Size([1, 32, 32, 32])\n",
            "176 torch.Size([1, 32, 32, 32]) torch.Size([1, 32, 32, 32])\n",
            "177 torch.Size([1, 32, 32, 32]) torch.Size([1, 32, 32, 32])\n",
            "178 torch.Size([1, 32, 32, 32]) torch.Size([1, 32, 32, 32])\n",
            "179 torch.Size([1, 32, 32, 32]) torch.Size([1, 32, 32, 32])\n",
            "180 torch.Size([1, 32, 32, 32]) torch.Size([1, 32, 32, 32])\n",
            "181 torch.Size([1, 32, 32, 32]) torch.Size([1, 32, 32, 32])\n",
            "182 torch.Size([1, 32, 32, 32]) torch.Size([1, 32, 32, 32])\n",
            "183 torch.Size([1, 32, 32, 32]) torch.Size([1, 32, 32, 32])\n",
            "184 torch.Size([1, 32, 32, 32]) torch.Size([1, 32, 32, 32])\n",
            "185 torch.Size([1, 32, 32, 32]) torch.Size([1, 32, 32, 32])\n",
            "186 torch.Size([1, 32, 32, 32]) torch.Size([1, 32, 32, 32])\n",
            "187 torch.Size([1, 32, 32, 32]) torch.Size([1, 32, 32, 32])\n",
            "188 torch.Size([1, 32, 32, 32]) torch.Size([1, 32, 32, 32])\n",
            "189 torch.Size([1, 32, 32, 32]) torch.Size([1, 32, 32, 32])\n",
            "190 torch.Size([1, 32, 32, 32]) torch.Size([1, 32, 32, 32])\n",
            "191 torch.Size([1, 32, 32, 32]) torch.Size([1, 32, 32, 32])\n",
            "192 torch.Size([1, 32, 32, 32]) torch.Size([1, 32, 32, 32])\n",
            "193 torch.Size([1, 32, 32, 32]) torch.Size([1, 32, 32, 32])\n",
            "194 torch.Size([1, 32, 32, 32]) torch.Size([1, 32, 32, 32])\n",
            "195 torch.Size([1, 32, 32, 32]) torch.Size([1, 32, 32, 32])\n",
            "196 torch.Size([1, 32, 32, 32]) torch.Size([1, 32, 32, 32])\n",
            "197 torch.Size([1, 32, 32, 32]) torch.Size([1, 32, 32, 32])\n",
            "198 torch.Size([1, 32, 32, 32]) torch.Size([1, 32, 32, 32])\n",
            "199 torch.Size([1, 32, 32, 32]) torch.Size([1, 32, 32, 32])\n",
            "200 torch.Size([1, 32, 32, 32]) torch.Size([1, 32, 32, 32])\n",
            "201 torch.Size([1, 32, 32, 32]) torch.Size([1, 32, 32, 32])\n",
            "202 torch.Size([1, 32, 32, 32]) torch.Size([1, 32, 32, 32])\n",
            "203 torch.Size([1, 32, 32, 32]) torch.Size([1, 32, 32, 32])\n",
            "204 torch.Size([1, 32, 32, 32]) torch.Size([1, 32, 32, 32])\n",
            "205 torch.Size([1, 32, 32, 32]) torch.Size([1, 32, 32, 32])\n",
            "206 torch.Size([1, 32, 32, 32]) torch.Size([1, 32, 32, 32])\n",
            "207 torch.Size([1, 32, 32, 32]) torch.Size([1, 32, 32, 32])\n",
            "208 torch.Size([1, 32, 32, 32]) torch.Size([1, 32, 32, 32])\n",
            "209 torch.Size([1, 32, 32, 32]) torch.Size([1, 32, 32, 32])\n",
            "210 torch.Size([1, 32, 32, 32]) torch.Size([1, 32, 32, 32])\n",
            "211 torch.Size([1, 32, 32, 32]) torch.Size([1, 32, 32, 32])\n",
            "212 torch.Size([1, 32, 32, 32]) torch.Size([1, 32, 32, 32])\n",
            "213 torch.Size([1, 32, 32, 32]) torch.Size([1, 32, 32, 32])\n",
            "214 torch.Size([1, 32, 32, 32]) torch.Size([1, 32, 32, 32])\n",
            "215 torch.Size([1, 32, 32, 32]) torch.Size([1, 32, 32, 32])\n",
            "216 torch.Size([1, 32, 32, 32]) torch.Size([1, 32, 32, 32])\n",
            "217 torch.Size([1, 32, 32, 32]) torch.Size([1, 32, 32, 32])\n",
            "218 torch.Size([1, 32, 32, 32]) torch.Size([1, 32, 32, 32])\n",
            "219 torch.Size([1, 32, 32, 32]) torch.Size([1, 32, 32, 32])\n",
            "220 torch.Size([1, 32, 32, 32]) torch.Size([1, 32, 32, 32])\n",
            "221 torch.Size([1, 32, 32, 32]) torch.Size([1, 32, 32, 32])\n",
            "222 torch.Size([1, 32, 32, 32]) torch.Size([1, 32, 32, 32])\n",
            "223 torch.Size([1, 32, 32, 32]) torch.Size([1, 32, 32, 32])\n",
            "224 torch.Size([1, 32, 32, 32]) torch.Size([1, 32, 32, 32])\n",
            "225 torch.Size([1, 32, 32, 32]) torch.Size([1, 32, 32, 32])\n",
            "226 torch.Size([1, 32, 32, 32]) torch.Size([1, 32, 32, 32])\n",
            "227 torch.Size([1, 32, 32, 32]) torch.Size([1, 32, 32, 32])\n",
            "228 torch.Size([1, 32, 32, 32]) torch.Size([1, 32, 32, 32])\n",
            "229 torch.Size([1, 32, 32, 32]) torch.Size([1, 32, 32, 32])\n",
            "230 torch.Size([1, 32, 32, 32]) torch.Size([1, 32, 32, 32])\n",
            "231 torch.Size([1, 32, 32, 32]) torch.Size([1, 32, 32, 32])\n",
            "232 torch.Size([1, 32, 32, 32]) torch.Size([1, 32, 32, 32])\n",
            "233 torch.Size([1, 32, 32, 32]) torch.Size([1, 32, 32, 32])\n",
            "234 torch.Size([1, 32, 32, 32]) torch.Size([1, 32, 32, 32])\n",
            "235 torch.Size([1, 32, 32, 32]) torch.Size([1, 32, 32, 32])\n",
            "236 torch.Size([1, 32, 32, 32]) torch.Size([1, 32, 32, 32])\n",
            "237 torch.Size([1, 32, 32, 32]) torch.Size([1, 32, 32, 32])\n",
            "238 torch.Size([1, 32, 32, 32]) torch.Size([1, 32, 32, 32])\n",
            "239 torch.Size([1, 32, 32, 32]) torch.Size([1, 32, 32, 32])\n",
            "240 torch.Size([1, 32, 32, 32]) torch.Size([1, 32, 32, 32])\n",
            "241 torch.Size([1, 32, 32, 32]) torch.Size([1, 32, 32, 32])\n",
            "242 torch.Size([1, 32, 32, 32]) torch.Size([1, 32, 32, 32])\n",
            "243 torch.Size([1, 32, 32, 32]) torch.Size([1, 32, 32, 32])\n",
            "244 torch.Size([1, 32, 32, 32]) torch.Size([1, 32, 32, 32])\n",
            "245 torch.Size([1, 32, 32, 32]) torch.Size([1, 32, 32, 32])\n",
            "246 torch.Size([1, 32, 32, 32]) torch.Size([1, 32, 32, 32])\n",
            "247 torch.Size([1, 32, 32, 32]) torch.Size([1, 32, 32, 32])\n",
            "248 torch.Size([1, 32, 32, 32]) torch.Size([1, 32, 32, 32])\n",
            "249 torch.Size([1, 32, 32, 32]) torch.Size([1, 32, 32, 32])\n",
            "250 torch.Size([1, 32, 32, 32]) torch.Size([1, 32, 32, 32])\n",
            "251 torch.Size([1, 32, 32, 32]) torch.Size([1, 32, 32, 32])\n",
            "252 torch.Size([1, 32, 32, 32]) torch.Size([1, 32, 32, 32])\n",
            "253 torch.Size([1, 32, 32, 32]) torch.Size([1, 32, 32, 32])\n",
            "254 torch.Size([1, 32, 32, 32]) torch.Size([1, 32, 32, 32])\n",
            "255 torch.Size([1, 32, 32, 32]) torch.Size([1, 32, 32, 32])\n"
          ],
          "name": "stdout"
        }
      ]
    },
    {
      "cell_type": "code",
      "metadata": {
        "id": "Gs97dHr7AIlJ",
        "colab_type": "code",
        "colab": {}
      },
      "source": [
        "trainloader = torch.utils.data.DataLoader(custom_data, batch_size=16,shuffle=True)\n",
        "testloader = torch.utils.data.DataLoader(custom_data, batch_size=16,shuffle=True)"
      ],
      "execution_count": null,
      "outputs": []
    },
    {
      "cell_type": "code",
      "metadata": {
        "id": "4EbHA7D7AKQc",
        "colab_type": "code",
        "colab": {}
      },
      "source": [
        "optimizer = optim.SGD(model.parameters(), lr=0.001, momentum=0.9)\n"
      ],
      "execution_count": null,
      "outputs": []
    },
    {
      "cell_type": "code",
      "metadata": {
        "id": "XzO5kFeYArgH",
        "colab_type": "code",
        "colab": {
          "base_uri": "https://localhost:8080/",
          "height": 1000
        },
        "outputId": "7f5c2cc0-3c24-4bcd-c109-ce9ab0f2952f"
      },
      "source": [
        "for epoch in range(2):  # loop over the dataset multiple times\n",
        "\n",
        "    running_loss = 0.0\n",
        "    for i, data in enumerate(trainloader, 0):\n",
        "        print(i)\n",
        "        \n",
        "        # get the inputs; data is a list of [inputs, labels]\n",
        "        inputs, labels = data\n",
        "        print(inputs.shape)\n",
        "        print(labels.shape)\n",
        "\n",
        "        # zero the parameter gradients\n",
        "        optimizer.zero_grad()\n",
        "\n",
        "        # forward + backward + optimize\n",
        "        outputs = model(inputs)\n",
        "        loss = 1 - ssim( outputs, labels, data_range=255, size_average=True)\n",
        "        loss.backward()\n",
        "        optimizer.step()\n",
        "\n",
        "        # print statistics\n",
        "        running_loss += loss.item()\n",
        "        if i % 4 == 3:    # print every 200 mini-batches\n",
        "            print('[%d, %5d] loss: %.3f' %\n",
        "                  (epoch + 1, i + 1, running_loss / 4))\n",
        "            running_loss = 0.0\n",
        "\n",
        "        # Deleting already processed data on GPU to save space else will recieve contraint error\n",
        "        del inputs\n",
        "        del labels\n",
        "        del outputs\n",
        "\n",
        "print('Finished Training')"
      ],
      "execution_count": null,
      "outputs": [
        {
          "output_type": "stream",
          "text": [
            "0\n",
            "torch.Size([16, 1, 32, 32, 32])\n",
            "torch.Size([16, 1, 32, 32, 32])\n"
          ],
          "name": "stdout"
        },
        {
          "output_type": "stream",
          "text": [
            "/usr/local/lib/python3.6/dist-packages/torch/nn/functional.py:2941: UserWarning: nn.functional.upsample is deprecated. Use nn.functional.interpolate instead.\n",
            "  warnings.warn(\"nn.functional.upsample is deprecated. Use nn.functional.interpolate instead.\")\n",
            "/usr/local/lib/python3.6/dist-packages/torch/nn/functional.py:3121: UserWarning: Default upsampling behavior when mode=trilinear is changed to align_corners=False since 0.4.0. Please specify align_corners=True if the old behavior is desired. See the documentation of nn.Upsample for details.\n",
            "  \"See the documentation of nn.Upsample for details.\".format(mode))\n"
          ],
          "name": "stderr"
        },
        {
          "output_type": "stream",
          "text": [
            "1\n",
            "torch.Size([16, 1, 32, 32, 32])\n",
            "torch.Size([16, 1, 32, 32, 32])\n",
            "2\n",
            "torch.Size([16, 1, 32, 32, 32])\n",
            "torch.Size([16, 1, 32, 32, 32])\n",
            "3\n",
            "torch.Size([16, 1, 32, 32, 32])\n",
            "torch.Size([16, 1, 32, 32, 32])\n",
            "[1,     4] loss: 0.035\n",
            "4\n",
            "torch.Size([16, 1, 32, 32, 32])\n",
            "torch.Size([16, 1, 32, 32, 32])\n",
            "5\n",
            "torch.Size([16, 1, 32, 32, 32])\n",
            "torch.Size([16, 1, 32, 32, 32])\n",
            "6\n",
            "torch.Size([16, 1, 32, 32, 32])\n",
            "torch.Size([16, 1, 32, 32, 32])\n",
            "7\n",
            "torch.Size([16, 1, 32, 32, 32])\n",
            "torch.Size([16, 1, 32, 32, 32])\n",
            "[1,     8] loss: 0.034\n",
            "8\n",
            "torch.Size([16, 1, 32, 32, 32])\n",
            "torch.Size([16, 1, 32, 32, 32])\n",
            "9\n",
            "torch.Size([16, 1, 32, 32, 32])\n",
            "torch.Size([16, 1, 32, 32, 32])\n",
            "10\n",
            "torch.Size([16, 1, 32, 32, 32])\n",
            "torch.Size([16, 1, 32, 32, 32])\n",
            "11\n",
            "torch.Size([16, 1, 32, 32, 32])\n",
            "torch.Size([16, 1, 32, 32, 32])\n",
            "[1,    12] loss: 0.033\n",
            "12\n",
            "torch.Size([16, 1, 32, 32, 32])\n",
            "torch.Size([16, 1, 32, 32, 32])\n",
            "13\n",
            "torch.Size([16, 1, 32, 32, 32])\n",
            "torch.Size([16, 1, 32, 32, 32])\n",
            "14\n",
            "torch.Size([16, 1, 32, 32, 32])\n",
            "torch.Size([16, 1, 32, 32, 32])\n",
            "15\n",
            "torch.Size([16, 1, 32, 32, 32])\n",
            "torch.Size([16, 1, 32, 32, 32])\n",
            "[1,    16] loss: 0.032\n",
            "0\n",
            "torch.Size([16, 1, 32, 32, 32])\n",
            "torch.Size([16, 1, 32, 32, 32])\n",
            "1\n",
            "torch.Size([16, 1, 32, 32, 32])\n",
            "torch.Size([16, 1, 32, 32, 32])\n",
            "2\n",
            "torch.Size([16, 1, 32, 32, 32])\n",
            "torch.Size([16, 1, 32, 32, 32])\n",
            "3\n",
            "torch.Size([16, 1, 32, 32, 32])\n",
            "torch.Size([16, 1, 32, 32, 32])\n",
            "[2,     4] loss: 0.030\n",
            "4\n",
            "torch.Size([16, 1, 32, 32, 32])\n",
            "torch.Size([16, 1, 32, 32, 32])\n",
            "5\n",
            "torch.Size([16, 1, 32, 32, 32])\n",
            "torch.Size([16, 1, 32, 32, 32])\n",
            "6\n",
            "torch.Size([16, 1, 32, 32, 32])\n",
            "torch.Size([16, 1, 32, 32, 32])\n",
            "7\n",
            "torch.Size([16, 1, 32, 32, 32])\n",
            "torch.Size([16, 1, 32, 32, 32])\n",
            "[2,     8] loss: 0.029\n",
            "8\n",
            "torch.Size([16, 1, 32, 32, 32])\n",
            "torch.Size([16, 1, 32, 32, 32])\n",
            "9\n",
            "torch.Size([16, 1, 32, 32, 32])\n",
            "torch.Size([16, 1, 32, 32, 32])\n",
            "10\n",
            "torch.Size([16, 1, 32, 32, 32])\n",
            "torch.Size([16, 1, 32, 32, 32])\n",
            "11\n",
            "torch.Size([16, 1, 32, 32, 32])\n",
            "torch.Size([16, 1, 32, 32, 32])\n",
            "[2,    12] loss: 0.027\n",
            "12\n",
            "torch.Size([16, 1, 32, 32, 32])\n",
            "torch.Size([16, 1, 32, 32, 32])\n",
            "13\n",
            "torch.Size([16, 1, 32, 32, 32])\n",
            "torch.Size([16, 1, 32, 32, 32])\n",
            "14\n",
            "torch.Size([16, 1, 32, 32, 32])\n",
            "torch.Size([16, 1, 32, 32, 32])\n",
            "15\n",
            "torch.Size([16, 1, 32, 32, 32])\n",
            "torch.Size([16, 1, 32, 32, 32])\n",
            "[2,    16] loss: 0.026\n",
            "Finished Training\n"
          ],
          "name": "stdout"
        }
      ]
    },
    {
      "cell_type": "markdown",
      "metadata": {
        "id": "YWUH-LWmB7C8",
        "colab_type": "text"
      },
      "source": [
        "# **Creating patches for actual 3D images used for training demo purpose**\n",
        "\n",
        "Used only one image for training due to Computation and Time constraints"
      ]
    },
    {
      "cell_type": "code",
      "metadata": {
        "id": "HpgAa9WKCIhm",
        "colab_type": "code",
        "colab": {}
      },
      "source": [
        "train_image_paths_t1 = image_paths_t1[0:9]\n",
        "train_image_paths_t2 = image_paths_t2[0:9]\n",
        "test_image_paths_t1 = image_paths_t1[10:13]\n",
        "test_image_paths_t2 = image_paths_t2[10:13]\n"
      ],
      "execution_count": null,
      "outputs": []
    },
    {
      "cell_type": "code",
      "metadata": {
        "id": "mOtDKcbOCUaa",
        "colab_type": "code",
        "colab": {
          "base_uri": "https://localhost:8080/",
          "height": 52
        },
        "outputId": "9a6924cb-a1ea-4c3c-a705-0bd4347be9b6"
      },
      "source": [
        "train_dataset = Nifti_T1_T2_Dataset( T1_folder_path=train_image_paths_t1, T2_folder_path= train_image_paths_t2, transforms=None)\n",
        "test_dataset = Nifti_T1_T2_Dataset( T1_folder_path=test_image_paths_t1, T2_folder_path= test_image_paths_t2, transforms=None)\n",
        "\n",
        "print(len(train_dataset))\n",
        "print(len(train_image_paths_t1))"
      ],
      "execution_count": null,
      "outputs": [
        {
          "output_type": "stream",
          "text": [
            "9\n",
            "9\n"
          ],
          "name": "stdout"
        }
      ]
    },
    {
      "cell_type": "code",
      "metadata": {
        "id": "F8cAB92gCwsN",
        "colab_type": "code",
        "colab": {
          "base_uri": "https://localhost:8080/",
          "height": 247
        },
        "outputId": "5d20cba3-1871-4795-f4b8-9729fa892cce"
      },
      "source": [
        "for i in range(len(train_dataset)):\n",
        "    sample = train_dataset[i]\n",
        "    print(i, sample[0].shape, sample[1].shape)\n",
        "\n",
        "print(\" ======= ============== ============\")\n",
        "\n",
        "for i in range(len(test_dataset)):\n",
        "    sample = test_dataset[i]\n",
        "    print(i, sample[0].shape, sample[1].shape)"
      ],
      "execution_count": null,
      "outputs": [
        {
          "output_type": "stream",
          "text": [
            "0 torch.Size([320, 1, 32, 32, 32]) torch.Size([320, 1, 32, 32, 32])\n",
            "1 torch.Size([320, 1, 32, 32, 32]) torch.Size([320, 1, 32, 32, 32])\n",
            "2 torch.Size([320, 1, 32, 32, 32]) torch.Size([320, 1, 32, 32, 32])\n",
            "3 torch.Size([320, 1, 32, 32, 32]) torch.Size([320, 1, 32, 32, 32])\n",
            "4 torch.Size([320, 1, 32, 32, 32]) torch.Size([320, 1, 32, 32, 32])\n",
            "5 torch.Size([320, 1, 32, 32, 32]) torch.Size([320, 1, 32, 32, 32])\n",
            "6 torch.Size([320, 1, 32, 32, 32]) torch.Size([320, 1, 32, 32, 32])\n",
            "7 torch.Size([320, 1, 32, 32, 32]) torch.Size([320, 1, 32, 32, 32])\n",
            "8 torch.Size([320, 1, 32, 32, 32]) torch.Size([320, 1, 32, 32, 32])\n",
            " ======= ============== ============\n",
            "0 torch.Size([320, 1, 32, 32, 32]) torch.Size([320, 1, 32, 32, 32])\n",
            "1 torch.Size([320, 1, 32, 32, 32]) torch.Size([320, 1, 32, 32, 32])\n",
            "2 torch.Size([320, 1, 32, 32, 32]) torch.Size([320, 1, 32, 32, 32])\n"
          ],
          "name": "stdout"
        }
      ]
    },
    {
      "cell_type": "code",
      "metadata": {
        "id": "l8MBTWS2C1-W",
        "colab_type": "code",
        "colab": {}
      },
      "source": [
        "class Patching(Dataset):\n",
        "    def __init__(self, patches=train_dataset):\n",
        "        self.patches = patches\n",
        "        \n",
        "        \n",
        "    def __getitem__(self, index):\n",
        "        x = self.patches[0][0][index,:,:,:]\n",
        "        y = self.patches[1][1][index,:,:,:]\n",
        "        # Unsqueeze channel dimension\n",
        "        #x = x.unsqueeze(0)\n",
        "        #y = y.unsqueeze(0)\n",
        "        x = x.to(device, torch.float)\n",
        "        y = y.to(device, torch.float)\n",
        "\n",
        "        return (x, y)\n",
        "    \n",
        "    def __len__(self):\n",
        "        return self.patches[0][0].shape[0]"
      ],
      "execution_count": null,
      "outputs": []
    },
    {
      "cell_type": "code",
      "metadata": {
        "id": "Ggy-o9hgC5d8",
        "colab_type": "code",
        "colab": {}
      },
      "source": [
        "train_patches_dataset = Patching(patches=train_dataset)\n",
        "test_patches_dataset = Patching(patches=test_dataset)"
      ],
      "execution_count": null,
      "outputs": []
    },
    {
      "cell_type": "code",
      "metadata": {
        "id": "nvYWYa3SC8kL",
        "colab_type": "code",
        "colab": {
          "base_uri": "https://localhost:8080/",
          "height": 34
        },
        "outputId": "9e4c4d71-98af-4c92-c4d5-5029367bb3b8"
      },
      "source": [
        "train_dataset[0][1].shape"
      ],
      "execution_count": null,
      "outputs": [
        {
          "output_type": "execute_result",
          "data": {
            "text/plain": [
              "torch.Size([320, 1, 32, 32, 32])"
            ]
          },
          "metadata": {
            "tags": []
          },
          "execution_count": 105
        }
      ]
    },
    {
      "cell_type": "code",
      "metadata": {
        "id": "7BTkjbblDAim",
        "colab_type": "code",
        "colab": {
          "base_uri": "https://localhost:8080/",
          "height": 318
        },
        "outputId": "471569e7-0f93-4296-dcf5-1705c27f5dec"
      },
      "source": [
        "for i in range(len(train_patches_dataset)):\n",
        "    sample = train_patches_dataset[i]\n",
        "    print(i, sample[0].shape, sample[1].shape)\n",
        "    print(sample[0].dtype)\n",
        "    if( i > 2):\n",
        "      break;\n",
        "\n",
        "print(\" ======= ============== ============\")\n",
        "\n",
        "for i in range(len(test_patches_dataset)):\n",
        "    sample = test_patches_dataset[i]\n",
        "    print(i, sample[0].shape, sample[1].shape)\n",
        "    print(sample[0].dtype)\n",
        "    if( i > 2):\n",
        "      break;"
      ],
      "execution_count": null,
      "outputs": [
        {
          "output_type": "stream",
          "text": [
            "0 torch.Size([1, 32, 32, 32]) torch.Size([1, 32, 32, 32])\n",
            "torch.float32\n",
            "1 torch.Size([1, 32, 32, 32]) torch.Size([1, 32, 32, 32])\n",
            "torch.float32\n",
            "2 torch.Size([1, 32, 32, 32]) torch.Size([1, 32, 32, 32])\n",
            "torch.float32\n",
            "3 torch.Size([1, 32, 32, 32]) torch.Size([1, 32, 32, 32])\n",
            "torch.float32\n",
            " ======= ============== ============\n",
            "0 torch.Size([1, 32, 32, 32]) torch.Size([1, 32, 32, 32])\n",
            "torch.float32\n",
            "1 torch.Size([1, 32, 32, 32]) torch.Size([1, 32, 32, 32])\n",
            "torch.float32\n",
            "2 torch.Size([1, 32, 32, 32]) torch.Size([1, 32, 32, 32])\n",
            "torch.float32\n",
            "3 torch.Size([1, 32, 32, 32]) torch.Size([1, 32, 32, 32])\n",
            "torch.float32\n"
          ],
          "name": "stdout"
        }
      ]
    },
    {
      "cell_type": "code",
      "metadata": {
        "id": "yAxKk7xoEkHG",
        "colab_type": "code",
        "colab": {}
      },
      "source": [
        "train_loader = DataLoader(train_dataset,batch_size=16,shuffle=True, pin_memory=True)\n",
        "test_loader = DataLoader(test_dataset,batch_size=16,shuffle=True, pin_memory=True)"
      ],
      "execution_count": null,
      "outputs": []
    },
    {
      "cell_type": "code",
      "metadata": {
        "id": "XNfBikj-ElzQ",
        "colab_type": "code",
        "colab": {}
      },
      "source": [
        "#train_patches_dataset\n",
        "train_patches_loader = DataLoader(train_patches_dataset,batch_size=16,shuffle=True, pin_memory=False)\n",
        "test_patches_loader = DataLoader(test_patches_dataset,batch_size=16,shuffle=True, pin_memory=False)"
      ],
      "execution_count": null,
      "outputs": []
    },
    {
      "cell_type": "code",
      "metadata": {
        "id": "OkTSMceCEsre",
        "colab_type": "code",
        "colab": {}
      },
      "source": [
        "torch.cuda.empty_cache()"
      ],
      "execution_count": null,
      "outputs": []
    },
    {
      "cell_type": "markdown",
      "metadata": {
        "id": "KWaacZ9vBOhH",
        "colab_type": "text"
      },
      "source": [
        "# **Training on Actual image patches data**\n",
        "\n",
        "1. Use SSIM loss and SGD optimizer, adam was tried but we ran into memory constraints.\n",
        "2. Pass a batch of patches to the model as input\n",
        "3. Get the output and compare with T2.\n",
        "4. Backpropagate the changes to be made to the network to decrease the loss.\n",
        "5. Delete the input, labels and output of the batch after processing as it can fill up gpu and hinder the training."
      ]
    },
    {
      "cell_type": "code",
      "metadata": {
        "id": "FJz39sZ1BYjW",
        "colab_type": "code",
        "colab": {}
      },
      "source": [
        "optimizer = optim.SGD(model.parameters(), lr=0.001, momentum=0.9)"
      ],
      "execution_count": null,
      "outputs": []
    },
    {
      "cell_type": "code",
      "metadata": {
        "id": "AISE9yBJBbfo",
        "colab_type": "code",
        "colab": {
          "base_uri": "https://localhost:8080/",
          "height": 1000
        },
        "outputId": "b22d7d12-825a-4f82-93e1-ee553eb6976f"
      },
      "source": [
        "for epoch in range(2):  # loop over the dataset multiple times\n",
        "\n",
        "    running_loss = 0.0\n",
        "    for i, data in enumerate(train_patches_loader, 0):\n",
        "        \n",
        "        # get the inputs; data is a list of [inputs, labels]\n",
        "        inputs, labels = data\n",
        "        \n",
        "\n",
        "        # zero the parameter gradients\n",
        "        optimizer.zero_grad()\n",
        "\n",
        "        # forward + backward + optimize\n",
        "        outputs = model(inputs)\n",
        "        loss = 1 - ssim( outputs, labels, data_range=255, size_average=True)\n",
        "        loss.backward()\n",
        "        optimizer.step()\n",
        "\n",
        "        # print statistics\n",
        "        running_loss += loss.item()\n",
        "        if i % 6 == 5:    # print every 6 mini-batches\n",
        "            print('[%d, %5d] loss: %.3f' % (epoch + 1, i + 1, running_loss / 6))\n",
        "            print(inputs.shape)\n",
        "            print(labels.shape)\n",
        "            running_loss = 0.0\n",
        "        \n",
        "        del inputs\n",
        "        del labels\n",
        "        del outputs\n",
        "        \n",
        "        \n",
        "\n",
        "print('Finished Training')"
      ],
      "execution_count": null,
      "outputs": [
        {
          "output_type": "stream",
          "text": [
            "/usr/local/lib/python3.6/dist-packages/torch/nn/functional.py:2941: UserWarning: nn.functional.upsample is deprecated. Use nn.functional.interpolate instead.\n",
            "  warnings.warn(\"nn.functional.upsample is deprecated. Use nn.functional.interpolate instead.\")\n",
            "/usr/local/lib/python3.6/dist-packages/torch/nn/functional.py:3121: UserWarning: Default upsampling behavior when mode=trilinear is changed to align_corners=False since 0.4.0. Please specify align_corners=True if the old behavior is desired. See the documentation of nn.Upsample for details.\n",
            "  \"See the documentation of nn.Upsample for details.\".format(mode))\n",
            "/usr/local/lib/python3.6/dist-packages/torch/nn/functional.py:2941: UserWarning: nn.functional.upsample is deprecated. Use nn.functional.interpolate instead.\n",
            "  warnings.warn(\"nn.functional.upsample is deprecated. Use nn.functional.interpolate instead.\")\n",
            "/usr/local/lib/python3.6/dist-packages/torch/nn/functional.py:3121: UserWarning: Default upsampling behavior when mode=trilinear is changed to align_corners=False since 0.4.0. Please specify align_corners=True if the old behavior is desired. See the documentation of nn.Upsample for details.\n",
            "  \"See the documentation of nn.Upsample for details.\".format(mode))\n",
            "/usr/local/lib/python3.6/dist-packages/torch/nn/functional.py:2941: UserWarning: nn.functional.upsample is deprecated. Use nn.functional.interpolate instead.\n",
            "  warnings.warn(\"nn.functional.upsample is deprecated. Use nn.functional.interpolate instead.\")\n",
            "/usr/local/lib/python3.6/dist-packages/torch/nn/functional.py:3121: UserWarning: Default upsampling behavior when mode=trilinear is changed to align_corners=False since 0.4.0. Please specify align_corners=True if the old behavior is desired. See the documentation of nn.Upsample for details.\n",
            "  \"See the documentation of nn.Upsample for details.\".format(mode))\n",
            "/usr/local/lib/python3.6/dist-packages/torch/nn/functional.py:2941: UserWarning: nn.functional.upsample is deprecated. Use nn.functional.interpolate instead.\n",
            "  warnings.warn(\"nn.functional.upsample is deprecated. Use nn.functional.interpolate instead.\")\n",
            "/usr/local/lib/python3.6/dist-packages/torch/nn/functional.py:3121: UserWarning: Default upsampling behavior when mode=trilinear is changed to align_corners=False since 0.4.0. Please specify align_corners=True if the old behavior is desired. See the documentation of nn.Upsample for details.\n",
            "  \"See the documentation of nn.Upsample for details.\".format(mode))\n",
            "/usr/local/lib/python3.6/dist-packages/torch/nn/functional.py:2941: UserWarning: nn.functional.upsample is deprecated. Use nn.functional.interpolate instead.\n",
            "  warnings.warn(\"nn.functional.upsample is deprecated. Use nn.functional.interpolate instead.\")\n",
            "/usr/local/lib/python3.6/dist-packages/torch/nn/functional.py:3121: UserWarning: Default upsampling behavior when mode=trilinear is changed to align_corners=False since 0.4.0. Please specify align_corners=True if the old behavior is desired. See the documentation of nn.Upsample for details.\n",
            "  \"See the documentation of nn.Upsample for details.\".format(mode))\n",
            "/usr/local/lib/python3.6/dist-packages/torch/nn/functional.py:2941: UserWarning: nn.functional.upsample is deprecated. Use nn.functional.interpolate instead.\n",
            "  warnings.warn(\"nn.functional.upsample is deprecated. Use nn.functional.interpolate instead.\")\n",
            "/usr/local/lib/python3.6/dist-packages/torch/nn/functional.py:3121: UserWarning: Default upsampling behavior when mode=trilinear is changed to align_corners=False since 0.4.0. Please specify align_corners=True if the old behavior is desired. See the documentation of nn.Upsample for details.\n",
            "  \"See the documentation of nn.Upsample for details.\".format(mode))\n"
          ],
          "name": "stderr"
        },
        {
          "output_type": "stream",
          "text": [
            "[1,     6] loss: 0.520\n",
            "torch.Size([16, 1, 32, 32, 32])\n",
            "torch.Size([16, 1, 32, 32, 32])\n"
          ],
          "name": "stdout"
        },
        {
          "output_type": "stream",
          "text": [
            "/usr/local/lib/python3.6/dist-packages/torch/nn/functional.py:2941: UserWarning: nn.functional.upsample is deprecated. Use nn.functional.interpolate instead.\n",
            "  warnings.warn(\"nn.functional.upsample is deprecated. Use nn.functional.interpolate instead.\")\n",
            "/usr/local/lib/python3.6/dist-packages/torch/nn/functional.py:3121: UserWarning: Default upsampling behavior when mode=trilinear is changed to align_corners=False since 0.4.0. Please specify align_corners=True if the old behavior is desired. See the documentation of nn.Upsample for details.\n",
            "  \"See the documentation of nn.Upsample for details.\".format(mode))\n",
            "/usr/local/lib/python3.6/dist-packages/torch/nn/functional.py:2941: UserWarning: nn.functional.upsample is deprecated. Use nn.functional.interpolate instead.\n",
            "  warnings.warn(\"nn.functional.upsample is deprecated. Use nn.functional.interpolate instead.\")\n",
            "/usr/local/lib/python3.6/dist-packages/torch/nn/functional.py:3121: UserWarning: Default upsampling behavior when mode=trilinear is changed to align_corners=False since 0.4.0. Please specify align_corners=True if the old behavior is desired. See the documentation of nn.Upsample for details.\n",
            "  \"See the documentation of nn.Upsample for details.\".format(mode))\n",
            "/usr/local/lib/python3.6/dist-packages/torch/nn/functional.py:2941: UserWarning: nn.functional.upsample is deprecated. Use nn.functional.interpolate instead.\n",
            "  warnings.warn(\"nn.functional.upsample is deprecated. Use nn.functional.interpolate instead.\")\n",
            "/usr/local/lib/python3.6/dist-packages/torch/nn/functional.py:3121: UserWarning: Default upsampling behavior when mode=trilinear is changed to align_corners=False since 0.4.0. Please specify align_corners=True if the old behavior is desired. See the documentation of nn.Upsample for details.\n",
            "  \"See the documentation of nn.Upsample for details.\".format(mode))\n",
            "/usr/local/lib/python3.6/dist-packages/torch/nn/functional.py:2941: UserWarning: nn.functional.upsample is deprecated. Use nn.functional.interpolate instead.\n",
            "  warnings.warn(\"nn.functional.upsample is deprecated. Use nn.functional.interpolate instead.\")\n",
            "/usr/local/lib/python3.6/dist-packages/torch/nn/functional.py:3121: UserWarning: Default upsampling behavior when mode=trilinear is changed to align_corners=False since 0.4.0. Please specify align_corners=True if the old behavior is desired. See the documentation of nn.Upsample for details.\n",
            "  \"See the documentation of nn.Upsample for details.\".format(mode))\n",
            "/usr/local/lib/python3.6/dist-packages/torch/nn/functional.py:2941: UserWarning: nn.functional.upsample is deprecated. Use nn.functional.interpolate instead.\n",
            "  warnings.warn(\"nn.functional.upsample is deprecated. Use nn.functional.interpolate instead.\")\n",
            "/usr/local/lib/python3.6/dist-packages/torch/nn/functional.py:3121: UserWarning: Default upsampling behavior when mode=trilinear is changed to align_corners=False since 0.4.0. Please specify align_corners=True if the old behavior is desired. See the documentation of nn.Upsample for details.\n",
            "  \"See the documentation of nn.Upsample for details.\".format(mode))\n",
            "/usr/local/lib/python3.6/dist-packages/torch/nn/functional.py:2941: UserWarning: nn.functional.upsample is deprecated. Use nn.functional.interpolate instead.\n",
            "  warnings.warn(\"nn.functional.upsample is deprecated. Use nn.functional.interpolate instead.\")\n",
            "/usr/local/lib/python3.6/dist-packages/torch/nn/functional.py:3121: UserWarning: Default upsampling behavior when mode=trilinear is changed to align_corners=False since 0.4.0. Please specify align_corners=True if the old behavior is desired. See the documentation of nn.Upsample for details.\n",
            "  \"See the documentation of nn.Upsample for details.\".format(mode))\n"
          ],
          "name": "stderr"
        },
        {
          "output_type": "stream",
          "text": [
            "[1,    12] loss: 0.523\n",
            "torch.Size([16, 1, 32, 32, 32])\n",
            "torch.Size([16, 1, 32, 32, 32])\n"
          ],
          "name": "stdout"
        },
        {
          "output_type": "stream",
          "text": [
            "/usr/local/lib/python3.6/dist-packages/torch/nn/functional.py:2941: UserWarning: nn.functional.upsample is deprecated. Use nn.functional.interpolate instead.\n",
            "  warnings.warn(\"nn.functional.upsample is deprecated. Use nn.functional.interpolate instead.\")\n",
            "/usr/local/lib/python3.6/dist-packages/torch/nn/functional.py:3121: UserWarning: Default upsampling behavior when mode=trilinear is changed to align_corners=False since 0.4.0. Please specify align_corners=True if the old behavior is desired. See the documentation of nn.Upsample for details.\n",
            "  \"See the documentation of nn.Upsample for details.\".format(mode))\n",
            "/usr/local/lib/python3.6/dist-packages/torch/nn/functional.py:2941: UserWarning: nn.functional.upsample is deprecated. Use nn.functional.interpolate instead.\n",
            "  warnings.warn(\"nn.functional.upsample is deprecated. Use nn.functional.interpolate instead.\")\n",
            "/usr/local/lib/python3.6/dist-packages/torch/nn/functional.py:3121: UserWarning: Default upsampling behavior when mode=trilinear is changed to align_corners=False since 0.4.0. Please specify align_corners=True if the old behavior is desired. See the documentation of nn.Upsample for details.\n",
            "  \"See the documentation of nn.Upsample for details.\".format(mode))\n",
            "/usr/local/lib/python3.6/dist-packages/torch/nn/functional.py:2941: UserWarning: nn.functional.upsample is deprecated. Use nn.functional.interpolate instead.\n",
            "  warnings.warn(\"nn.functional.upsample is deprecated. Use nn.functional.interpolate instead.\")\n",
            "/usr/local/lib/python3.6/dist-packages/torch/nn/functional.py:3121: UserWarning: Default upsampling behavior when mode=trilinear is changed to align_corners=False since 0.4.0. Please specify align_corners=True if the old behavior is desired. See the documentation of nn.Upsample for details.\n",
            "  \"See the documentation of nn.Upsample for details.\".format(mode))\n",
            "/usr/local/lib/python3.6/dist-packages/torch/nn/functional.py:2941: UserWarning: nn.functional.upsample is deprecated. Use nn.functional.interpolate instead.\n",
            "  warnings.warn(\"nn.functional.upsample is deprecated. Use nn.functional.interpolate instead.\")\n",
            "/usr/local/lib/python3.6/dist-packages/torch/nn/functional.py:3121: UserWarning: Default upsampling behavior when mode=trilinear is changed to align_corners=False since 0.4.0. Please specify align_corners=True if the old behavior is desired. See the documentation of nn.Upsample for details.\n",
            "  \"See the documentation of nn.Upsample for details.\".format(mode))\n",
            "/usr/local/lib/python3.6/dist-packages/torch/nn/functional.py:2941: UserWarning: nn.functional.upsample is deprecated. Use nn.functional.interpolate instead.\n",
            "  warnings.warn(\"nn.functional.upsample is deprecated. Use nn.functional.interpolate instead.\")\n",
            "/usr/local/lib/python3.6/dist-packages/torch/nn/functional.py:3121: UserWarning: Default upsampling behavior when mode=trilinear is changed to align_corners=False since 0.4.0. Please specify align_corners=True if the old behavior is desired. See the documentation of nn.Upsample for details.\n",
            "  \"See the documentation of nn.Upsample for details.\".format(mode))\n",
            "/usr/local/lib/python3.6/dist-packages/torch/nn/functional.py:2941: UserWarning: nn.functional.upsample is deprecated. Use nn.functional.interpolate instead.\n",
            "  warnings.warn(\"nn.functional.upsample is deprecated. Use nn.functional.interpolate instead.\")\n",
            "/usr/local/lib/python3.6/dist-packages/torch/nn/functional.py:3121: UserWarning: Default upsampling behavior when mode=trilinear is changed to align_corners=False since 0.4.0. Please specify align_corners=True if the old behavior is desired. See the documentation of nn.Upsample for details.\n",
            "  \"See the documentation of nn.Upsample for details.\".format(mode))\n"
          ],
          "name": "stderr"
        },
        {
          "output_type": "stream",
          "text": [
            "[1,    18] loss: 0.604\n",
            "torch.Size([16, 1, 32, 32, 32])\n",
            "torch.Size([16, 1, 32, 32, 32])\n"
          ],
          "name": "stdout"
        },
        {
          "output_type": "stream",
          "text": [
            "/usr/local/lib/python3.6/dist-packages/torch/nn/functional.py:2941: UserWarning: nn.functional.upsample is deprecated. Use nn.functional.interpolate instead.\n",
            "  warnings.warn(\"nn.functional.upsample is deprecated. Use nn.functional.interpolate instead.\")\n",
            "/usr/local/lib/python3.6/dist-packages/torch/nn/functional.py:3121: UserWarning: Default upsampling behavior when mode=trilinear is changed to align_corners=False since 0.4.0. Please specify align_corners=True if the old behavior is desired. See the documentation of nn.Upsample for details.\n",
            "  \"See the documentation of nn.Upsample for details.\".format(mode))\n",
            "/usr/local/lib/python3.6/dist-packages/torch/nn/functional.py:2941: UserWarning: nn.functional.upsample is deprecated. Use nn.functional.interpolate instead.\n",
            "  warnings.warn(\"nn.functional.upsample is deprecated. Use nn.functional.interpolate instead.\")\n",
            "/usr/local/lib/python3.6/dist-packages/torch/nn/functional.py:3121: UserWarning: Default upsampling behavior when mode=trilinear is changed to align_corners=False since 0.4.0. Please specify align_corners=True if the old behavior is desired. See the documentation of nn.Upsample for details.\n",
            "  \"See the documentation of nn.Upsample for details.\".format(mode))\n",
            "/usr/local/lib/python3.6/dist-packages/torch/nn/functional.py:2941: UserWarning: nn.functional.upsample is deprecated. Use nn.functional.interpolate instead.\n",
            "  warnings.warn(\"nn.functional.upsample is deprecated. Use nn.functional.interpolate instead.\")\n",
            "/usr/local/lib/python3.6/dist-packages/torch/nn/functional.py:3121: UserWarning: Default upsampling behavior when mode=trilinear is changed to align_corners=False since 0.4.0. Please specify align_corners=True if the old behavior is desired. See the documentation of nn.Upsample for details.\n",
            "  \"See the documentation of nn.Upsample for details.\".format(mode))\n",
            "/usr/local/lib/python3.6/dist-packages/torch/nn/functional.py:2941: UserWarning: nn.functional.upsample is deprecated. Use nn.functional.interpolate instead.\n",
            "  warnings.warn(\"nn.functional.upsample is deprecated. Use nn.functional.interpolate instead.\")\n",
            "/usr/local/lib/python3.6/dist-packages/torch/nn/functional.py:3121: UserWarning: Default upsampling behavior when mode=trilinear is changed to align_corners=False since 0.4.0. Please specify align_corners=True if the old behavior is desired. See the documentation of nn.Upsample for details.\n",
            "  \"See the documentation of nn.Upsample for details.\".format(mode))\n",
            "/usr/local/lib/python3.6/dist-packages/torch/nn/functional.py:2941: UserWarning: nn.functional.upsample is deprecated. Use nn.functional.interpolate instead.\n",
            "  warnings.warn(\"nn.functional.upsample is deprecated. Use nn.functional.interpolate instead.\")\n",
            "/usr/local/lib/python3.6/dist-packages/torch/nn/functional.py:3121: UserWarning: Default upsampling behavior when mode=trilinear is changed to align_corners=False since 0.4.0. Please specify align_corners=True if the old behavior is desired. See the documentation of nn.Upsample for details.\n",
            "  \"See the documentation of nn.Upsample for details.\".format(mode))\n",
            "/usr/local/lib/python3.6/dist-packages/torch/nn/functional.py:2941: UserWarning: nn.functional.upsample is deprecated. Use nn.functional.interpolate instead.\n",
            "  warnings.warn(\"nn.functional.upsample is deprecated. Use nn.functional.interpolate instead.\")\n",
            "/usr/local/lib/python3.6/dist-packages/torch/nn/functional.py:3121: UserWarning: Default upsampling behavior when mode=trilinear is changed to align_corners=False since 0.4.0. Please specify align_corners=True if the old behavior is desired. See the documentation of nn.Upsample for details.\n",
            "  \"See the documentation of nn.Upsample for details.\".format(mode))\n",
            "/usr/local/lib/python3.6/dist-packages/torch/nn/functional.py:2941: UserWarning: nn.functional.upsample is deprecated. Use nn.functional.interpolate instead.\n",
            "  warnings.warn(\"nn.functional.upsample is deprecated. Use nn.functional.interpolate instead.\")\n",
            "/usr/local/lib/python3.6/dist-packages/torch/nn/functional.py:3121: UserWarning: Default upsampling behavior when mode=trilinear is changed to align_corners=False since 0.4.0. Please specify align_corners=True if the old behavior is desired. See the documentation of nn.Upsample for details.\n",
            "  \"See the documentation of nn.Upsample for details.\".format(mode))\n",
            "/usr/local/lib/python3.6/dist-packages/torch/nn/functional.py:2941: UserWarning: nn.functional.upsample is deprecated. Use nn.functional.interpolate instead.\n",
            "  warnings.warn(\"nn.functional.upsample is deprecated. Use nn.functional.interpolate instead.\")\n",
            "/usr/local/lib/python3.6/dist-packages/torch/nn/functional.py:3121: UserWarning: Default upsampling behavior when mode=trilinear is changed to align_corners=False since 0.4.0. Please specify align_corners=True if the old behavior is desired. See the documentation of nn.Upsample for details.\n",
            "  \"See the documentation of nn.Upsample for details.\".format(mode))\n"
          ],
          "name": "stderr"
        },
        {
          "output_type": "stream",
          "text": [
            "[2,     6] loss: 0.503\n",
            "torch.Size([16, 1, 32, 32, 32])\n",
            "torch.Size([16, 1, 32, 32, 32])\n"
          ],
          "name": "stdout"
        },
        {
          "output_type": "stream",
          "text": [
            "/usr/local/lib/python3.6/dist-packages/torch/nn/functional.py:2941: UserWarning: nn.functional.upsample is deprecated. Use nn.functional.interpolate instead.\n",
            "  warnings.warn(\"nn.functional.upsample is deprecated. Use nn.functional.interpolate instead.\")\n",
            "/usr/local/lib/python3.6/dist-packages/torch/nn/functional.py:3121: UserWarning: Default upsampling behavior when mode=trilinear is changed to align_corners=False since 0.4.0. Please specify align_corners=True if the old behavior is desired. See the documentation of nn.Upsample for details.\n",
            "  \"See the documentation of nn.Upsample for details.\".format(mode))\n",
            "/usr/local/lib/python3.6/dist-packages/torch/nn/functional.py:2941: UserWarning: nn.functional.upsample is deprecated. Use nn.functional.interpolate instead.\n",
            "  warnings.warn(\"nn.functional.upsample is deprecated. Use nn.functional.interpolate instead.\")\n",
            "/usr/local/lib/python3.6/dist-packages/torch/nn/functional.py:3121: UserWarning: Default upsampling behavior when mode=trilinear is changed to align_corners=False since 0.4.0. Please specify align_corners=True if the old behavior is desired. See the documentation of nn.Upsample for details.\n",
            "  \"See the documentation of nn.Upsample for details.\".format(mode))\n",
            "/usr/local/lib/python3.6/dist-packages/torch/nn/functional.py:2941: UserWarning: nn.functional.upsample is deprecated. Use nn.functional.interpolate instead.\n",
            "  warnings.warn(\"nn.functional.upsample is deprecated. Use nn.functional.interpolate instead.\")\n",
            "/usr/local/lib/python3.6/dist-packages/torch/nn/functional.py:3121: UserWarning: Default upsampling behavior when mode=trilinear is changed to align_corners=False since 0.4.0. Please specify align_corners=True if the old behavior is desired. See the documentation of nn.Upsample for details.\n",
            "  \"See the documentation of nn.Upsample for details.\".format(mode))\n",
            "/usr/local/lib/python3.6/dist-packages/torch/nn/functional.py:2941: UserWarning: nn.functional.upsample is deprecated. Use nn.functional.interpolate instead.\n",
            "  warnings.warn(\"nn.functional.upsample is deprecated. Use nn.functional.interpolate instead.\")\n",
            "/usr/local/lib/python3.6/dist-packages/torch/nn/functional.py:3121: UserWarning: Default upsampling behavior when mode=trilinear is changed to align_corners=False since 0.4.0. Please specify align_corners=True if the old behavior is desired. See the documentation of nn.Upsample for details.\n",
            "  \"See the documentation of nn.Upsample for details.\".format(mode))\n",
            "/usr/local/lib/python3.6/dist-packages/torch/nn/functional.py:2941: UserWarning: nn.functional.upsample is deprecated. Use nn.functional.interpolate instead.\n",
            "  warnings.warn(\"nn.functional.upsample is deprecated. Use nn.functional.interpolate instead.\")\n",
            "/usr/local/lib/python3.6/dist-packages/torch/nn/functional.py:3121: UserWarning: Default upsampling behavior when mode=trilinear is changed to align_corners=False since 0.4.0. Please specify align_corners=True if the old behavior is desired. See the documentation of nn.Upsample for details.\n",
            "  \"See the documentation of nn.Upsample for details.\".format(mode))\n",
            "/usr/local/lib/python3.6/dist-packages/torch/nn/functional.py:2941: UserWarning: nn.functional.upsample is deprecated. Use nn.functional.interpolate instead.\n",
            "  warnings.warn(\"nn.functional.upsample is deprecated. Use nn.functional.interpolate instead.\")\n",
            "/usr/local/lib/python3.6/dist-packages/torch/nn/functional.py:3121: UserWarning: Default upsampling behavior when mode=trilinear is changed to align_corners=False since 0.4.0. Please specify align_corners=True if the old behavior is desired. See the documentation of nn.Upsample for details.\n",
            "  \"See the documentation of nn.Upsample for details.\".format(mode))\n"
          ],
          "name": "stderr"
        },
        {
          "output_type": "stream",
          "text": [
            "[2,    12] loss: 0.587\n",
            "torch.Size([16, 1, 32, 32, 32])\n",
            "torch.Size([16, 1, 32, 32, 32])\n"
          ],
          "name": "stdout"
        },
        {
          "output_type": "stream",
          "text": [
            "/usr/local/lib/python3.6/dist-packages/torch/nn/functional.py:2941: UserWarning: nn.functional.upsample is deprecated. Use nn.functional.interpolate instead.\n",
            "  warnings.warn(\"nn.functional.upsample is deprecated. Use nn.functional.interpolate instead.\")\n",
            "/usr/local/lib/python3.6/dist-packages/torch/nn/functional.py:3121: UserWarning: Default upsampling behavior when mode=trilinear is changed to align_corners=False since 0.4.0. Please specify align_corners=True if the old behavior is desired. See the documentation of nn.Upsample for details.\n",
            "  \"See the documentation of nn.Upsample for details.\".format(mode))\n",
            "/usr/local/lib/python3.6/dist-packages/torch/nn/functional.py:2941: UserWarning: nn.functional.upsample is deprecated. Use nn.functional.interpolate instead.\n",
            "  warnings.warn(\"nn.functional.upsample is deprecated. Use nn.functional.interpolate instead.\")\n",
            "/usr/local/lib/python3.6/dist-packages/torch/nn/functional.py:3121: UserWarning: Default upsampling behavior when mode=trilinear is changed to align_corners=False since 0.4.0. Please specify align_corners=True if the old behavior is desired. See the documentation of nn.Upsample for details.\n",
            "  \"See the documentation of nn.Upsample for details.\".format(mode))\n",
            "/usr/local/lib/python3.6/dist-packages/torch/nn/functional.py:2941: UserWarning: nn.functional.upsample is deprecated. Use nn.functional.interpolate instead.\n",
            "  warnings.warn(\"nn.functional.upsample is deprecated. Use nn.functional.interpolate instead.\")\n",
            "/usr/local/lib/python3.6/dist-packages/torch/nn/functional.py:3121: UserWarning: Default upsampling behavior when mode=trilinear is changed to align_corners=False since 0.4.0. Please specify align_corners=True if the old behavior is desired. See the documentation of nn.Upsample for details.\n",
            "  \"See the documentation of nn.Upsample for details.\".format(mode))\n",
            "/usr/local/lib/python3.6/dist-packages/torch/nn/functional.py:2941: UserWarning: nn.functional.upsample is deprecated. Use nn.functional.interpolate instead.\n",
            "  warnings.warn(\"nn.functional.upsample is deprecated. Use nn.functional.interpolate instead.\")\n",
            "/usr/local/lib/python3.6/dist-packages/torch/nn/functional.py:3121: UserWarning: Default upsampling behavior when mode=trilinear is changed to align_corners=False since 0.4.0. Please specify align_corners=True if the old behavior is desired. See the documentation of nn.Upsample for details.\n",
            "  \"See the documentation of nn.Upsample for details.\".format(mode))\n",
            "/usr/local/lib/python3.6/dist-packages/torch/nn/functional.py:2941: UserWarning: nn.functional.upsample is deprecated. Use nn.functional.interpolate instead.\n",
            "  warnings.warn(\"nn.functional.upsample is deprecated. Use nn.functional.interpolate instead.\")\n",
            "/usr/local/lib/python3.6/dist-packages/torch/nn/functional.py:3121: UserWarning: Default upsampling behavior when mode=trilinear is changed to align_corners=False since 0.4.0. Please specify align_corners=True if the old behavior is desired. See the documentation of nn.Upsample for details.\n",
            "  \"See the documentation of nn.Upsample for details.\".format(mode))\n",
            "/usr/local/lib/python3.6/dist-packages/torch/nn/functional.py:2941: UserWarning: nn.functional.upsample is deprecated. Use nn.functional.interpolate instead.\n",
            "  warnings.warn(\"nn.functional.upsample is deprecated. Use nn.functional.interpolate instead.\")\n",
            "/usr/local/lib/python3.6/dist-packages/torch/nn/functional.py:3121: UserWarning: Default upsampling behavior when mode=trilinear is changed to align_corners=False since 0.4.0. Please specify align_corners=True if the old behavior is desired. See the documentation of nn.Upsample for details.\n",
            "  \"See the documentation of nn.Upsample for details.\".format(mode))\n"
          ],
          "name": "stderr"
        },
        {
          "output_type": "stream",
          "text": [
            "[2,    18] loss: 0.523\n",
            "torch.Size([16, 1, 32, 32, 32])\n",
            "torch.Size([16, 1, 32, 32, 32])\n"
          ],
          "name": "stdout"
        },
        {
          "output_type": "stream",
          "text": [
            "/usr/local/lib/python3.6/dist-packages/torch/nn/functional.py:2941: UserWarning: nn.functional.upsample is deprecated. Use nn.functional.interpolate instead.\n",
            "  warnings.warn(\"nn.functional.upsample is deprecated. Use nn.functional.interpolate instead.\")\n",
            "/usr/local/lib/python3.6/dist-packages/torch/nn/functional.py:3121: UserWarning: Default upsampling behavior when mode=trilinear is changed to align_corners=False since 0.4.0. Please specify align_corners=True if the old behavior is desired. See the documentation of nn.Upsample for details.\n",
            "  \"See the documentation of nn.Upsample for details.\".format(mode))\n",
            "/usr/local/lib/python3.6/dist-packages/torch/nn/functional.py:2941: UserWarning: nn.functional.upsample is deprecated. Use nn.functional.interpolate instead.\n",
            "  warnings.warn(\"nn.functional.upsample is deprecated. Use nn.functional.interpolate instead.\")\n",
            "/usr/local/lib/python3.6/dist-packages/torch/nn/functional.py:3121: UserWarning: Default upsampling behavior when mode=trilinear is changed to align_corners=False since 0.4.0. Please specify align_corners=True if the old behavior is desired. See the documentation of nn.Upsample for details.\n",
            "  \"See the documentation of nn.Upsample for details.\".format(mode))\n"
          ],
          "name": "stderr"
        },
        {
          "output_type": "stream",
          "text": [
            "Finished Training\n"
          ],
          "name": "stdout"
        }
      ]
    },
    {
      "cell_type": "code",
      "metadata": {
        "id": "6zHeUEReBuqG",
        "colab_type": "code",
        "colab": {}
      },
      "source": [
        "# Model class must be defined somewhere\n",
        "torch.save(model, \"/content/drive/My Drive/Colab Notebooks/ImageRegistrationUsingDeepLearning/unet.pth\")"
      ],
      "execution_count": null,
      "outputs": []
    },
    {
      "cell_type": "code",
      "metadata": {
        "colab_type": "code",
        "id": "hzqoiSN1hous",
        "colab": {}
      },
      "source": [
        "unet_model = torch.load(\"/content/drive/My Drive/Colab Notebooks/image_registration/unet.pth\")\n",
        "unet_model.eval()\n",
        "unet_model = unet_model.to(device=device)"
      ],
      "execution_count": null,
      "outputs": []
    },
    {
      "cell_type": "code",
      "metadata": {
        "colab_type": "code",
        "id": "VkPWMCrvhoux",
        "colab": {}
      },
      "source": [
        "stacked_tensor = []"
      ],
      "execution_count": null,
      "outputs": []
    },
    {
      "cell_type": "code",
      "metadata": {
        "colab_type": "code",
        "id": "1KjDH3Rshou0",
        "colab": {
          "base_uri": "https://localhost:8080/",
          "height": 1000
        },
        "outputId": "98cd6823-14e9-400d-e1b1-e503b577bf75"
      },
      "source": [
        "for i, data in enumerate(test_patches_loader, 0):\n",
        "        \n",
        "        # get the inputs; data is a list of [inputs, labels]\n",
        "        inputs, labels = data\n",
        "\n",
        "        # patches  \n",
        "        outputs = unet_model(inputs)  \n",
        "        print(outputs.shape)\n",
        "        \n",
        "        stacked_tensor.append(outputs)\n",
        "        del inputs\n",
        "        del labels\n",
        "        del outputs\n",
        "\n"
      ],
      "execution_count": null,
      "outputs": [
        {
          "output_type": "stream",
          "text": [
            "/usr/local/lib/python3.6/dist-packages/torch/nn/functional.py:2941: UserWarning: nn.functional.upsample is deprecated. Use nn.functional.interpolate instead.\n",
            "  warnings.warn(\"nn.functional.upsample is deprecated. Use nn.functional.interpolate instead.\")\n",
            "/usr/local/lib/python3.6/dist-packages/torch/nn/functional.py:3121: UserWarning: Default upsampling behavior when mode=trilinear is changed to align_corners=False since 0.4.0. Please specify align_corners=True if the old behavior is desired. See the documentation of nn.Upsample for details.\n",
            "  \"See the documentation of nn.Upsample for details.\".format(mode))\n"
          ],
          "name": "stderr"
        },
        {
          "output_type": "stream",
          "text": [
            "torch.Size([16, 1, 32, 32, 32])\n"
          ],
          "name": "stdout"
        },
        {
          "output_type": "stream",
          "text": [
            "/usr/local/lib/python3.6/dist-packages/torch/nn/functional.py:2941: UserWarning: nn.functional.upsample is deprecated. Use nn.functional.interpolate instead.\n",
            "  warnings.warn(\"nn.functional.upsample is deprecated. Use nn.functional.interpolate instead.\")\n",
            "/usr/local/lib/python3.6/dist-packages/torch/nn/functional.py:3121: UserWarning: Default upsampling behavior when mode=trilinear is changed to align_corners=False since 0.4.0. Please specify align_corners=True if the old behavior is desired. See the documentation of nn.Upsample for details.\n",
            "  \"See the documentation of nn.Upsample for details.\".format(mode))\n"
          ],
          "name": "stderr"
        },
        {
          "output_type": "stream",
          "text": [
            "torch.Size([16, 1, 32, 32, 32])\n"
          ],
          "name": "stdout"
        },
        {
          "output_type": "stream",
          "text": [
            "/usr/local/lib/python3.6/dist-packages/torch/nn/functional.py:2941: UserWarning: nn.functional.upsample is deprecated. Use nn.functional.interpolate instead.\n",
            "  warnings.warn(\"nn.functional.upsample is deprecated. Use nn.functional.interpolate instead.\")\n",
            "/usr/local/lib/python3.6/dist-packages/torch/nn/functional.py:3121: UserWarning: Default upsampling behavior when mode=trilinear is changed to align_corners=False since 0.4.0. Please specify align_corners=True if the old behavior is desired. See the documentation of nn.Upsample for details.\n",
            "  \"See the documentation of nn.Upsample for details.\".format(mode))\n"
          ],
          "name": "stderr"
        },
        {
          "output_type": "stream",
          "text": [
            "torch.Size([16, 1, 32, 32, 32])\n"
          ],
          "name": "stdout"
        },
        {
          "output_type": "stream",
          "text": [
            "/usr/local/lib/python3.6/dist-packages/torch/nn/functional.py:2941: UserWarning: nn.functional.upsample is deprecated. Use nn.functional.interpolate instead.\n",
            "  warnings.warn(\"nn.functional.upsample is deprecated. Use nn.functional.interpolate instead.\")\n",
            "/usr/local/lib/python3.6/dist-packages/torch/nn/functional.py:3121: UserWarning: Default upsampling behavior when mode=trilinear is changed to align_corners=False since 0.4.0. Please specify align_corners=True if the old behavior is desired. See the documentation of nn.Upsample for details.\n",
            "  \"See the documentation of nn.Upsample for details.\".format(mode))\n"
          ],
          "name": "stderr"
        },
        {
          "output_type": "stream",
          "text": [
            "torch.Size([16, 1, 32, 32, 32])\n"
          ],
          "name": "stdout"
        },
        {
          "output_type": "stream",
          "text": [
            "/usr/local/lib/python3.6/dist-packages/torch/nn/functional.py:2941: UserWarning: nn.functional.upsample is deprecated. Use nn.functional.interpolate instead.\n",
            "  warnings.warn(\"nn.functional.upsample is deprecated. Use nn.functional.interpolate instead.\")\n",
            "/usr/local/lib/python3.6/dist-packages/torch/nn/functional.py:3121: UserWarning: Default upsampling behavior when mode=trilinear is changed to align_corners=False since 0.4.0. Please specify align_corners=True if the old behavior is desired. See the documentation of nn.Upsample for details.\n",
            "  \"See the documentation of nn.Upsample for details.\".format(mode))\n"
          ],
          "name": "stderr"
        },
        {
          "output_type": "stream",
          "text": [
            "torch.Size([16, 1, 32, 32, 32])\n"
          ],
          "name": "stdout"
        },
        {
          "output_type": "stream",
          "text": [
            "/usr/local/lib/python3.6/dist-packages/torch/nn/functional.py:2941: UserWarning: nn.functional.upsample is deprecated. Use nn.functional.interpolate instead.\n",
            "  warnings.warn(\"nn.functional.upsample is deprecated. Use nn.functional.interpolate instead.\")\n",
            "/usr/local/lib/python3.6/dist-packages/torch/nn/functional.py:3121: UserWarning: Default upsampling behavior when mode=trilinear is changed to align_corners=False since 0.4.0. Please specify align_corners=True if the old behavior is desired. See the documentation of nn.Upsample for details.\n",
            "  \"See the documentation of nn.Upsample for details.\".format(mode))\n"
          ],
          "name": "stderr"
        },
        {
          "output_type": "stream",
          "text": [
            "torch.Size([16, 1, 32, 32, 32])\n"
          ],
          "name": "stdout"
        },
        {
          "output_type": "stream",
          "text": [
            "/usr/local/lib/python3.6/dist-packages/torch/nn/functional.py:2941: UserWarning: nn.functional.upsample is deprecated. Use nn.functional.interpolate instead.\n",
            "  warnings.warn(\"nn.functional.upsample is deprecated. Use nn.functional.interpolate instead.\")\n",
            "/usr/local/lib/python3.6/dist-packages/torch/nn/functional.py:3121: UserWarning: Default upsampling behavior when mode=trilinear is changed to align_corners=False since 0.4.0. Please specify align_corners=True if the old behavior is desired. See the documentation of nn.Upsample for details.\n",
            "  \"See the documentation of nn.Upsample for details.\".format(mode))\n"
          ],
          "name": "stderr"
        },
        {
          "output_type": "stream",
          "text": [
            "torch.Size([16, 1, 32, 32, 32])\n"
          ],
          "name": "stdout"
        },
        {
          "output_type": "stream",
          "text": [
            "/usr/local/lib/python3.6/dist-packages/torch/nn/functional.py:2941: UserWarning: nn.functional.upsample is deprecated. Use nn.functional.interpolate instead.\n",
            "  warnings.warn(\"nn.functional.upsample is deprecated. Use nn.functional.interpolate instead.\")\n",
            "/usr/local/lib/python3.6/dist-packages/torch/nn/functional.py:3121: UserWarning: Default upsampling behavior when mode=trilinear is changed to align_corners=False since 0.4.0. Please specify align_corners=True if the old behavior is desired. See the documentation of nn.Upsample for details.\n",
            "  \"See the documentation of nn.Upsample for details.\".format(mode))\n"
          ],
          "name": "stderr"
        },
        {
          "output_type": "stream",
          "text": [
            "torch.Size([16, 1, 32, 32, 32])\n"
          ],
          "name": "stdout"
        },
        {
          "output_type": "stream",
          "text": [
            "/usr/local/lib/python3.6/dist-packages/torch/nn/functional.py:2941: UserWarning: nn.functional.upsample is deprecated. Use nn.functional.interpolate instead.\n",
            "  warnings.warn(\"nn.functional.upsample is deprecated. Use nn.functional.interpolate instead.\")\n",
            "/usr/local/lib/python3.6/dist-packages/torch/nn/functional.py:3121: UserWarning: Default upsampling behavior when mode=trilinear is changed to align_corners=False since 0.4.0. Please specify align_corners=True if the old behavior is desired. See the documentation of nn.Upsample for details.\n",
            "  \"See the documentation of nn.Upsample for details.\".format(mode))\n"
          ],
          "name": "stderr"
        },
        {
          "output_type": "stream",
          "text": [
            "torch.Size([16, 1, 32, 32, 32])\n"
          ],
          "name": "stdout"
        },
        {
          "output_type": "stream",
          "text": [
            "/usr/local/lib/python3.6/dist-packages/torch/nn/functional.py:2941: UserWarning: nn.functional.upsample is deprecated. Use nn.functional.interpolate instead.\n",
            "  warnings.warn(\"nn.functional.upsample is deprecated. Use nn.functional.interpolate instead.\")\n",
            "/usr/local/lib/python3.6/dist-packages/torch/nn/functional.py:3121: UserWarning: Default upsampling behavior when mode=trilinear is changed to align_corners=False since 0.4.0. Please specify align_corners=True if the old behavior is desired. See the documentation of nn.Upsample for details.\n",
            "  \"See the documentation of nn.Upsample for details.\".format(mode))\n"
          ],
          "name": "stderr"
        },
        {
          "output_type": "stream",
          "text": [
            "torch.Size([16, 1, 32, 32, 32])\n"
          ],
          "name": "stdout"
        },
        {
          "output_type": "stream",
          "text": [
            "/usr/local/lib/python3.6/dist-packages/torch/nn/functional.py:2941: UserWarning: nn.functional.upsample is deprecated. Use nn.functional.interpolate instead.\n",
            "  warnings.warn(\"nn.functional.upsample is deprecated. Use nn.functional.interpolate instead.\")\n",
            "/usr/local/lib/python3.6/dist-packages/torch/nn/functional.py:3121: UserWarning: Default upsampling behavior when mode=trilinear is changed to align_corners=False since 0.4.0. Please specify align_corners=True if the old behavior is desired. See the documentation of nn.Upsample for details.\n",
            "  \"See the documentation of nn.Upsample for details.\".format(mode))\n"
          ],
          "name": "stderr"
        },
        {
          "output_type": "stream",
          "text": [
            "torch.Size([16, 1, 32, 32, 32])\n"
          ],
          "name": "stdout"
        },
        {
          "output_type": "stream",
          "text": [
            "/usr/local/lib/python3.6/dist-packages/torch/nn/functional.py:2941: UserWarning: nn.functional.upsample is deprecated. Use nn.functional.interpolate instead.\n",
            "  warnings.warn(\"nn.functional.upsample is deprecated. Use nn.functional.interpolate instead.\")\n",
            "/usr/local/lib/python3.6/dist-packages/torch/nn/functional.py:3121: UserWarning: Default upsampling behavior when mode=trilinear is changed to align_corners=False since 0.4.0. Please specify align_corners=True if the old behavior is desired. See the documentation of nn.Upsample for details.\n",
            "  \"See the documentation of nn.Upsample for details.\".format(mode))\n"
          ],
          "name": "stderr"
        },
        {
          "output_type": "stream",
          "text": [
            "torch.Size([16, 1, 32, 32, 32])\n"
          ],
          "name": "stdout"
        },
        {
          "output_type": "stream",
          "text": [
            "/usr/local/lib/python3.6/dist-packages/torch/nn/functional.py:2941: UserWarning: nn.functional.upsample is deprecated. Use nn.functional.interpolate instead.\n",
            "  warnings.warn(\"nn.functional.upsample is deprecated. Use nn.functional.interpolate instead.\")\n",
            "/usr/local/lib/python3.6/dist-packages/torch/nn/functional.py:3121: UserWarning: Default upsampling behavior when mode=trilinear is changed to align_corners=False since 0.4.0. Please specify align_corners=True if the old behavior is desired. See the documentation of nn.Upsample for details.\n",
            "  \"See the documentation of nn.Upsample for details.\".format(mode))\n"
          ],
          "name": "stderr"
        },
        {
          "output_type": "stream",
          "text": [
            "torch.Size([16, 1, 32, 32, 32])\n"
          ],
          "name": "stdout"
        },
        {
          "output_type": "stream",
          "text": [
            "/usr/local/lib/python3.6/dist-packages/torch/nn/functional.py:2941: UserWarning: nn.functional.upsample is deprecated. Use nn.functional.interpolate instead.\n",
            "  warnings.warn(\"nn.functional.upsample is deprecated. Use nn.functional.interpolate instead.\")\n",
            "/usr/local/lib/python3.6/dist-packages/torch/nn/functional.py:3121: UserWarning: Default upsampling behavior when mode=trilinear is changed to align_corners=False since 0.4.0. Please specify align_corners=True if the old behavior is desired. See the documentation of nn.Upsample for details.\n",
            "  \"See the documentation of nn.Upsample for details.\".format(mode))\n"
          ],
          "name": "stderr"
        },
        {
          "output_type": "stream",
          "text": [
            "torch.Size([16, 1, 32, 32, 32])\n"
          ],
          "name": "stdout"
        },
        {
          "output_type": "stream",
          "text": [
            "/usr/local/lib/python3.6/dist-packages/torch/nn/functional.py:2941: UserWarning: nn.functional.upsample is deprecated. Use nn.functional.interpolate instead.\n",
            "  warnings.warn(\"nn.functional.upsample is deprecated. Use nn.functional.interpolate instead.\")\n",
            "/usr/local/lib/python3.6/dist-packages/torch/nn/functional.py:3121: UserWarning: Default upsampling behavior when mode=trilinear is changed to align_corners=False since 0.4.0. Please specify align_corners=True if the old behavior is desired. See the documentation of nn.Upsample for details.\n",
            "  \"See the documentation of nn.Upsample for details.\".format(mode))\n"
          ],
          "name": "stderr"
        },
        {
          "output_type": "stream",
          "text": [
            "torch.Size([16, 1, 32, 32, 32])\n"
          ],
          "name": "stdout"
        },
        {
          "output_type": "stream",
          "text": [
            "/usr/local/lib/python3.6/dist-packages/torch/nn/functional.py:2941: UserWarning: nn.functional.upsample is deprecated. Use nn.functional.interpolate instead.\n",
            "  warnings.warn(\"nn.functional.upsample is deprecated. Use nn.functional.interpolate instead.\")\n",
            "/usr/local/lib/python3.6/dist-packages/torch/nn/functional.py:3121: UserWarning: Default upsampling behavior when mode=trilinear is changed to align_corners=False since 0.4.0. Please specify align_corners=True if the old behavior is desired. See the documentation of nn.Upsample for details.\n",
            "  \"See the documentation of nn.Upsample for details.\".format(mode))\n"
          ],
          "name": "stderr"
        },
        {
          "output_type": "stream",
          "text": [
            "torch.Size([16, 1, 32, 32, 32])\n"
          ],
          "name": "stdout"
        },
        {
          "output_type": "stream",
          "text": [
            "/usr/local/lib/python3.6/dist-packages/torch/nn/functional.py:2941: UserWarning: nn.functional.upsample is deprecated. Use nn.functional.interpolate instead.\n",
            "  warnings.warn(\"nn.functional.upsample is deprecated. Use nn.functional.interpolate instead.\")\n",
            "/usr/local/lib/python3.6/dist-packages/torch/nn/functional.py:3121: UserWarning: Default upsampling behavior when mode=trilinear is changed to align_corners=False since 0.4.0. Please specify align_corners=True if the old behavior is desired. See the documentation of nn.Upsample for details.\n",
            "  \"See the documentation of nn.Upsample for details.\".format(mode))\n"
          ],
          "name": "stderr"
        },
        {
          "output_type": "stream",
          "text": [
            "torch.Size([16, 1, 32, 32, 32])\n"
          ],
          "name": "stdout"
        },
        {
          "output_type": "stream",
          "text": [
            "/usr/local/lib/python3.6/dist-packages/torch/nn/functional.py:2941: UserWarning: nn.functional.upsample is deprecated. Use nn.functional.interpolate instead.\n",
            "  warnings.warn(\"nn.functional.upsample is deprecated. Use nn.functional.interpolate instead.\")\n",
            "/usr/local/lib/python3.6/dist-packages/torch/nn/functional.py:3121: UserWarning: Default upsampling behavior when mode=trilinear is changed to align_corners=False since 0.4.0. Please specify align_corners=True if the old behavior is desired. See the documentation of nn.Upsample for details.\n",
            "  \"See the documentation of nn.Upsample for details.\".format(mode))\n"
          ],
          "name": "stderr"
        },
        {
          "output_type": "stream",
          "text": [
            "torch.Size([16, 1, 32, 32, 32])\n"
          ],
          "name": "stdout"
        },
        {
          "output_type": "stream",
          "text": [
            "/usr/local/lib/python3.6/dist-packages/torch/nn/functional.py:2941: UserWarning: nn.functional.upsample is deprecated. Use nn.functional.interpolate instead.\n",
            "  warnings.warn(\"nn.functional.upsample is deprecated. Use nn.functional.interpolate instead.\")\n",
            "/usr/local/lib/python3.6/dist-packages/torch/nn/functional.py:3121: UserWarning: Default upsampling behavior when mode=trilinear is changed to align_corners=False since 0.4.0. Please specify align_corners=True if the old behavior is desired. See the documentation of nn.Upsample for details.\n",
            "  \"See the documentation of nn.Upsample for details.\".format(mode))\n"
          ],
          "name": "stderr"
        },
        {
          "output_type": "stream",
          "text": [
            "torch.Size([16, 1, 32, 32, 32])\n",
            "torch.Size([16, 1, 32, 32, 32])\n"
          ],
          "name": "stdout"
        },
        {
          "output_type": "stream",
          "text": [
            "/usr/local/lib/python3.6/dist-packages/torch/nn/functional.py:2941: UserWarning: nn.functional.upsample is deprecated. Use nn.functional.interpolate instead.\n",
            "  warnings.warn(\"nn.functional.upsample is deprecated. Use nn.functional.interpolate instead.\")\n",
            "/usr/local/lib/python3.6/dist-packages/torch/nn/functional.py:3121: UserWarning: Default upsampling behavior when mode=trilinear is changed to align_corners=False since 0.4.0. Please specify align_corners=True if the old behavior is desired. See the documentation of nn.Upsample for details.\n",
            "  \"See the documentation of nn.Upsample for details.\".format(mode))\n"
          ],
          "name": "stderr"
        }
      ]
    },
    {
      "cell_type": "code",
      "metadata": {
        "colab_type": "code",
        "id": "vsQkXoDyhou5",
        "colab": {
          "base_uri": "https://localhost:8080/",
          "height": 34
        },
        "outputId": "dd9276c7-be3e-4d25-c05e-5dd3f7f79608"
      },
      "source": [
        "len(stacked_tensor)"
      ],
      "execution_count": null,
      "outputs": [
        {
          "output_type": "execute_result",
          "data": {
            "text/plain": [
              "20"
            ]
          },
          "metadata": {
            "tags": []
          },
          "execution_count": 34
        }
      ]
    },
    {
      "cell_type": "code",
      "metadata": {
        "colab_type": "code",
        "id": "ncrJM6xAhou9",
        "colab": {}
      },
      "source": [
        ""
      ],
      "execution_count": null,
      "outputs": []
    },
    {
      "cell_type": "code",
      "metadata": {
        "colab_type": "code",
        "id": "AbItNDQbhou_",
        "colab": {
          "base_uri": "https://localhost:8080/",
          "height": 34
        },
        "outputId": "8b512866-e6c6-4920-d142-79c84fb1cb35"
      },
      "source": [
        "#stk = torch.stack(stacked_tensor,dim=1)\n",
        "#stk.shape\n"
      ],
      "execution_count": null,
      "outputs": [
        {
          "output_type": "execute_result",
          "data": {
            "text/plain": [
              "torch.Size([16, 20, 1, 32, 32, 32])"
            ]
          },
          "metadata": {
            "tags": []
          },
          "execution_count": 36
        }
      ]
    },
    {
      "cell_type": "markdown",
      "metadata": {
        "colab_type": "text",
        "id": "OkMAq4CEhovC"
      },
      "source": [
        "**Concatenated patches**"
      ]
    },
    {
      "cell_type": "code",
      "metadata": {
        "colab_type": "code",
        "id": "LrYWU2OShovD",
        "colab": {
          "base_uri": "https://localhost:8080/",
          "height": 52
        },
        "outputId": "26696c39-53d7-4552-a987-70d084ed0171"
      },
      "source": [
        "cnct = torch.cat(stacked_tensor,dim=0)\n",
        "print(cnct.shape)\n",
        "cnct = cnct.squeeze(dim=1)\n",
        "print(cnct.shape)"
      ],
      "execution_count": null,
      "outputs": [
        {
          "output_type": "stream",
          "text": [
            "torch.Size([320, 1, 32, 32, 32])\n",
            "torch.Size([320, 32, 32, 32])\n"
          ],
          "name": "stdout"
        }
      ]
    },
    {
      "cell_type": "code",
      "metadata": {
        "colab_type": "code",
        "id": "_ITStc0xhovG",
        "colab": {}
      },
      "source": [
        "#t2_patches = t2_img_tnsr.unfold(2, self.patch_size, self.patch_size).unfold(1, self.patch_size, self.patch_size).unfold(0, self.patch_size, self.patch_size)\n",
        "#        t2_patches = t2_patches.contiguous().view(-1, self.patch_size, self.patch_size, self.patch_size)"
      ],
      "execution_count": null,
      "outputs": []
    },
    {
      "cell_type": "code",
      "metadata": {
        "colab_type": "code",
        "id": "b6ye-YM3hovJ",
        "colab": {
          "base_uri": "https://localhost:8080/",
          "height": 141
        },
        "outputId": "bad3e996-2e91-46a5-a922-b82c4c62f3f8"
      },
      "source": [
        "# @suraj: size of the original tensor after padding\n",
        "x = torch.randn(1, 256, 256, 170)\n",
        "print(\"size of T1 tesor before processing and after pading: {}\".format(str(x.shape)))\n",
        "kc, kh, kw = 32, 32, 32  # kernel size\n",
        "dc, dh, dw = 32, 32, 32  # stride\n",
        "# Pad to multiples of 32\n",
        "x = F.pad(x, (x.size(2)%kw // 2, x.size(2)%kw // 2,\n",
        "              x.size(1)%kh // 2, x.size(1)%kh // 2,\n",
        "              x.size(0)%kc // 2, x.size(0)%kc // 2))\n",
        "\n",
        "#patches = x.unfold(1, kc, dc).unfold(2, kh, dh).unfold(3, kw, dw)\n",
        "#unfold_shape = patches.size()\n",
        "#patches = patches.contiguous().view(-1, kc, kh, kw)\n",
        "#print(patches.shape)\n",
        "\n",
        "\n",
        "#@suraj: Using our concatanted patches\n",
        "\n",
        "print(\"size of processed T2 patches from model: {}\".format(str(cnct.shape)))\n",
        "\n",
        "#@suraj: Moving the tensor from gpu to cpu\n",
        "patches = cnct.to(device=\"cpu\")\n",
        "\n",
        "# Reshape back\n",
        "patches_orig = patches.view(unfold_shape)\n",
        "output_c = unfold_shape[1] * unfold_shape[4]\n",
        "output_h = unfold_shape[2] * unfold_shape[5]\n",
        "output_w = unfold_shape[3] * unfold_shape[6]\n",
        "print(\"Predicted Shape of the T2 output after stiching : {}\",format(str(patches_orig.shape)))\n",
        "patches_orig = patches_orig.permute(0, 1, 4, 2, 5, 3, 6).contiguous()\n",
        "patches_orig = patches_orig.view(1, output_c, output_h, output_w)\n",
        "\n",
        "print(output_c, output_h, output_w)\n",
        "# Check for equality\n",
        "print((patches_orig == x[:, :output_c, :output_h, :output_w]).all())\n",
        "print(patches_orig.shape)\n",
        "print(\"Actual Shape of the T2 output after stiching : {}\",format(str(patches_orig.shape)))\n",
        "#tensor(1, dtype=torch.uint8)\n"
      ],
      "execution_count": null,
      "outputs": [
        {
          "output_type": "stream",
          "text": [
            "size of T1 tesor before processing and after pading: torch.Size([1, 256, 256, 170])\n",
            "size of processed T2 patches from model: torch.Size([320, 32, 32, 32])\n",
            "Predicted Shape of the T2 output after stiching : {} torch.Size([1, 8, 8, 5, 32, 32, 32])\n",
            "256 256 160\n",
            "tensor(False)\n",
            "torch.Size([1, 256, 256, 160])\n",
            "Actual Shape of the T2 output after stiching : {} torch.Size([1, 256, 256, 160])\n"
          ],
          "name": "stdout"
        }
      ]
    },
    {
      "cell_type": "code",
      "metadata": {
        "colab_type": "code",
        "id": "9fXSNe5lhovL",
        "colab": {}
      },
      "source": [
        ""
      ],
      "execution_count": null,
      "outputs": []
    },
    {
      "cell_type": "markdown",
      "metadata": {
        "id": "ohrGF7DVMHvW",
        "colab_type": "text"
      },
      "source": [
        "# **Evaluation**\n",
        "\n",
        "1. Load the model and put it in eval mode.\n",
        "2. Pipe the patches of data to the model and obtain the output patches back.\n",
        "3. Stitch back the patches to old big cube of dimension similar to start. We won't get exact dimension maybe due to the way it was unfolded by padding. But it would be near the same area.\n",
        "4. As expected the input T1 images had [256, 256, 170] after padding and stiched back T2 had [256, 256, 160] as some extra part of T1 was left out during patching and also some odd number dims cannot be stiched back if patch size is even.\n",
        "5. As expected the nifti image was crappy as the training did not happen on all images. Our assumption is that the situation would improve if we were to train on more images.\n",
        "\n",
        "\n",
        "**References**:\n",
        "\n",
        "1. Folding: https://pytorch.org/docs/stable/generated/torch.nn.Fold.html\n",
        "2. Converting Numpy to Nifti: https://stackoverflow.com/questions/28330785/creating-a-nifti-file-from-a-numpy-array"
      ]
    },
    {
      "cell_type": "code",
      "metadata": {
        "colab_type": "code",
        "id": "4zw4z0BowCG9",
        "colab": {}
      },
      "source": [
        "unet_model = torch.load(\"/content/drive/My Drive/Colab Notebooks/image_registration/unet.pth\")\n",
        "unet_model.eval()\n",
        "unet_model = unet_model.to(device=device)"
      ],
      "execution_count": null,
      "outputs": []
    },
    {
      "cell_type": "code",
      "metadata": {
        "colab_type": "code",
        "id": "2ikfDcMtwCHB",
        "colab": {}
      },
      "source": [
        "stacked_tensor = []"
      ],
      "execution_count": null,
      "outputs": []
    },
    {
      "cell_type": "code",
      "metadata": {
        "colab_type": "code",
        "id": "lCBq64kBwCHE",
        "colab": {
          "base_uri": "https://localhost:8080/",
          "height": 1000
        },
        "outputId": "9c8e1c03-fd83-40de-f869-6cbb371acf7c"
      },
      "source": [
        "for i, data in enumerate(test_patches_loader, 0):\n",
        "        \n",
        "        # get the inputs; data is a list of [inputs, labels]\n",
        "        inputs, labels = data\n",
        "\n",
        "        # patches  \n",
        "        outputs = unet_model(inputs)  \n",
        "        print(outputs.shape)\n",
        "        \n",
        "        stacked_tensor.append(outputs)\n",
        "        del inputs\n",
        "        del labels\n",
        "        del outputs\n",
        "\n"
      ],
      "execution_count": null,
      "outputs": [
        {
          "output_type": "stream",
          "text": [
            "/usr/local/lib/python3.6/dist-packages/torch/nn/functional.py:2941: UserWarning: nn.functional.upsample is deprecated. Use nn.functional.interpolate instead.\n",
            "  warnings.warn(\"nn.functional.upsample is deprecated. Use nn.functional.interpolate instead.\")\n",
            "/usr/local/lib/python3.6/dist-packages/torch/nn/functional.py:3121: UserWarning: Default upsampling behavior when mode=trilinear is changed to align_corners=False since 0.4.0. Please specify align_corners=True if the old behavior is desired. See the documentation of nn.Upsample for details.\n",
            "  \"See the documentation of nn.Upsample for details.\".format(mode))\n"
          ],
          "name": "stderr"
        },
        {
          "output_type": "stream",
          "text": [
            "torch.Size([16, 1, 32, 32, 32])\n"
          ],
          "name": "stdout"
        },
        {
          "output_type": "stream",
          "text": [
            "/usr/local/lib/python3.6/dist-packages/torch/nn/functional.py:2941: UserWarning: nn.functional.upsample is deprecated. Use nn.functional.interpolate instead.\n",
            "  warnings.warn(\"nn.functional.upsample is deprecated. Use nn.functional.interpolate instead.\")\n",
            "/usr/local/lib/python3.6/dist-packages/torch/nn/functional.py:3121: UserWarning: Default upsampling behavior when mode=trilinear is changed to align_corners=False since 0.4.0. Please specify align_corners=True if the old behavior is desired. See the documentation of nn.Upsample for details.\n",
            "  \"See the documentation of nn.Upsample for details.\".format(mode))\n"
          ],
          "name": "stderr"
        },
        {
          "output_type": "stream",
          "text": [
            "torch.Size([16, 1, 32, 32, 32])\n"
          ],
          "name": "stdout"
        },
        {
          "output_type": "stream",
          "text": [
            "/usr/local/lib/python3.6/dist-packages/torch/nn/functional.py:2941: UserWarning: nn.functional.upsample is deprecated. Use nn.functional.interpolate instead.\n",
            "  warnings.warn(\"nn.functional.upsample is deprecated. Use nn.functional.interpolate instead.\")\n",
            "/usr/local/lib/python3.6/dist-packages/torch/nn/functional.py:3121: UserWarning: Default upsampling behavior when mode=trilinear is changed to align_corners=False since 0.4.0. Please specify align_corners=True if the old behavior is desired. See the documentation of nn.Upsample for details.\n",
            "  \"See the documentation of nn.Upsample for details.\".format(mode))\n"
          ],
          "name": "stderr"
        },
        {
          "output_type": "stream",
          "text": [
            "torch.Size([16, 1, 32, 32, 32])\n"
          ],
          "name": "stdout"
        },
        {
          "output_type": "stream",
          "text": [
            "/usr/local/lib/python3.6/dist-packages/torch/nn/functional.py:2941: UserWarning: nn.functional.upsample is deprecated. Use nn.functional.interpolate instead.\n",
            "  warnings.warn(\"nn.functional.upsample is deprecated. Use nn.functional.interpolate instead.\")\n",
            "/usr/local/lib/python3.6/dist-packages/torch/nn/functional.py:3121: UserWarning: Default upsampling behavior when mode=trilinear is changed to align_corners=False since 0.4.0. Please specify align_corners=True if the old behavior is desired. See the documentation of nn.Upsample for details.\n",
            "  \"See the documentation of nn.Upsample for details.\".format(mode))\n"
          ],
          "name": "stderr"
        },
        {
          "output_type": "stream",
          "text": [
            "torch.Size([16, 1, 32, 32, 32])\n"
          ],
          "name": "stdout"
        },
        {
          "output_type": "stream",
          "text": [
            "/usr/local/lib/python3.6/dist-packages/torch/nn/functional.py:2941: UserWarning: nn.functional.upsample is deprecated. Use nn.functional.interpolate instead.\n",
            "  warnings.warn(\"nn.functional.upsample is deprecated. Use nn.functional.interpolate instead.\")\n",
            "/usr/local/lib/python3.6/dist-packages/torch/nn/functional.py:3121: UserWarning: Default upsampling behavior when mode=trilinear is changed to align_corners=False since 0.4.0. Please specify align_corners=True if the old behavior is desired. See the documentation of nn.Upsample for details.\n",
            "  \"See the documentation of nn.Upsample for details.\".format(mode))\n"
          ],
          "name": "stderr"
        },
        {
          "output_type": "stream",
          "text": [
            "torch.Size([16, 1, 32, 32, 32])\n"
          ],
          "name": "stdout"
        },
        {
          "output_type": "stream",
          "text": [
            "/usr/local/lib/python3.6/dist-packages/torch/nn/functional.py:2941: UserWarning: nn.functional.upsample is deprecated. Use nn.functional.interpolate instead.\n",
            "  warnings.warn(\"nn.functional.upsample is deprecated. Use nn.functional.interpolate instead.\")\n",
            "/usr/local/lib/python3.6/dist-packages/torch/nn/functional.py:3121: UserWarning: Default upsampling behavior when mode=trilinear is changed to align_corners=False since 0.4.0. Please specify align_corners=True if the old behavior is desired. See the documentation of nn.Upsample for details.\n",
            "  \"See the documentation of nn.Upsample for details.\".format(mode))\n"
          ],
          "name": "stderr"
        },
        {
          "output_type": "stream",
          "text": [
            "torch.Size([16, 1, 32, 32, 32])\n"
          ],
          "name": "stdout"
        },
        {
          "output_type": "stream",
          "text": [
            "/usr/local/lib/python3.6/dist-packages/torch/nn/functional.py:2941: UserWarning: nn.functional.upsample is deprecated. Use nn.functional.interpolate instead.\n",
            "  warnings.warn(\"nn.functional.upsample is deprecated. Use nn.functional.interpolate instead.\")\n",
            "/usr/local/lib/python3.6/dist-packages/torch/nn/functional.py:3121: UserWarning: Default upsampling behavior when mode=trilinear is changed to align_corners=False since 0.4.0. Please specify align_corners=True if the old behavior is desired. See the documentation of nn.Upsample for details.\n",
            "  \"See the documentation of nn.Upsample for details.\".format(mode))\n"
          ],
          "name": "stderr"
        },
        {
          "output_type": "stream",
          "text": [
            "torch.Size([16, 1, 32, 32, 32])\n"
          ],
          "name": "stdout"
        },
        {
          "output_type": "stream",
          "text": [
            "/usr/local/lib/python3.6/dist-packages/torch/nn/functional.py:2941: UserWarning: nn.functional.upsample is deprecated. Use nn.functional.interpolate instead.\n",
            "  warnings.warn(\"nn.functional.upsample is deprecated. Use nn.functional.interpolate instead.\")\n",
            "/usr/local/lib/python3.6/dist-packages/torch/nn/functional.py:3121: UserWarning: Default upsampling behavior when mode=trilinear is changed to align_corners=False since 0.4.0. Please specify align_corners=True if the old behavior is desired. See the documentation of nn.Upsample for details.\n",
            "  \"See the documentation of nn.Upsample for details.\".format(mode))\n"
          ],
          "name": "stderr"
        },
        {
          "output_type": "stream",
          "text": [
            "torch.Size([16, 1, 32, 32, 32])\n"
          ],
          "name": "stdout"
        },
        {
          "output_type": "stream",
          "text": [
            "/usr/local/lib/python3.6/dist-packages/torch/nn/functional.py:2941: UserWarning: nn.functional.upsample is deprecated. Use nn.functional.interpolate instead.\n",
            "  warnings.warn(\"nn.functional.upsample is deprecated. Use nn.functional.interpolate instead.\")\n",
            "/usr/local/lib/python3.6/dist-packages/torch/nn/functional.py:3121: UserWarning: Default upsampling behavior when mode=trilinear is changed to align_corners=False since 0.4.0. Please specify align_corners=True if the old behavior is desired. See the documentation of nn.Upsample for details.\n",
            "  \"See the documentation of nn.Upsample for details.\".format(mode))\n"
          ],
          "name": "stderr"
        },
        {
          "output_type": "stream",
          "text": [
            "torch.Size([16, 1, 32, 32, 32])\n"
          ],
          "name": "stdout"
        },
        {
          "output_type": "stream",
          "text": [
            "/usr/local/lib/python3.6/dist-packages/torch/nn/functional.py:2941: UserWarning: nn.functional.upsample is deprecated. Use nn.functional.interpolate instead.\n",
            "  warnings.warn(\"nn.functional.upsample is deprecated. Use nn.functional.interpolate instead.\")\n",
            "/usr/local/lib/python3.6/dist-packages/torch/nn/functional.py:3121: UserWarning: Default upsampling behavior when mode=trilinear is changed to align_corners=False since 0.4.0. Please specify align_corners=True if the old behavior is desired. See the documentation of nn.Upsample for details.\n",
            "  \"See the documentation of nn.Upsample for details.\".format(mode))\n"
          ],
          "name": "stderr"
        },
        {
          "output_type": "stream",
          "text": [
            "torch.Size([16, 1, 32, 32, 32])\n"
          ],
          "name": "stdout"
        },
        {
          "output_type": "stream",
          "text": [
            "/usr/local/lib/python3.6/dist-packages/torch/nn/functional.py:2941: UserWarning: nn.functional.upsample is deprecated. Use nn.functional.interpolate instead.\n",
            "  warnings.warn(\"nn.functional.upsample is deprecated. Use nn.functional.interpolate instead.\")\n",
            "/usr/local/lib/python3.6/dist-packages/torch/nn/functional.py:3121: UserWarning: Default upsampling behavior when mode=trilinear is changed to align_corners=False since 0.4.0. Please specify align_corners=True if the old behavior is desired. See the documentation of nn.Upsample for details.\n",
            "  \"See the documentation of nn.Upsample for details.\".format(mode))\n"
          ],
          "name": "stderr"
        },
        {
          "output_type": "stream",
          "text": [
            "torch.Size([16, 1, 32, 32, 32])\n"
          ],
          "name": "stdout"
        },
        {
          "output_type": "stream",
          "text": [
            "/usr/local/lib/python3.6/dist-packages/torch/nn/functional.py:2941: UserWarning: nn.functional.upsample is deprecated. Use nn.functional.interpolate instead.\n",
            "  warnings.warn(\"nn.functional.upsample is deprecated. Use nn.functional.interpolate instead.\")\n",
            "/usr/local/lib/python3.6/dist-packages/torch/nn/functional.py:3121: UserWarning: Default upsampling behavior when mode=trilinear is changed to align_corners=False since 0.4.0. Please specify align_corners=True if the old behavior is desired. See the documentation of nn.Upsample for details.\n",
            "  \"See the documentation of nn.Upsample for details.\".format(mode))\n"
          ],
          "name": "stderr"
        },
        {
          "output_type": "stream",
          "text": [
            "torch.Size([16, 1, 32, 32, 32])\n"
          ],
          "name": "stdout"
        },
        {
          "output_type": "stream",
          "text": [
            "/usr/local/lib/python3.6/dist-packages/torch/nn/functional.py:2941: UserWarning: nn.functional.upsample is deprecated. Use nn.functional.interpolate instead.\n",
            "  warnings.warn(\"nn.functional.upsample is deprecated. Use nn.functional.interpolate instead.\")\n",
            "/usr/local/lib/python3.6/dist-packages/torch/nn/functional.py:3121: UserWarning: Default upsampling behavior when mode=trilinear is changed to align_corners=False since 0.4.0. Please specify align_corners=True if the old behavior is desired. See the documentation of nn.Upsample for details.\n",
            "  \"See the documentation of nn.Upsample for details.\".format(mode))\n"
          ],
          "name": "stderr"
        },
        {
          "output_type": "stream",
          "text": [
            "torch.Size([16, 1, 32, 32, 32])\n"
          ],
          "name": "stdout"
        },
        {
          "output_type": "stream",
          "text": [
            "/usr/local/lib/python3.6/dist-packages/torch/nn/functional.py:2941: UserWarning: nn.functional.upsample is deprecated. Use nn.functional.interpolate instead.\n",
            "  warnings.warn(\"nn.functional.upsample is deprecated. Use nn.functional.interpolate instead.\")\n",
            "/usr/local/lib/python3.6/dist-packages/torch/nn/functional.py:3121: UserWarning: Default upsampling behavior when mode=trilinear is changed to align_corners=False since 0.4.0. Please specify align_corners=True if the old behavior is desired. See the documentation of nn.Upsample for details.\n",
            "  \"See the documentation of nn.Upsample for details.\".format(mode))\n"
          ],
          "name": "stderr"
        },
        {
          "output_type": "stream",
          "text": [
            "torch.Size([16, 1, 32, 32, 32])\n"
          ],
          "name": "stdout"
        },
        {
          "output_type": "stream",
          "text": [
            "/usr/local/lib/python3.6/dist-packages/torch/nn/functional.py:2941: UserWarning: nn.functional.upsample is deprecated. Use nn.functional.interpolate instead.\n",
            "  warnings.warn(\"nn.functional.upsample is deprecated. Use nn.functional.interpolate instead.\")\n",
            "/usr/local/lib/python3.6/dist-packages/torch/nn/functional.py:3121: UserWarning: Default upsampling behavior when mode=trilinear is changed to align_corners=False since 0.4.0. Please specify align_corners=True if the old behavior is desired. See the documentation of nn.Upsample for details.\n",
            "  \"See the documentation of nn.Upsample for details.\".format(mode))\n"
          ],
          "name": "stderr"
        },
        {
          "output_type": "stream",
          "text": [
            "torch.Size([16, 1, 32, 32, 32])\n"
          ],
          "name": "stdout"
        },
        {
          "output_type": "stream",
          "text": [
            "/usr/local/lib/python3.6/dist-packages/torch/nn/functional.py:2941: UserWarning: nn.functional.upsample is deprecated. Use nn.functional.interpolate instead.\n",
            "  warnings.warn(\"nn.functional.upsample is deprecated. Use nn.functional.interpolate instead.\")\n",
            "/usr/local/lib/python3.6/dist-packages/torch/nn/functional.py:3121: UserWarning: Default upsampling behavior when mode=trilinear is changed to align_corners=False since 0.4.0. Please specify align_corners=True if the old behavior is desired. See the documentation of nn.Upsample for details.\n",
            "  \"See the documentation of nn.Upsample for details.\".format(mode))\n"
          ],
          "name": "stderr"
        },
        {
          "output_type": "stream",
          "text": [
            "torch.Size([16, 1, 32, 32, 32])\n"
          ],
          "name": "stdout"
        },
        {
          "output_type": "stream",
          "text": [
            "/usr/local/lib/python3.6/dist-packages/torch/nn/functional.py:2941: UserWarning: nn.functional.upsample is deprecated. Use nn.functional.interpolate instead.\n",
            "  warnings.warn(\"nn.functional.upsample is deprecated. Use nn.functional.interpolate instead.\")\n",
            "/usr/local/lib/python3.6/dist-packages/torch/nn/functional.py:3121: UserWarning: Default upsampling behavior when mode=trilinear is changed to align_corners=False since 0.4.0. Please specify align_corners=True if the old behavior is desired. See the documentation of nn.Upsample for details.\n",
            "  \"See the documentation of nn.Upsample for details.\".format(mode))\n"
          ],
          "name": "stderr"
        },
        {
          "output_type": "stream",
          "text": [
            "torch.Size([16, 1, 32, 32, 32])\n"
          ],
          "name": "stdout"
        },
        {
          "output_type": "stream",
          "text": [
            "/usr/local/lib/python3.6/dist-packages/torch/nn/functional.py:2941: UserWarning: nn.functional.upsample is deprecated. Use nn.functional.interpolate instead.\n",
            "  warnings.warn(\"nn.functional.upsample is deprecated. Use nn.functional.interpolate instead.\")\n",
            "/usr/local/lib/python3.6/dist-packages/torch/nn/functional.py:3121: UserWarning: Default upsampling behavior when mode=trilinear is changed to align_corners=False since 0.4.0. Please specify align_corners=True if the old behavior is desired. See the documentation of nn.Upsample for details.\n",
            "  \"See the documentation of nn.Upsample for details.\".format(mode))\n"
          ],
          "name": "stderr"
        },
        {
          "output_type": "stream",
          "text": [
            "torch.Size([16, 1, 32, 32, 32])\n"
          ],
          "name": "stdout"
        },
        {
          "output_type": "stream",
          "text": [
            "/usr/local/lib/python3.6/dist-packages/torch/nn/functional.py:2941: UserWarning: nn.functional.upsample is deprecated. Use nn.functional.interpolate instead.\n",
            "  warnings.warn(\"nn.functional.upsample is deprecated. Use nn.functional.interpolate instead.\")\n",
            "/usr/local/lib/python3.6/dist-packages/torch/nn/functional.py:3121: UserWarning: Default upsampling behavior when mode=trilinear is changed to align_corners=False since 0.4.0. Please specify align_corners=True if the old behavior is desired. See the documentation of nn.Upsample for details.\n",
            "  \"See the documentation of nn.Upsample for details.\".format(mode))\n"
          ],
          "name": "stderr"
        },
        {
          "output_type": "stream",
          "text": [
            "torch.Size([16, 1, 32, 32, 32])\n",
            "torch.Size([16, 1, 32, 32, 32])\n"
          ],
          "name": "stdout"
        },
        {
          "output_type": "stream",
          "text": [
            "/usr/local/lib/python3.6/dist-packages/torch/nn/functional.py:2941: UserWarning: nn.functional.upsample is deprecated. Use nn.functional.interpolate instead.\n",
            "  warnings.warn(\"nn.functional.upsample is deprecated. Use nn.functional.interpolate instead.\")\n",
            "/usr/local/lib/python3.6/dist-packages/torch/nn/functional.py:3121: UserWarning: Default upsampling behavior when mode=trilinear is changed to align_corners=False since 0.4.0. Please specify align_corners=True if the old behavior is desired. See the documentation of nn.Upsample for details.\n",
            "  \"See the documentation of nn.Upsample for details.\".format(mode))\n"
          ],
          "name": "stderr"
        }
      ]
    },
    {
      "cell_type": "code",
      "metadata": {
        "colab_type": "code",
        "id": "yzYzr_OUwCHH",
        "colab": {
          "base_uri": "https://localhost:8080/",
          "height": 34
        },
        "outputId": "1b4c7d36-9fc0-4a5b-832e-baac06d90bab"
      },
      "source": [
        "len(stacked_tensor)"
      ],
      "execution_count": null,
      "outputs": [
        {
          "output_type": "execute_result",
          "data": {
            "text/plain": [
              "20"
            ]
          },
          "metadata": {
            "tags": []
          },
          "execution_count": 27
        }
      ]
    },
    {
      "cell_type": "code",
      "metadata": {
        "colab_type": "code",
        "id": "5ncG5V70wCHK",
        "colab": {}
      },
      "source": [
        ""
      ],
      "execution_count": null,
      "outputs": []
    },
    {
      "cell_type": "code",
      "metadata": {
        "colab_type": "code",
        "id": "jjYtXg-mwCHO",
        "colab": {
          "base_uri": "https://localhost:8080/",
          "height": 34
        },
        "outputId": "8b512866-e6c6-4920-d142-79c84fb1cb35"
      },
      "source": [
        "#stk = torch.stack(stacked_tensor,dim=1)\n",
        "#stk.shape\n"
      ],
      "execution_count": null,
      "outputs": [
        {
          "output_type": "execute_result",
          "data": {
            "text/plain": [
              "torch.Size([16, 20, 1, 32, 32, 32])"
            ]
          },
          "metadata": {
            "tags": []
          },
          "execution_count": 36
        }
      ]
    },
    {
      "cell_type": "markdown",
      "metadata": {
        "id": "7pgalR2WwXYl",
        "colab_type": "text"
      },
      "source": [
        "# **Visualizing model Output**\n",
        "\n",
        "\n",
        "**Bugs**\n",
        "\n",
        "1. T2 images and T1 images do vary from standardized sizes of [256, 256, 170], Hence we need to keep track of how much we padded across each dimension for each input image. Later during evaluation we need to subtract them to recive correct dimension matching original T2 image. This is currently not implemented in our program."
      ]
    },
    {
      "cell_type": "markdown",
      "metadata": {
        "colab_type": "text",
        "id": "N7MS4mDVwCHR"
      },
      "source": [
        "**Concatenated patches**"
      ]
    },
    {
      "cell_type": "code",
      "metadata": {
        "colab_type": "code",
        "id": "7g68P8YQwCHR",
        "colab": {
          "base_uri": "https://localhost:8080/",
          "height": 52
        },
        "outputId": "f0708f47-c77c-48a4-9e60-6d678990f2d2"
      },
      "source": [
        "cnct = torch.cat(stacked_tensor,dim=0)\n",
        "print(cnct.shape)\n",
        "cnct = cnct.squeeze(dim=1)\n",
        "print(cnct.shape)"
      ],
      "execution_count": null,
      "outputs": [
        {
          "output_type": "stream",
          "text": [
            "torch.Size([320, 1, 32, 32, 32])\n",
            "torch.Size([320, 32, 32, 32])\n"
          ],
          "name": "stdout"
        }
      ]
    },
    {
      "cell_type": "code",
      "metadata": {
        "id": "WrHULczJH2uX",
        "colab_type": "code",
        "colab": {}
      },
      "source": [
        "torch.save(cnct,\"/content/drive/My Drive/Colab Notebooks/image_registration/cnct_input_tensor.pth\")"
      ],
      "execution_count": null,
      "outputs": []
    },
    {
      "cell_type": "code",
      "metadata": {
        "colab_type": "code",
        "id": "PSssI0rtwCHW",
        "colab": {}
      },
      "source": [
        "#t2_patches = t2_img_tnsr.unfold(2, self.patch_size, self.patch_size).unfold(1, self.patch_size, self.patch_size).unfold(0, self.patch_size, self.patch_size)\n",
        "#        t2_patches = t2_patches.contiguous().view(-1, self.patch_size, self.patch_size, self.patch_size)"
      ],
      "execution_count": null,
      "outputs": []
    },
    {
      "cell_type": "code",
      "metadata": {
        "colab_type": "code",
        "id": "lQMcr421wCHY",
        "colab": {
          "base_uri": "https://localhost:8080/",
          "height": 141
        },
        "outputId": "2be85e44-f849-4f5f-ce73-eb6780839b87"
      },
      "source": [
        "# @suraj: size of the original tensor after padding\n",
        "x = torch.randn(1, 256, 256, 170)\n",
        "print(\"size of T1 tesor before processing and after pading: {}\".format(str(x.shape)))\n",
        "kc, kh, kw = 32, 32, 32  # kernel size\n",
        "dc, dh, dw = 32, 32, 32  # stride\n",
        "# Pad to multiples of 32\n",
        "x = F.pad(x, (x.size(2)%kw // 2, x.size(2)%kw // 2,\n",
        "              x.size(1)%kh // 2, x.size(1)%kh // 2,\n",
        "              x.size(0)%kc // 2, x.size(0)%kc // 2))\n",
        "\n",
        "#patches = x.unfold(1, kc, dc).unfold(2, kh, dh).unfold(3, kw, dw)\n",
        "#unfold_shape = patches.size()\n",
        "#patches = patches.contiguous().view(-1, kc, kh, kw)\n",
        "#print(patches.shape)\n",
        "\n",
        "\n",
        "#@suraj: Using our concatanted patches\n",
        "\n",
        "print(\"size of processed T2 patches from model: {}\".format(str(cnct.shape)))\n",
        "\n",
        "#@suraj: Moving the tensor from gpu to cpu\n",
        "patches = cnct.to(device=\"cpu\")\n",
        "#unfold_shape = patches.size()\n",
        "#print(unfold_shape)\n",
        "\n",
        "# Reshape back\n",
        "patches_orig = patches.view(unfold_shape)\n",
        "output_c = unfold_shape[1] * unfold_shape[4]\n",
        "output_h = unfold_shape[2] * unfold_shape[5]\n",
        "output_w = unfold_shape[3] * unfold_shape[6]\n",
        "print(\"Predicted Shape of the T2 output after stiching : {}\",format(str(patches_orig.shape)))\n",
        "patches_orig = patches_orig.permute(0, 1, 4, 2, 5, 3, 6).contiguous()\n",
        "patches_orig = patches_orig.view(1, output_c, output_h, output_w)\n",
        "\n",
        "print(output_c, output_h, output_w)\n",
        "# Check for equality\n",
        "print((patches_orig == x[:, :output_c, :output_h, :output_w]).all())\n",
        "print(patches_orig.shape)\n",
        "print(\"Actual Shape of the T2 output after stiching : {}\",format(str(patches_orig.shape)))\n",
        "#tensor(1, dtype=torch.uint8)\n"
      ],
      "execution_count": null,
      "outputs": [
        {
          "output_type": "stream",
          "text": [
            "size of T1 tesor before processing and after pading: torch.Size([1, 256, 256, 170])\n",
            "size of processed T2 patches from model: torch.Size([320, 32, 32, 32])\n",
            "Predicted Shape of the T2 output after stiching : {} torch.Size([1, 8, 8, 5, 32, 32, 32])\n",
            "256 256 160\n",
            "tensor(False)\n",
            "torch.Size([1, 256, 256, 160])\n",
            "Actual Shape of the T2 output after stiching : {} torch.Size([1, 256, 256, 160])\n"
          ],
          "name": "stdout"
        }
      ]
    },
    {
      "cell_type": "code",
      "metadata": {
        "colab_type": "code",
        "id": "i8ufmmzSwCHc",
        "colab": {
          "base_uri": "https://localhost:8080/",
          "height": 34
        },
        "outputId": "a4e50b09-62d9-4c1b-8d30-f40c68e10893"
      },
      "source": [
        "patches_orig_rmvd = patches_orig.squeeze(dim=0)\n",
        "print(patches_orig_rmvd.shape)\n",
        "patches_orig_np = patches_orig_rmvd.detach().numpy()\n",
        "#im = transforms.ToPILImage()(patches_orig)\n",
        "#print(im.size)"
      ],
      "execution_count": null,
      "outputs": [
        {
          "output_type": "stream",
          "text": [
            "torch.Size([256, 256, 160])\n"
          ],
          "name": "stdout"
        }
      ]
    },
    {
      "cell_type": "code",
      "metadata": {
        "id": "gXAjT_y_NybX",
        "colab_type": "code",
        "colab": {}
      },
      "source": [
        "torch.save(patches_orig_rmvd,\"/content/drive/My Drive/Colab Notebooks/image_registration/patches_orig_rmvd.pth\")"
      ],
      "execution_count": null,
      "outputs": []
    },
    {
      "cell_type": "code",
      "metadata": {
        "id": "3UL-a5XUMj1l",
        "colab_type": "code",
        "colab": {
          "base_uri": "https://localhost:8080/",
          "height": 52
        },
        "outputId": "6b0115e4-3b92-4c36-b07e-d44494f30b2a"
      },
      "source": [
        "print(patches_orig_np.shape)\n",
        "new_image = nb.Nifti1Image(data, affine=np.eye(4))\n",
        "new_image.shape"
      ],
      "execution_count": null,
      "outputs": [
        {
          "output_type": "stream",
          "text": [
            "(256, 256, 160)\n"
          ],
          "name": "stdout"
        },
        {
          "output_type": "execute_result",
          "data": {
            "text/plain": [
              "(256, 256, 170)"
            ]
          },
          "metadata": {
            "tags": []
          },
          "execution_count": 50
        }
      ]
    },
    {
      "cell_type": "markdown",
      "metadata": {
        "id": "ts6J_iZZOmcX",
        "colab_type": "text"
      },
      "source": [
        "**As expected, the training happened only on a single image, Hence we are getting crappy output. With more training the output would be expectd to be much better**"
      ]
    },
    {
      "cell_type": "code",
      "metadata": {
        "id": "TAGcL37iNKpL",
        "colab_type": "code",
        "colab": {
          "base_uri": "https://localhost:8080/",
          "height": 322
        },
        "outputId": "2f16d8b2-1899-433e-d8c9-ce8e24bee69e"
      },
      "source": [
        "%matplotlib inline\n",
        "fig = plt.figure(figsize=(10,5))\n",
        "a = fig.add_subplot(1, 2, 1)\n",
        "plt.imshow(new_image.dataobj[:,:,80])\n",
        "a = fig.add_subplot(1, 2, 2)\n",
        "plt.imshow(new_image.dataobj[:,:,80])"
      ],
      "execution_count": null,
      "outputs": [
        {
          "output_type": "execute_result",
          "data": {
            "text/plain": [
              "<matplotlib.image.AxesImage at 0x7fac5360ea90>"
            ]
          },
          "metadata": {
            "tags": []
          },
          "execution_count": 51
        },
        {
          "output_type": "display_data",
          "data": {
            "image/png": "[encoded data removed]",
            "text/plain": [
              "<Figure size 720x360 with 2 Axes>"
            ]
          },
          "metadata": {
            "tags": [],
            "needs_background": "light"
          }
        }
      ]
    },
    {
      "cell_type": "markdown",
      "metadata": {
        "id": "JjLhgFOxvQVM",
        "colab_type": "text"
      },
      "source": [
        "# **Waste Old - Custom dataset generator**"
      ]
    },
    {
      "cell_type": "code",
      "metadata": {
        "id": "PD7jv31JKxLJ",
        "colab_type": "code",
        "colab": {}
      },
      "source": [
        "class Nifti_T1_T2_Dataset(Dataset):\n",
        "    def __init__(self, T1_folder_path, T2_folder_path, patch_size=32, transforms=None):\n",
        "        # stuff\n",
        "        self.transforms = transforms\n",
        "        self.T1_folder_path = T1_folder_path\n",
        "        self.T2_folder_path = T2_folder_path\n",
        "        self.length_of_T1= len(T1_folder_path)\n",
        "        self.patch_size = patch_size\n",
        "        \n",
        "        \n",
        "    def __getitem__(self, index):\n",
        "        # read from T1 and T2 paths\n",
        "        orig_nii_t2 = nb.load(str(image_paths_t2[index]))\n",
        "        orig_nii_t1 = nb.load(str(image_paths_t1[index]))\n",
        "        \n",
        "        t1_img_np = np.array(orig_nii_t1.dataobj)\n",
        "        t2_img_np = np.array(orig_nii_t2.dataobj)\n",
        "\n",
        "        t1_img_tnsr = torch.from_numpy(t1_img_np)        \n",
        "        t2_img_tnsr = torch.from_numpy(t2_img_np)  \n",
        "        \n",
        "        t1_last_dim = t1_img_tnsr.shape[2]\n",
        "        t2_last_dim = t2_img_tnsr.shape[2]\n",
        "\n",
        "        #Default assumption is that the last dim of all images are not above 170, else change the below function to include crop\n",
        "        \n",
        "        \"\"\"\n",
        "        Most of the T2 images and T1 images vary a bit in the last dim, The max value of the dim we found is around 160\n",
        "        So pad all the values to get common dim 170.\n",
        "        Without this number of patches can vary for each image if its dim changes\n",
        "\n",
        "        Example:\n",
        "        torch.Size([256, 256, 150])\n",
        "        torch.Size([256, 256, 130])\n",
        "        0 torch.Size([2304, 16, 16, 16]) torch.Size([2048, 16, 16, 16])\n",
        "        torch.Size([256, 256, 150])\n",
        "        torch.Size([256, 256, 112])\n",
        "        1 torch.Size([2304, 16, 16, 16]) torch.Size([1792, 16, 16, 16])\n",
        "        torch.Size([256, 256, 150])\n",
        "        torch.Size([256, 256, 116])\n",
        "        2 torch.Size([2304, 16, 16, 16]) torch.Size([1792, 16, 16, 16])\n",
        "        torch.Size([256, 256, 150])\n",
        "        torch.Size([256, 256, 28])\n",
        "        3 torch.Size([2304, 16, 16, 16]) torch.Size([256, 16, 16, 16])\n",
        "        torch.Size([256, 256, 150])\n",
        "        torch.Size([256, 256, 120])\n",
        "        4 torch.Size([2304, 16, 16, 16]) torch.Size([1792, 16, 16, 16])\n",
        "        \"\"\"\n",
        "        \n",
        "        t1_img_tnsr = torch.nn.functional.pad(t1_img_tnsr, (0, 170-t1_last_dim),mode=\"constant\")\n",
        "        t2_img_tnsr = torch.nn.functional.pad(t2_img_tnsr, (0, 170-t2_last_dim),mode=\"constant\")\n",
        "\n",
        "\n",
        "        t1_patches = t1_img_tnsr.unfold(2, self.patch_size, self.patch_size).unfold(1, self.patch_size, self.patch_size).unfold(0, self.patch_size, self.patch_size)\n",
        "        t1_patches = t1_patches.contiguous().view(-1, self.patch_size, self.patch_size, self.patch_size)\n",
        "\n",
        "        t2_patches = t2_img_tnsr.unfold(2, self.patch_size, self.patch_size).unfold(1, self.patch_size, self.patch_size).unfold(0, self.patch_size, self.patch_size)\n",
        "        t2_patches = t2_patches.contiguous().view(-1, self.patch_size, self.patch_size, self.patch_size)\n",
        "        \n",
        "        \"\"\"\n",
        "        Adding a dummy channel dimension in between patches and height as channel is grayscale and required in downstream\n",
        "        This is not added before patching as with dim as 1, patch creation is not easy.\n",
        "        Example: [320, 32, 32, 32] ===> [320, 1, 32, 32, 32]\n",
        "        \"\"\"\n",
        "\n",
        "        t1_patches = t1_patches[:,None,:,:]\n",
        "        t2_patches = t2_patches[:,None,:,:]\n",
        "\n",
        "        \n",
        "        if self.transforms is not None:\n",
        "            data = self.transforms(data)\n",
        "        \n",
        "        # If the transform variable is not empty\n",
        "        # then it applies the operations in the transforms with the order that it is created.\n",
        "        return (t1_patches, t2_patches)\n",
        "\n",
        "    def __len__(self):\n",
        "        return len(self.T1_folder_path) # of how many data(images?) you have\n",
        "        \n"
      ],
      "execution_count": null,
      "outputs": []
    },
    {
      "cell_type": "code",
      "metadata": {
        "id": "RgH9uk-QK5DN",
        "colab_type": "code",
        "colab": {}
      },
      "source": [
        "# train_test_split = 0.7\n",
        "# split_index = round(len(image_paths_t1) * 0.7)\n",
        "# train_image_paths_t1 = image_paths_t1[:split_index]\n",
        "# train_image_paths_t2 = image_paths_t2[:split_index]\n",
        "# test_image_paths_t1 = image_paths_t1[split_index:]\n",
        "# # test_image_paths_t2 = image_paths_t2[split_index:]"
      ],
      "execution_count": null,
      "outputs": []
    },
    {
      "cell_type": "code",
      "metadata": {
        "id": "niuGqyRnK-ex",
        "colab_type": "code",
        "colab": {}
      },
      "source": [
        "# train_dataset = Nifti_T1_T2_Dataset( T1_folder_path=train_image_paths_t1, T2_folder_path= train_image_paths_t2, transforms=None)\n",
        "# test_dataset = Nifti_T1_T2_Dataset( T1_folder_path=test_image_paths_t1, T2_folder_path= test_image_paths_t2, transforms=None)"
      ],
      "execution_count": null,
      "outputs": []
    },
    {
      "cell_type": "code",
      "metadata": {
        "id": "tPN7pT0UK_Px",
        "colab_type": "code",
        "colab": {}
      },
      "source": [
        "# train_loader = DataLoader(train_dataset,batch_size=2,shuffle=True)\n",
        "# test_loader = DataLoader(test_dataset,batch_size=2,shuffle=True)"
      ],
      "execution_count": null,
      "outputs": []
    },
    {
      "cell_type": "code",
      "metadata": {
        "id": "WXgl2SxNE_fa",
        "colab_type": "code",
        "colab": {}
      },
      "source": [
        "test_image_t2 = nb.load(test_image_paths_t2)\n",
        "test_image_after_reconstruction_t1  = transforms.ToPILImage()(output_final)\n",
        "\n",
        "%matplotlib inline\n",
        "fig = plt.figure(figsize=(10,5))\n",
        "a = fig.add_subplot(1, 2, 1)\n",
        "plt.imshow(test_image_after_reconstruction_t1.dataobj[:,:,80])\n",
        "a = fig.add_subplot(1, 2, 2)\n",
        "plt.imshow(test_image_t2.dataobj[:,:,80])"
      ],
      "execution_count": null,
      "outputs": []
    },
    {
      "cell_type": "code",
      "metadata": {
        "id": "R_hAIbcME_kf",
        "colab_type": "code",
        "colab": {}
      },
      "source": [
        ""
      ],
      "execution_count": null,
      "outputs": []
    },
    {
      "cell_type": "code",
      "metadata": {
        "id": "xtZbllEIE_n5",
        "colab_type": "code",
        "colab": {}
      },
      "source": [
        ""
      ],
      "execution_count": null,
      "outputs": []
    },
    {
      "cell_type": "code",
      "metadata": {
        "id": "lpeAtagRE_iL",
        "colab_type": "code",
        "colab": {}
      },
      "source": [
        ""
      ],
      "execution_count": null,
      "outputs": []
    },
    {
      "cell_type": "code",
      "metadata": {
        "id": "rP50juH1FJaE",
        "colab_type": "code",
        "colab": {
          "base_uri": "https://localhost:8080/",
          "height": 52
        },
        "outputId": "3af22129-26bc-4e6e-e00a-5f4df1e65559"
      },
      "source": [
        "orig_nii_t1 = nb.load(\"/content/drive/My Drive/Colab Notebooks/ImageRegistrationUsingDeepLearning/IXI-T1/IXI595-IOP-1159-T1.nii.gz\")\n",
        "orig_nii_t2 = nb.load(\"/content/drive/My Drive/Colab Notebooks/ImageRegistrationUsingDeepLearning/IXI-T2/IXI595-IOP-1159-T2.nii.gz\")\n",
        "\n",
        "print(orig_nii_t1.shape)\n",
        "print(orig_nii_t2.shape)"
      ],
      "execution_count": null,
      "outputs": [
        {
          "output_type": "stream",
          "text": [
            "(256, 256, 146)\n",
            "(256, 256, 136)\n"
          ],
          "name": "stdout"
        }
      ]
    },
    {
      "cell_type": "code",
      "metadata": {
        "id": "GTXPvuaw_yDw",
        "colab_type": "code",
        "colab": {
          "base_uri": "https://localhost:8080/",
          "height": 322
        },
        "outputId": "76bc76d4-9847-408a-c432-4cdf85e8008e"
      },
      "source": [
        "%matplotlib inline\n",
        "fig = plt.figure(figsize=(10,5))\n",
        "a = fig.add_subplot(1, 2, 1)\n",
        "plt.imshow(orig_nii_t1.dataobj[:,:,80])\n",
        "a = fig.add_subplot(1, 2, 2)\n",
        "plt.imshow(orig_nii_t2.dataobj[:,:,80])"
      ],
      "execution_count": null,
      "outputs": [
        {
          "output_type": "execute_result",
          "data": {
            "text/plain": [
              "<matplotlib.image.AxesImage at 0x7fd3607d2898>"
            ]
          },
          "metadata": {
            "tags": []
          },
          "execution_count": 46
        },
        {
          "output_type": "display_data",
          "data": {
            "image/png": "[encoded data removed]",
            "text/plain": [
              "<Figure size 720x360 with 2 Axes>"
            ]
          },
          "metadata": {
            "tags": [],
            "needs_background": "light"
          }
        }
      ]
    },
    {
      "cell_type": "code",
      "metadata": {
        "id": "c99Usq-L_4aN",
        "colab_type": "code",
        "colab": {}
      },
      "source": [
        "downsampled_nii_t1 = resample_img(orig_nii_t1, target_affine=np.eye(3)*2., interpolation='nearest')"
      ],
      "execution_count": null,
      "outputs": []
    },
    {
      "cell_type": "code",
      "metadata": {
        "id": "FCv8w82qAAo6",
        "colab_type": "code",
        "colab": {
          "base_uri": "https://localhost:8080/",
          "height": 34
        },
        "outputId": "296b5392-7e01-4735-9bb7-e5b7f130d37b"
      },
      "source": [
        "downsampled_nii_t1.shape"
      ],
      "execution_count": null,
      "outputs": [
        {
          "output_type": "execute_result",
          "data": {
            "text/plain": [
              "(90, 121, 122)"
            ]
          },
          "metadata": {
            "tags": []
          },
          "execution_count": 48
        }
      ]
    },
    {
      "cell_type": "code",
      "metadata": {
        "id": "Oe_e8GWpAEvQ",
        "colab_type": "code",
        "colab": {
          "base_uri": "https://localhost:8080/",
          "height": 322
        },
        "outputId": "e1f60837-bff2-4423-ceb7-ecfc84fcf468"
      },
      "source": [
        "%matplotlib inline\n",
        "fig = plt.figure(figsize=(10,5))\n",
        "a = fig.add_subplot(1, 2, 1)\n",
        "plt.imshow(downsampled_nii_t1.dataobj[:,:,80])\n",
        "a = fig.add_subplot(1, 2, 2)\n",
        "plt.imshow(orig_nii_t2.dataobj[:,:,80])"
      ],
      "execution_count": null,
      "outputs": [
        {
          "output_type": "execute_result",
          "data": {
            "text/plain": [
              "<matplotlib.image.AxesImage at 0x7fd360539208>"
            ]
          },
          "metadata": {
            "tags": []
          },
          "execution_count": 49
        },
        {
          "output_type": "display_data",
          "data": {
            "image/png": "[encoded data removed]",
            "text/plain": [
              "<Figure size 720x360 with 2 Axes>"
            ]
          },
          "metadata": {
            "tags": [],
            "needs_background": "light"
          }
        }
      ]
    },
    {
      "cell_type": "code",
      "metadata": {
        "id": "UixKr7YOARk3",
        "colab_type": "code",
        "colab": {}
      },
      "source": [
        "target_shape = np.array((128,128,100))\n",
        "new_resolution = [2,]*3\n",
        "new_affine = np.zeros((4,4))\n",
        "new_affine[:3,:3] = np.diag(new_resolution)\n",
        "# putting point 0,0,0 in the middle of the new volume - this could be refined in the future\n",
        "new_affine[:3,3] = target_shape*new_resolution/2.*-1\n",
        "new_affine[3,3] = 1\n",
        "\n",
        "downsampled_and_cropped_nii_t1 = resample_img(orig_nii_t1,target_affine=new_affine,target_shape=target_shape, interpolation='nearest')\n",
        "downsampled_and_cropped_nii_t2 = resample_img(orig_nii_t2,target_affine=new_affine,target_shape=target_shape, interpolation='nearest')"
      ],
      "execution_count": null,
      "outputs": []
    },
    {
      "cell_type": "code",
      "metadata": {
        "id": "bOvrdpkVCAxH",
        "colab_type": "code",
        "colab": {
          "base_uri": "https://localhost:8080/",
          "height": 52
        },
        "outputId": "794abc51-7508-459d-b7b1-bc87c76b902f"
      },
      "source": [
        "print(downsampled_and_cropped_nii_t1.shape)\n",
        "print(downsampled_and_cropped_nii_t2.shape)"
      ],
      "execution_count": null,
      "outputs": [
        {
          "output_type": "stream",
          "text": [
            "(128, 128, 100)\n",
            "(128, 128, 100)\n"
          ],
          "name": "stdout"
        }
      ]
    },
    {
      "cell_type": "code",
      "metadata": {
        "id": "DirMU-1oCKNy",
        "colab_type": "code",
        "colab": {
          "base_uri": "https://localhost:8080/",
          "height": 322
        },
        "outputId": "7bc11f99-ef28-4ff7-9827-85428333691f"
      },
      "source": [
        "%matplotlib inline\n",
        "fig = plt.figure(figsize=(10,5))\n",
        "a = fig.add_subplot(1, 2, 1)\n",
        "plt.imshow(downsampled_and_cropped_nii_t1.dataobj[:,:,80])\n",
        "a = fig.add_subplot(1, 2, 2)\n",
        "plt.imshow(downsampled_and_cropped_nii_t2.dataobj[:,:,80])"
      ],
      "execution_count": null,
      "outputs": [
        {
          "output_type": "execute_result",
          "data": {
            "text/plain": [
              "<matplotlib.image.AxesImage at 0x7fd360475668>"
            ]
          },
          "metadata": {
            "tags": []
          },
          "execution_count": 52
        },
        {
          "output_type": "display_data",
          "data": {
            "image/png": "[encoded data removed]",
            "text/plain": [
              "<Figure size 720x360 with 2 Axes>"
            ]
          },
          "metadata": {
            "tags": [],
            "needs_background": "light"
          }
        }
      ]
    },
    {
      "cell_type": "markdown",
      "metadata": {
        "id": "HzuCuwKid_zF",
        "colab_type": "text"
      },
      "source": [
        "# **Old - Evaluation**\n",
        "\n"
      ]
    },
    {
      "cell_type": "code",
      "metadata": {
        "id": "ma6jofB-eK6t",
        "colab_type": "code",
        "colab": {
          "base_uri": "https://localhost:8080/",
          "height": 274
        },
        "outputId": "5ad5520b-8502-4f3b-ad2f-0191f9e7b0dc"
      },
      "source": [
        "import warnings\n",
        "warnings.filterwarnings(\"ignore\", category=UserWarning) \n",
        "\n",
        "# Take one random image\n",
        "test_image_paths_t1 = [image_paths_t1[550]]\n",
        "test_image_paths_t2 = [image_paths_t2[550]]\n",
        "\n",
        "# Creating dataset \n",
        "test_dataset = Nifti_T1_T2_Dataset( T1_folder_path=test_image_paths_t1, T2_folder_path= test_image_paths_t2, transforms=None)\n",
        "print(len(test_dataset))\n",
        "\n",
        "#  Printing for test dataset\n",
        "for i in range(len(test_dataset)):\n",
        "    sample = test_dataset[i]\n",
        "    print(i, sample[0].shape, sample[1].shape)\n",
        "\n",
        "test_patches_dataset = Patching(patches=test_dataset)\n",
        "\n",
        "# Data loader for test data\n",
        "test_patches_loader = DataLoader(test_patches_dataset,batch_size=16,shuffle=True, pin_memory=False)\n",
        "\n",
        "# Load the model\n",
        "trained_model = torch.load(\"/content/drive/My Drive/Colab Notebooks/ImageRegistrationUsingDeepLearning/unet.pth\")\n",
        "trained_model.eval()\n",
        "\n",
        "# patches = []\n",
        "for i, data in enumerate(test_patches_loader, 0):\n",
        "        \n",
        "        # get the inputs; data is a list of [inputs, labels]\n",
        "        inputs, labels = data\n",
        "\n",
        "        # patches  \n",
        "        outputs = trained_model(inputs)  \n",
        "        \n",
        "        # append each output here to get tensor of patches.\n",
        "\n",
        "        # patches.append(outputs)\n",
        "\n",
        "        # del inputs\n",
        "        # del labels\n",
        "        # del outputs \n",
        "\n",
        "\n",
        "# Method 1: Reshape back\n",
        "unfold_shape = outputs.size()\n",
        "patches_orig = outputs.view(unfold_shape)\n",
        "\n",
        "\n",
        "output_c = unfold_shape[1] * unfold_shape[4]\n",
        "output_h = unfold_shape[2] * unfold_shape[5]\n",
        "output_w = unfold_shape[3] * unfold_shape[6]\n",
        "patches_orig = patches_orig.permute(0, 1, 4, 2, 5, 3, 6).contiguous()\n",
        "output_final = patches_orig.view(1, output_c, output_h, output_w)\n",
        "\n",
        "\n",
        "# Method 2: # Reference from:  https://stackoverflow.com/questions/62995726/pytorch-sliding-window-with-unfold-fold\n",
        "# output = F.fold(outputs, output_size=(256, 256),kernel_size=32, stride=32)\n",
        "# # mask that mimics the original folding:\n",
        "# recovery_mask = F.fold(torch.ones_like(outputs), output_size=(256,256),kernel_size=32,stride=32)\n",
        "# output = output/recovery_mask\n",
        "# print(output.shape) # [B, C, H, W]"
      ],
      "execution_count": null,
      "outputs": [
        {
          "output_type": "stream",
          "text": [
            "1\n",
            "0 torch.Size([320, 1, 32, 32, 32]) torch.Size([320, 1, 32, 32, 32])\n"
          ],
          "name": "stdout"
        },
        {
          "output_type": "error",
          "ename": "IndexError",
          "evalue": "ignored",
          "traceback": [
            "\u001b[0;31m---------------------------------------------------------------------------\u001b[0m",
            "\u001b[0;31mIndexError\u001b[0m                                Traceback (most recent call last)",
            "\u001b[0;32m<ipython-input-131-84e54c032d4c>\u001b[0m in \u001b[0;36m<module>\u001b[0;34m()\u001b[0m\n\u001b[1;32m     48\u001b[0m \u001b[0;34m\u001b[0m\u001b[0m\n\u001b[1;32m     49\u001b[0m \u001b[0moutput_c\u001b[0m \u001b[0;34m=\u001b[0m \u001b[0munfold_shape\u001b[0m\u001b[0;34m[\u001b[0m\u001b[0;36m1\u001b[0m\u001b[0;34m]\u001b[0m \u001b[0;34m*\u001b[0m \u001b[0munfold_shape\u001b[0m\u001b[0;34m[\u001b[0m\u001b[0;36m4\u001b[0m\u001b[0;34m]\u001b[0m\u001b[0;34m\u001b[0m\u001b[0;34m\u001b[0m\u001b[0m\n\u001b[0;32m---> 50\u001b[0;31m \u001b[0moutput_h\u001b[0m \u001b[0;34m=\u001b[0m \u001b[0munfold_shape\u001b[0m\u001b[0;34m[\u001b[0m\u001b[0;36m2\u001b[0m\u001b[0;34m]\u001b[0m \u001b[0;34m*\u001b[0m \u001b[0munfold_shape\u001b[0m\u001b[0;34m[\u001b[0m\u001b[0;36m5\u001b[0m\u001b[0;34m]\u001b[0m\u001b[0;34m\u001b[0m\u001b[0;34m\u001b[0m\u001b[0m\n\u001b[0m\u001b[1;32m     51\u001b[0m \u001b[0moutput_w\u001b[0m \u001b[0;34m=\u001b[0m \u001b[0munfold_shape\u001b[0m\u001b[0;34m[\u001b[0m\u001b[0;36m3\u001b[0m\u001b[0;34m]\u001b[0m \u001b[0;34m*\u001b[0m \u001b[0munfold_shape\u001b[0m\u001b[0;34m[\u001b[0m\u001b[0;36m6\u001b[0m\u001b[0;34m]\u001b[0m\u001b[0;34m\u001b[0m\u001b[0;34m\u001b[0m\u001b[0m\n\u001b[1;32m     52\u001b[0m \u001b[0mpatches_orig\u001b[0m \u001b[0;34m=\u001b[0m \u001b[0mpatches_orig\u001b[0m\u001b[0;34m.\u001b[0m\u001b[0mpermute\u001b[0m\u001b[0;34m(\u001b[0m\u001b[0;36m0\u001b[0m\u001b[0;34m,\u001b[0m \u001b[0;36m1\u001b[0m\u001b[0;34m,\u001b[0m \u001b[0;36m4\u001b[0m\u001b[0;34m,\u001b[0m \u001b[0;36m2\u001b[0m\u001b[0;34m,\u001b[0m \u001b[0;36m5\u001b[0m\u001b[0;34m,\u001b[0m \u001b[0;36m3\u001b[0m\u001b[0;34m,\u001b[0m \u001b[0;36m6\u001b[0m\u001b[0;34m)\u001b[0m\u001b[0;34m.\u001b[0m\u001b[0mcontiguous\u001b[0m\u001b[0;34m(\u001b[0m\u001b[0;34m)\u001b[0m\u001b[0;34m\u001b[0m\u001b[0;34m\u001b[0m\u001b[0m\n",
            "\u001b[0;31mIndexError\u001b[0m: tuple index out of range"
          ]
        }
      ]
    },
    {
      "cell_type": "code",
      "metadata": {
        "id": "XRSG20aQmlan",
        "colab_type": "code",
        "colab": {}
      },
      "source": [
        "# visualization \n",
        "\n",
        "from torchvision import transforms\n",
        "test_image_paths_t2 = image_paths_t2[550]\n",
        "\n",
        "test_image_t2 = nb.load(test_image_paths_t2)\n",
        "test_image_after_reconstruction_t1  = transforms.ToPILImage()(output_final)\n",
        "\n",
        "%matplotlib inline\n",
        "fig = plt.figure(figsize=(10,5))\n",
        "a = fig.add_subplot(1, 2, 1)\n",
        "plt.imshow(test_image_after_reconstruction_t1.dataobj[:,:,80])\n",
        "a = fig.add_subplot(1, 2, 2)\n",
        "plt.imshow(test_image_t2.dataobj[:,:,80])"
      ],
      "execution_count": null,
      "outputs": []
    },
    {
      "cell_type": "code",
      "metadata": {
        "id": "w61ZGdC5NpC2",
        "colab_type": "code",
        "colab": {
          "base_uri": "https://localhost:8080/",
          "height": 105
        },
        "outputId": "edb5ed94-d1d8-4f6c-e18e-b11b0b725385"
      },
      "source": [
        "\n",
        "#  Random example , Reference from - https://discuss.pytorch.org/t/creating-nonoverlapping-patches-from-3d-data-and-reshape-them-back-to-the-image/51210/6\n",
        "x = torch.randn(1, 172, 220, 156)\n",
        "kc, kh, kw = 32, 32, 32  # kernel size\n",
        "dc, dh, dw = 32, 32, 32  # stride\n",
        "# Pad to multiples of 32\n",
        "x = F.pad(x, (x.size(2)%kw // 2, x.size(2)%kw // 2,\n",
        "              x.size(1)%kh // 2, x.size(1)%kh // 2,\n",
        "              x.size(0)%kc // 2, x.size(0)%kc // 2))\n",
        "\n",
        "patches = x.unfold(1, kc, dc).unfold(2, kh, dh).unfold(3, kw, dw)\n",
        "# print(\"1\" + str(patches))\n",
        "unfold_shape = patches.size()\n",
        "print(\"2\" + str(unfold_shape))\n",
        "patches = patches.contiguous().view(-1, kc, kh, kw)\n",
        "print(print(\"3\" + str(patches.shape)))\n",
        "\n",
        "# Reshape back\n",
        "patches_orig = patches.view(unfold_shape)\n",
        "# print(\"4\" + str(patches_orig))\n",
        "output_c = unfold_shape[1] * unfold_shape[4]\n",
        "output_h = unfold_shape[2] * unfold_shape[5]\n",
        "output_w = unfold_shape[3] * unfold_shape[6]\n",
        "patches_orig = patches_orig.permute(0, 1, 4, 2, 5, 3, 6).contiguous()\n",
        "patches_orig = patches_orig.view(1, output_c, output_h, output_w)\n",
        "\n",
        "# Check for equality\n",
        "print((patches_orig == x[:, :output_c, :output_h, :output_w]).all())\n",
        "print(x[:, :output_c, :output_h, :output_w].shape)"
      ],
      "execution_count": null,
      "outputs": [
        {
          "output_type": "stream",
          "text": [
            "2torch.Size([1, 5, 7, 5, 32, 32, 32])\n",
            "3torch.Size([175, 32, 32, 32])\n",
            "None\n",
            "tensor(True)\n",
            "torch.Size([1, 160, 224, 160])\n"
          ],
          "name": "stdout"
        }
      ]
    },
    {
      "cell_type": "code",
      "metadata": {
        "id": "A2LT0eMhM-1r",
        "colab_type": "code",
        "colab": {}
      },
      "source": [
        "unet_model = torch.load(\"/content/drive/My Drive/Colab Notebooks/image_registration/unet.pth\")\n",
        "unet_model.eval()\n",
        "unet_model = unet_model.to(device=device)"
      ],
      "execution_count": null,
      "outputs": []
    },
    {
      "cell_type": "code",
      "metadata": {
        "id": "jx8Bh78dQSbv",
        "colab_type": "code",
        "colab": {}
      },
      "source": [
        "stacked_tensor = []"
      ],
      "execution_count": null,
      "outputs": []
    },
    {
      "cell_type": "code",
      "metadata": {
        "id": "KbO0FiuaM-7C",
        "colab_type": "code",
        "colab": {
          "base_uri": "https://localhost:8080/",
          "height": 1000
        },
        "outputId": "98cd6823-14e9-400d-e1b1-e503b577bf75"
      },
      "source": [
        "for i, data in enumerate(test_patches_loader, 0):\n",
        "        \n",
        "        # get the inputs; data is a list of [inputs, labels]\n",
        "        inputs, labels = data\n",
        "\n",
        "        # patches  \n",
        "        outputs = unet_model(inputs)  \n",
        "        print(outputs.shape)\n",
        "        \n",
        "        stacked_tensor.append(outputs)\n",
        "        del inputs\n",
        "        del labels\n",
        "        del outputs\n",
        "\n"
      ],
      "execution_count": null,
      "outputs": [
        {
          "output_type": "stream",
          "text": [
            "/usr/local/lib/python3.6/dist-packages/torch/nn/functional.py:2941: UserWarning: nn.functional.upsample is deprecated. Use nn.functional.interpolate instead.\n",
            "  warnings.warn(\"nn.functional.upsample is deprecated. Use nn.functional.interpolate instead.\")\n",
            "/usr/local/lib/python3.6/dist-packages/torch/nn/functional.py:3121: UserWarning: Default upsampling behavior when mode=trilinear is changed to align_corners=False since 0.4.0. Please specify align_corners=True if the old behavior is desired. See the documentation of nn.Upsample for details.\n",
            "  \"See the documentation of nn.Upsample for details.\".format(mode))\n"
          ],
          "name": "stderr"
        },
        {
          "output_type": "stream",
          "text": [
            "torch.Size([16, 1, 32, 32, 32])\n"
          ],
          "name": "stdout"
        },
        {
          "output_type": "stream",
          "text": [
            "/usr/local/lib/python3.6/dist-packages/torch/nn/functional.py:2941: UserWarning: nn.functional.upsample is deprecated. Use nn.functional.interpolate instead.\n",
            "  warnings.warn(\"nn.functional.upsample is deprecated. Use nn.functional.interpolate instead.\")\n",
            "/usr/local/lib/python3.6/dist-packages/torch/nn/functional.py:3121: UserWarning: Default upsampling behavior when mode=trilinear is changed to align_corners=False since 0.4.0. Please specify align_corners=True if the old behavior is desired. See the documentation of nn.Upsample for details.\n",
            "  \"See the documentation of nn.Upsample for details.\".format(mode))\n"
          ],
          "name": "stderr"
        },
        {
          "output_type": "stream",
          "text": [
            "torch.Size([16, 1, 32, 32, 32])\n"
          ],
          "name": "stdout"
        },
        {
          "output_type": "stream",
          "text": [
            "/usr/local/lib/python3.6/dist-packages/torch/nn/functional.py:2941: UserWarning: nn.functional.upsample is deprecated. Use nn.functional.interpolate instead.\n",
            "  warnings.warn(\"nn.functional.upsample is deprecated. Use nn.functional.interpolate instead.\")\n",
            "/usr/local/lib/python3.6/dist-packages/torch/nn/functional.py:3121: UserWarning: Default upsampling behavior when mode=trilinear is changed to align_corners=False since 0.4.0. Please specify align_corners=True if the old behavior is desired. See the documentation of nn.Upsample for details.\n",
            "  \"See the documentation of nn.Upsample for details.\".format(mode))\n"
          ],
          "name": "stderr"
        },
        {
          "output_type": "stream",
          "text": [
            "torch.Size([16, 1, 32, 32, 32])\n"
          ],
          "name": "stdout"
        },
        {
          "output_type": "stream",
          "text": [
            "/usr/local/lib/python3.6/dist-packages/torch/nn/functional.py:2941: UserWarning: nn.functional.upsample is deprecated. Use nn.functional.interpolate instead.\n",
            "  warnings.warn(\"nn.functional.upsample is deprecated. Use nn.functional.interpolate instead.\")\n",
            "/usr/local/lib/python3.6/dist-packages/torch/nn/functional.py:3121: UserWarning: Default upsampling behavior when mode=trilinear is changed to align_corners=False since 0.4.0. Please specify align_corners=True if the old behavior is desired. See the documentation of nn.Upsample for details.\n",
            "  \"See the documentation of nn.Upsample for details.\".format(mode))\n"
          ],
          "name": "stderr"
        },
        {
          "output_type": "stream",
          "text": [
            "torch.Size([16, 1, 32, 32, 32])\n"
          ],
          "name": "stdout"
        },
        {
          "output_type": "stream",
          "text": [
            "/usr/local/lib/python3.6/dist-packages/torch/nn/functional.py:2941: UserWarning: nn.functional.upsample is deprecated. Use nn.functional.interpolate instead.\n",
            "  warnings.warn(\"nn.functional.upsample is deprecated. Use nn.functional.interpolate instead.\")\n",
            "/usr/local/lib/python3.6/dist-packages/torch/nn/functional.py:3121: UserWarning: Default upsampling behavior when mode=trilinear is changed to align_corners=False since 0.4.0. Please specify align_corners=True if the old behavior is desired. See the documentation of nn.Upsample for details.\n",
            "  \"See the documentation of nn.Upsample for details.\".format(mode))\n"
          ],
          "name": "stderr"
        },
        {
          "output_type": "stream",
          "text": [
            "torch.Size([16, 1, 32, 32, 32])\n"
          ],
          "name": "stdout"
        },
        {
          "output_type": "stream",
          "text": [
            "/usr/local/lib/python3.6/dist-packages/torch/nn/functional.py:2941: UserWarning: nn.functional.upsample is deprecated. Use nn.functional.interpolate instead.\n",
            "  warnings.warn(\"nn.functional.upsample is deprecated. Use nn.functional.interpolate instead.\")\n",
            "/usr/local/lib/python3.6/dist-packages/torch/nn/functional.py:3121: UserWarning: Default upsampling behavior when mode=trilinear is changed to align_corners=False since 0.4.0. Please specify align_corners=True if the old behavior is desired. See the documentation of nn.Upsample for details.\n",
            "  \"See the documentation of nn.Upsample for details.\".format(mode))\n"
          ],
          "name": "stderr"
        },
        {
          "output_type": "stream",
          "text": [
            "torch.Size([16, 1, 32, 32, 32])\n"
          ],
          "name": "stdout"
        },
        {
          "output_type": "stream",
          "text": [
            "/usr/local/lib/python3.6/dist-packages/torch/nn/functional.py:2941: UserWarning: nn.functional.upsample is deprecated. Use nn.functional.interpolate instead.\n",
            "  warnings.warn(\"nn.functional.upsample is deprecated. Use nn.functional.interpolate instead.\")\n",
            "/usr/local/lib/python3.6/dist-packages/torch/nn/functional.py:3121: UserWarning: Default upsampling behavior when mode=trilinear is changed to align_corners=False since 0.4.0. Please specify align_corners=True if the old behavior is desired. See the documentation of nn.Upsample for details.\n",
            "  \"See the documentation of nn.Upsample for details.\".format(mode))\n"
          ],
          "name": "stderr"
        },
        {
          "output_type": "stream",
          "text": [
            "torch.Size([16, 1, 32, 32, 32])\n"
          ],
          "name": "stdout"
        },
        {
          "output_type": "stream",
          "text": [
            "/usr/local/lib/python3.6/dist-packages/torch/nn/functional.py:2941: UserWarning: nn.functional.upsample is deprecated. Use nn.functional.interpolate instead.\n",
            "  warnings.warn(\"nn.functional.upsample is deprecated. Use nn.functional.interpolate instead.\")\n",
            "/usr/local/lib/python3.6/dist-packages/torch/nn/functional.py:3121: UserWarning: Default upsampling behavior when mode=trilinear is changed to align_corners=False since 0.4.0. Please specify align_corners=True if the old behavior is desired. See the documentation of nn.Upsample for details.\n",
            "  \"See the documentation of nn.Upsample for details.\".format(mode))\n"
          ],
          "name": "stderr"
        },
        {
          "output_type": "stream",
          "text": [
            "torch.Size([16, 1, 32, 32, 32])\n"
          ],
          "name": "stdout"
        },
        {
          "output_type": "stream",
          "text": [
            "/usr/local/lib/python3.6/dist-packages/torch/nn/functional.py:2941: UserWarning: nn.functional.upsample is deprecated. Use nn.functional.interpolate instead.\n",
            "  warnings.warn(\"nn.functional.upsample is deprecated. Use nn.functional.interpolate instead.\")\n",
            "/usr/local/lib/python3.6/dist-packages/torch/nn/functional.py:3121: UserWarning: Default upsampling behavior when mode=trilinear is changed to align_corners=False since 0.4.0. Please specify align_corners=True if the old behavior is desired. See the documentation of nn.Upsample for details.\n",
            "  \"See the documentation of nn.Upsample for details.\".format(mode))\n"
          ],
          "name": "stderr"
        },
        {
          "output_type": "stream",
          "text": [
            "torch.Size([16, 1, 32, 32, 32])\n"
          ],
          "name": "stdout"
        },
        {
          "output_type": "stream",
          "text": [
            "/usr/local/lib/python3.6/dist-packages/torch/nn/functional.py:2941: UserWarning: nn.functional.upsample is deprecated. Use nn.functional.interpolate instead.\n",
            "  warnings.warn(\"nn.functional.upsample is deprecated. Use nn.functional.interpolate instead.\")\n",
            "/usr/local/lib/python3.6/dist-packages/torch/nn/functional.py:3121: UserWarning: Default upsampling behavior when mode=trilinear is changed to align_corners=False since 0.4.0. Please specify align_corners=True if the old behavior is desired. See the documentation of nn.Upsample for details.\n",
            "  \"See the documentation of nn.Upsample for details.\".format(mode))\n"
          ],
          "name": "stderr"
        },
        {
          "output_type": "stream",
          "text": [
            "torch.Size([16, 1, 32, 32, 32])\n"
          ],
          "name": "stdout"
        },
        {
          "output_type": "stream",
          "text": [
            "/usr/local/lib/python3.6/dist-packages/torch/nn/functional.py:2941: UserWarning: nn.functional.upsample is deprecated. Use nn.functional.interpolate instead.\n",
            "  warnings.warn(\"nn.functional.upsample is deprecated. Use nn.functional.interpolate instead.\")\n",
            "/usr/local/lib/python3.6/dist-packages/torch/nn/functional.py:3121: UserWarning: Default upsampling behavior when mode=trilinear is changed to align_corners=False since 0.4.0. Please specify align_corners=True if the old behavior is desired. See the documentation of nn.Upsample for details.\n",
            "  \"See the documentation of nn.Upsample for details.\".format(mode))\n"
          ],
          "name": "stderr"
        },
        {
          "output_type": "stream",
          "text": [
            "torch.Size([16, 1, 32, 32, 32])\n"
          ],
          "name": "stdout"
        },
        {
          "output_type": "stream",
          "text": [
            "/usr/local/lib/python3.6/dist-packages/torch/nn/functional.py:2941: UserWarning: nn.functional.upsample is deprecated. Use nn.functional.interpolate instead.\n",
            "  warnings.warn(\"nn.functional.upsample is deprecated. Use nn.functional.interpolate instead.\")\n",
            "/usr/local/lib/python3.6/dist-packages/torch/nn/functional.py:3121: UserWarning: Default upsampling behavior when mode=trilinear is changed to align_corners=False since 0.4.0. Please specify align_corners=True if the old behavior is desired. See the documentation of nn.Upsample for details.\n",
            "  \"See the documentation of nn.Upsample for details.\".format(mode))\n"
          ],
          "name": "stderr"
        },
        {
          "output_type": "stream",
          "text": [
            "torch.Size([16, 1, 32, 32, 32])\n"
          ],
          "name": "stdout"
        },
        {
          "output_type": "stream",
          "text": [
            "/usr/local/lib/python3.6/dist-packages/torch/nn/functional.py:2941: UserWarning: nn.functional.upsample is deprecated. Use nn.functional.interpolate instead.\n",
            "  warnings.warn(\"nn.functional.upsample is deprecated. Use nn.functional.interpolate instead.\")\n",
            "/usr/local/lib/python3.6/dist-packages/torch/nn/functional.py:3121: UserWarning: Default upsampling behavior when mode=trilinear is changed to align_corners=False since 0.4.0. Please specify align_corners=True if the old behavior is desired. See the documentation of nn.Upsample for details.\n",
            "  \"See the documentation of nn.Upsample for details.\".format(mode))\n"
          ],
          "name": "stderr"
        },
        {
          "output_type": "stream",
          "text": [
            "torch.Size([16, 1, 32, 32, 32])\n"
          ],
          "name": "stdout"
        },
        {
          "output_type": "stream",
          "text": [
            "/usr/local/lib/python3.6/dist-packages/torch/nn/functional.py:2941: UserWarning: nn.functional.upsample is deprecated. Use nn.functional.interpolate instead.\n",
            "  warnings.warn(\"nn.functional.upsample is deprecated. Use nn.functional.interpolate instead.\")\n",
            "/usr/local/lib/python3.6/dist-packages/torch/nn/functional.py:3121: UserWarning: Default upsampling behavior when mode=trilinear is changed to align_corners=False since 0.4.0. Please specify align_corners=True if the old behavior is desired. See the documentation of nn.Upsample for details.\n",
            "  \"See the documentation of nn.Upsample for details.\".format(mode))\n"
          ],
          "name": "stderr"
        },
        {
          "output_type": "stream",
          "text": [
            "torch.Size([16, 1, 32, 32, 32])\n"
          ],
          "name": "stdout"
        },
        {
          "output_type": "stream",
          "text": [
            "/usr/local/lib/python3.6/dist-packages/torch/nn/functional.py:2941: UserWarning: nn.functional.upsample is deprecated. Use nn.functional.interpolate instead.\n",
            "  warnings.warn(\"nn.functional.upsample is deprecated. Use nn.functional.interpolate instead.\")\n",
            "/usr/local/lib/python3.6/dist-packages/torch/nn/functional.py:3121: UserWarning: Default upsampling behavior when mode=trilinear is changed to align_corners=False since 0.4.0. Please specify align_corners=True if the old behavior is desired. See the documentation of nn.Upsample for details.\n",
            "  \"See the documentation of nn.Upsample for details.\".format(mode))\n"
          ],
          "name": "stderr"
        },
        {
          "output_type": "stream",
          "text": [
            "torch.Size([16, 1, 32, 32, 32])\n"
          ],
          "name": "stdout"
        },
        {
          "output_type": "stream",
          "text": [
            "/usr/local/lib/python3.6/dist-packages/torch/nn/functional.py:2941: UserWarning: nn.functional.upsample is deprecated. Use nn.functional.interpolate instead.\n",
            "  warnings.warn(\"nn.functional.upsample is deprecated. Use nn.functional.interpolate instead.\")\n",
            "/usr/local/lib/python3.6/dist-packages/torch/nn/functional.py:3121: UserWarning: Default upsampling behavior when mode=trilinear is changed to align_corners=False since 0.4.0. Please specify align_corners=True if the old behavior is desired. See the documentation of nn.Upsample for details.\n",
            "  \"See the documentation of nn.Upsample for details.\".format(mode))\n"
          ],
          "name": "stderr"
        },
        {
          "output_type": "stream",
          "text": [
            "torch.Size([16, 1, 32, 32, 32])\n"
          ],
          "name": "stdout"
        },
        {
          "output_type": "stream",
          "text": [
            "/usr/local/lib/python3.6/dist-packages/torch/nn/functional.py:2941: UserWarning: nn.functional.upsample is deprecated. Use nn.functional.interpolate instead.\n",
            "  warnings.warn(\"nn.functional.upsample is deprecated. Use nn.functional.interpolate instead.\")\n",
            "/usr/local/lib/python3.6/dist-packages/torch/nn/functional.py:3121: UserWarning: Default upsampling behavior when mode=trilinear is changed to align_corners=False since 0.4.0. Please specify align_corners=True if the old behavior is desired. See the documentation of nn.Upsample for details.\n",
            "  \"See the documentation of nn.Upsample for details.\".format(mode))\n"
          ],
          "name": "stderr"
        },
        {
          "output_type": "stream",
          "text": [
            "torch.Size([16, 1, 32, 32, 32])\n"
          ],
          "name": "stdout"
        },
        {
          "output_type": "stream",
          "text": [
            "/usr/local/lib/python3.6/dist-packages/torch/nn/functional.py:2941: UserWarning: nn.functional.upsample is deprecated. Use nn.functional.interpolate instead.\n",
            "  warnings.warn(\"nn.functional.upsample is deprecated. Use nn.functional.interpolate instead.\")\n",
            "/usr/local/lib/python3.6/dist-packages/torch/nn/functional.py:3121: UserWarning: Default upsampling behavior when mode=trilinear is changed to align_corners=False since 0.4.0. Please specify align_corners=True if the old behavior is desired. See the documentation of nn.Upsample for details.\n",
            "  \"See the documentation of nn.Upsample for details.\".format(mode))\n"
          ],
          "name": "stderr"
        },
        {
          "output_type": "stream",
          "text": [
            "torch.Size([16, 1, 32, 32, 32])\n"
          ],
          "name": "stdout"
        },
        {
          "output_type": "stream",
          "text": [
            "/usr/local/lib/python3.6/dist-packages/torch/nn/functional.py:2941: UserWarning: nn.functional.upsample is deprecated. Use nn.functional.interpolate instead.\n",
            "  warnings.warn(\"nn.functional.upsample is deprecated. Use nn.functional.interpolate instead.\")\n",
            "/usr/local/lib/python3.6/dist-packages/torch/nn/functional.py:3121: UserWarning: Default upsampling behavior when mode=trilinear is changed to align_corners=False since 0.4.0. Please specify align_corners=True if the old behavior is desired. See the documentation of nn.Upsample for details.\n",
            "  \"See the documentation of nn.Upsample for details.\".format(mode))\n"
          ],
          "name": "stderr"
        },
        {
          "output_type": "stream",
          "text": [
            "torch.Size([16, 1, 32, 32, 32])\n",
            "torch.Size([16, 1, 32, 32, 32])\n"
          ],
          "name": "stdout"
        },
        {
          "output_type": "stream",
          "text": [
            "/usr/local/lib/python3.6/dist-packages/torch/nn/functional.py:2941: UserWarning: nn.functional.upsample is deprecated. Use nn.functional.interpolate instead.\n",
            "  warnings.warn(\"nn.functional.upsample is deprecated. Use nn.functional.interpolate instead.\")\n",
            "/usr/local/lib/python3.6/dist-packages/torch/nn/functional.py:3121: UserWarning: Default upsampling behavior when mode=trilinear is changed to align_corners=False since 0.4.0. Please specify align_corners=True if the old behavior is desired. See the documentation of nn.Upsample for details.\n",
            "  \"See the documentation of nn.Upsample for details.\".format(mode))\n"
          ],
          "name": "stderr"
        }
      ]
    },
    {
      "cell_type": "code",
      "metadata": {
        "id": "dNJZ7GB3M-4U",
        "colab_type": "code",
        "colab": {
          "base_uri": "https://localhost:8080/",
          "height": 34
        },
        "outputId": "dd9276c7-be3e-4d25-c05e-5dd3f7f79608"
      },
      "source": [
        "len(stacked_tensor)"
      ],
      "execution_count": null,
      "outputs": [
        {
          "output_type": "execute_result",
          "data": {
            "text/plain": [
              "20"
            ]
          },
          "metadata": {
            "tags": []
          },
          "execution_count": 34
        }
      ]
    },
    {
      "cell_type": "code",
      "metadata": {
        "id": "Mtwyp4hYW2im",
        "colab_type": "code",
        "colab": {}
      },
      "source": [
        ""
      ],
      "execution_count": null,
      "outputs": []
    },
    {
      "cell_type": "code",
      "metadata": {
        "id": "WBAGWpwyWdkM",
        "colab_type": "code",
        "colab": {
          "base_uri": "https://localhost:8080/",
          "height": 34
        },
        "outputId": "8b512866-e6c6-4920-d142-79c84fb1cb35"
      },
      "source": [
        "#stk = torch.stack(stacked_tensor,dim=1)\n",
        "#stk.shape\n"
      ],
      "execution_count": null,
      "outputs": [
        {
          "output_type": "execute_result",
          "data": {
            "text/plain": [
              "torch.Size([16, 20, 1, 32, 32, 32])"
            ]
          },
          "metadata": {
            "tags": []
          },
          "execution_count": 36
        }
      ]
    },
    {
      "cell_type": "markdown",
      "metadata": {
        "id": "mjgWbjwJcvWK",
        "colab_type": "text"
      },
      "source": [
        "**Concatenated patches**"
      ]
    },
    {
      "cell_type": "code",
      "metadata": {
        "id": "n067u1S7Wdpr",
        "colab_type": "code",
        "colab": {
          "base_uri": "https://localhost:8080/",
          "height": 52
        },
        "outputId": "26696c39-53d7-4552-a987-70d084ed0171"
      },
      "source": [
        "cnct = torch.cat(stacked_tensor,dim=0)\n",
        "print(cnct.shape)\n",
        "cnct = cnct.squeeze(dim=1)\n",
        "print(cnct.shape)"
      ],
      "execution_count": null,
      "outputs": [
        {
          "output_type": "stream",
          "text": [
            "torch.Size([320, 1, 32, 32, 32])\n",
            "torch.Size([320, 32, 32, 32])\n"
          ],
          "name": "stdout"
        }
      ]
    },
    {
      "cell_type": "code",
      "metadata": {
        "id": "grApt91jWdtX",
        "colab_type": "code",
        "colab": {}
      },
      "source": [
        "#t2_patches = t2_img_tnsr.unfold(2, self.patch_size, self.patch_size).unfold(1, self.patch_size, self.patch_size).unfold(0, self.patch_size, self.patch_size)\n",
        "#        t2_patches = t2_patches.contiguous().view(-1, self.patch_size, self.patch_size, self.patch_size)"
      ],
      "execution_count": null,
      "outputs": []
    },
    {
      "cell_type": "code",
      "metadata": {
        "id": "DBj7XkadWdnZ",
        "colab_type": "code",
        "colab": {
          "base_uri": "https://localhost:8080/",
          "height": 141
        },
        "outputId": "bad3e996-2e91-46a5-a922-b82c4c62f3f8"
      },
      "source": [
        "# @suraj: size of the original tensor after padding\n",
        "x = torch.randn(1, 256, 256, 170)\n",
        "print(\"size of T1 tesor before processing and after pading: {}\".format(str(x.shape)))\n",
        "kc, kh, kw = 32, 32, 32  # kernel size\n",
        "dc, dh, dw = 32, 32, 32  # stride\n",
        "# Pad to multiples of 32\n",
        "x = F.pad(x, (x.size(2)%kw // 2, x.size(2)%kw // 2,\n",
        "              x.size(1)%kh // 2, x.size(1)%kh // 2,\n",
        "              x.size(0)%kc // 2, x.size(0)%kc // 2))\n",
        "\n",
        "#patches = x.unfold(1, kc, dc).unfold(2, kh, dh).unfold(3, kw, dw)\n",
        "#unfold_shape = patches.size()\n",
        "#patches = patches.contiguous().view(-1, kc, kh, kw)\n",
        "#print(patches.shape)\n",
        "\n",
        "\n",
        "#@suraj: Using our concatanted patches\n",
        "\n",
        "print(\"size of processed T2 patches from model: {}\".format(str(cnct.shape)))\n",
        "\n",
        "#@suraj: Moving the tensor from gpu to cpu\n",
        "patches = cnct.to(device=\"cpu\")\n",
        "\n",
        "# Reshape back\n",
        "patches_orig = patches.view(unfold_shape)\n",
        "output_c = unfold_shape[1] * unfold_shape[4]\n",
        "output_h = unfold_shape[2] * unfold_shape[5]\n",
        "output_w = unfold_shape[3] * unfold_shape[6]\n",
        "print(\"Predicted Shape of the T2 output after stiching : {}\",format(str(patches_orig.shape)))\n",
        "patches_orig = patches_orig.permute(0, 1, 4, 2, 5, 3, 6).contiguous()\n",
        "patches_orig = patches_orig.view(1, output_c, output_h, output_w)\n",
        "\n",
        "print(output_c, output_h, output_w)\n",
        "# Check for equality\n",
        "print((patches_orig == x[:, :output_c, :output_h, :output_w]).all())\n",
        "print(patches_orig.shape)\n",
        "print(\"Actual Shape of the T2 output after stiching : {}\",format(str(patches_orig.shape)))\n",
        "#tensor(1, dtype=torch.uint8)\n"
      ],
      "execution_count": null,
      "outputs": [
        {
          "output_type": "stream",
          "text": [
            "size of T1 tesor before processing and after pading: torch.Size([1, 256, 256, 170])\n",
            "size of processed T2 patches from model: torch.Size([320, 32, 32, 32])\n",
            "Predicted Shape of the T2 output after stiching : {} torch.Size([1, 8, 8, 5, 32, 32, 32])\n",
            "256 256 160\n",
            "tensor(False)\n",
            "torch.Size([1, 256, 256, 160])\n",
            "Actual Shape of the T2 output after stiching : {} torch.Size([1, 256, 256, 160])\n"
          ],
          "name": "stdout"
        }
      ]
    },
    {
      "cell_type": "code",
      "metadata": {
        "id": "vTY3U_5PYN2G",
        "colab_type": "code",
        "colab": {}
      },
      "source": [
        ""
      ],
      "execution_count": null,
      "outputs": []
    }
  ]
}